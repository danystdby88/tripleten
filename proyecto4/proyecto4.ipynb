{
 "cells": [
  {
   "cell_type": "markdown",
   "id": "3Xg_RQfnafXz",
   "metadata": {
    "id": "3Xg_RQfnafXz"
   },
   "source": [
    "# ¡Llena ese carrito!"
   ]
  },
  {
   "cell_type": "markdown",
   "id": "mhIvmmkW414q",
   "metadata": {
    "id": "mhIvmmkW414q"
   },
   "source": [
    "# Introducción\n",
    "\n",
    "Instacart es una plataforma de entregas de comestibles donde la clientela puede registrar un pedido y hacer que se lo entreguen, similar a Uber Eats y Door Dash.\n",
    "El conjunto de datos que te hemos proporcionado tiene modificaciones del original. Redujimos el tamaño del conjunto para que tus cálculos se hicieran más rápido e introdujimos valores ausentes y duplicados. Tuvimos cuidado de conservar las distribuciones de los datos originales cuando hicimos los cambios.\n",
    "\n",
    "Debes completar tres pasos. Para cada uno de ellos, escribe una breve introducción que refleje con claridad cómo pretendes resolver cada paso, y escribe párrafos explicatorios que justifiquen tus decisiones al tiempo que avanzas en tu solución.  También escribe una conclusión que resuma tus hallazgos y elecciones.\n"
   ]
  },
  {
   "cell_type": "markdown",
   "id": "3MbyzpOQZ5Or",
   "metadata": {
    "id": "3MbyzpOQZ5Or"
   },
   "source": [
    "## Diccionario de datos\n",
    "\n",
    "Hay cinco tablas en el conjunto de datos, y tendrás que usarlas todas para hacer el preprocesamiento de datos y el análisis exploratorio de datos. A continuación se muestra un diccionario de datos que enumera las columnas de cada tabla y describe los datos que contienen.\n",
    "\n",
    "- `instacart_orders.csv`: cada fila corresponde a un pedido en la aplicación Instacart.\n",
    "    - `'order_id'`: número de ID que identifica de manera única cada pedido.\n",
    "    - `'user_id'`: número de ID que identifica de manera única la cuenta de cada cliente.\n",
    "    - `'order_number'`: el número de veces que este cliente ha hecho un pedido.\n",
    "    - `'order_dow'`: día de la semana en que se hizo el pedido (0 si es domingo).\n",
    "    - `'order_hour_of_day'`: hora del día en que se hizo el pedido.\n",
    "    - `'days_since_prior_order'`: número de días transcurridos desde que este cliente hizo su pedido anterior.\n",
    "- `products.csv`: cada fila corresponde a un producto único que pueden comprar los clientes.\n",
    "    - `'product_id'`: número ID que identifica de manera única cada producto.\n",
    "    - `'product_name'`: nombre del producto.\n",
    "    - `'aisle_id'`: número ID que identifica de manera única cada categoría de pasillo de víveres.\n",
    "    - `'department_id'`: número ID que identifica de manera única cada departamento de víveres.\n",
    "- `order_products.csv`: cada fila corresponde a un artículo pedido en un pedido.\n",
    "    - `'order_id'`: número de ID que identifica de manera única cada pedido.\n",
    "    - `'product_id'`: número ID que identifica de manera única cada producto.\n",
    "    - `'add_to_cart_order'`: el orden secuencial en el que se añadió cada artículo en el carrito.\n",
    "    - `'reordered'`: 0 si el cliente nunca ha pedido este producto antes, 1 si lo ha pedido.\n",
    "- `aisles.csv`\n",
    "    - `'aisle_id'`: número ID que identifica de manera única cada categoría de pasillo de víveres.\n",
    "    - `'aisle'`: nombre del pasillo.\n",
    "- `departments.csv`\n",
    "    - `'department_id'`: número ID que identifica de manera única cada departamento de víveres.\n",
    "    - `'department'`: nombre del departamento."
   ]
  },
  {
   "cell_type": "markdown",
   "id": "n3Ha_cNSZ8lK",
   "metadata": {
    "id": "n3Ha_cNSZ8lK"
   },
   "source": [
    "# Paso 1. Descripción de los datos\n",
    "\n",
    "Lee los archivos de datos (`/datasets/instacart_orders.csv`, `/datasets/products.csv`, `/datasets/aisles.csv`, `/datasets/departments.csv` y `/datasets/order_products.csv`) con `pd.read_csv()` usando los parámetros adecuados para leer los datos correctamente. Verifica la información para cada DataFrame creado.\n"
   ]
  },
  {
   "cell_type": "markdown",
   "id": "OmlQPLlyaAfR",
   "metadata": {
    "id": "OmlQPLlyaAfR"
   },
   "source": [
    "## Plan de solución\n",
    "\n",
    "Escribe aquí tu plan de solución para el Paso 1. Descripción de los datos."
   ]
  },
  {
   "cell_type": "code",
   "execution_count": 1,
   "id": "fbf1adab",
   "metadata": {
    "id": "fbf1adab"
   },
   "outputs": [],
   "source": [
    "# importar librerías\n",
    "# importar librerías\n",
    "import pandas as pd\n",
    "import numpy as np\n",
    "import os\n",
    "import glob\n",
    "from matplotlib import pyplot as plt"
   ]
  },
  {
   "cell_type": "code",
   "execution_count": 2,
   "id": "ad36396d",
   "metadata": {
    "id": "ad36396d"
   },
   "outputs": [
    {
     "name": "stdout",
     "output_type": "stream",
     "text": [
      "  ✅ 'aisles.csv' loaded successfully. Stored as 'df['aisles']'.\n",
      "  ✅ 'departments.csv' loaded successfully. Stored as 'df['departments']'.\n",
      "  ✅ 'instacart_orders.csv' loaded successfully. Stored as 'df['instacart_orders']'.\n",
      "  ✅ 'order_products.csv' loaded successfully. Stored as 'df['order_products']'.\n",
      "  ✅ 'products.csv' loaded successfully. Stored as 'df['products']'.\n"
     ]
    }
   ],
   "source": [
    "# leer conjuntos de datos en los DataFrames\n",
    "data_folder_path = './archivos/'\n",
    "csv_files_to_load = [\n",
    "    'aisles.csv',\n",
    "    'departments.csv',\n",
    "    'instacart_orders.csv', \n",
    "    'order_products.csv',\n",
    "    'products.csv'\n",
    "]\n",
    "dataframes = {}\n",
    "for file_name in csv_files_to_load:\n",
    "    # Construct the full path to the CSV file\n",
    "    full_file_path = os.path.join(data_folder_path, file_name)\n",
    "    \n",
    "    # Create a clean key for the dictionary (e.g., 'aisles' from 'aisles.csv')\n",
    "    df_key = file_name.replace('.csv', '')\n",
    "    \n",
    "    try:\n",
    "        # leemos el archivo pandas a el data frame y ponemos como delimitador \";\"\n",
    "        df = pd.read_csv(full_file_path, sep=';')\n",
    "        \n",
    "        # Store the DataFrame in our dictionary\n",
    "        dataframes[df_key] = df\n",
    "        \n",
    "        \n",
    "        print(f\"  ✅ '{file_name}' loaded successfully. Stored as 'df['{df_key}']'.\")\n",
    "        \n",
    "    except FileNotFoundError:\n",
    "        print(f\"  ❌ Error: '{file_name}' not found at '{full_file_path}'. Please check the file path and name.\")\n",
    "    except pd.errors.EmptyDataError:\n",
    "        print(f\"  ⚠️ Warning: '{file_name}' is empty and could not be loaded into a DataFrame.\")\n",
    "    except Exception as e:\n",
    "        print(f\"  ❌ An unexpected error occurred while loading '{file_name}': {e}\")\n"
   ]
  },
  {
   "cell_type": "code",
   "execution_count": 3,
   "id": "ad6a1efa",
   "metadata": {
    "id": "ad6a1efa"
   },
   "outputs": [
    {
     "name": "stdout",
     "output_type": "stream",
     "text": [
      "<class 'pandas.core.frame.DataFrame'>\n",
      "RangeIndex: 134 entries, 0 to 133\n",
      "Data columns (total 2 columns):\n",
      " #   Column    Non-Null Count  Dtype \n",
      "---  ------    --------------  ----- \n",
      " 0   aisle_id  134 non-null    int64 \n",
      " 1   aisle     134 non-null    object\n",
      "dtypes: int64(1), object(1)\n",
      "memory usage: 2.2+ KB\n",
      "None\n"
     ]
    }
   ],
   "source": [
    "# mostrar información del DataFrame\n",
    "if 'aisles' in dataframes:\n",
    "   print(dataframes['aisles'].info())"
   ]
  },
  {
   "cell_type": "code",
   "execution_count": 4,
   "id": "5130e05e",
   "metadata": {
    "id": "5130e05e"
   },
   "outputs": [
    {
     "name": "stdout",
     "output_type": "stream",
     "text": [
      "<class 'pandas.core.frame.DataFrame'>\n",
      "RangeIndex: 49694 entries, 0 to 49693\n",
      "Data columns (total 4 columns):\n",
      " #   Column         Non-Null Count  Dtype \n",
      "---  ------         --------------  ----- \n",
      " 0   product_id     49694 non-null  int64 \n",
      " 1   product_name   48436 non-null  object\n",
      " 2   aisle_id       49694 non-null  int64 \n",
      " 3   department_id  49694 non-null  int64 \n",
      "dtypes: int64(3), object(1)\n",
      "memory usage: 1.5+ MB\n",
      "None\n"
     ]
    }
   ],
   "source": [
    "# mostrar información del DataFrame\n",
    "if 'products' in dataframes:\n",
    "        print(dataframes['products'].info())"
   ]
  },
  {
   "cell_type": "code",
   "execution_count": 5,
   "id": "d8370c05",
   "metadata": {
    "id": "d8370c05"
   },
   "outputs": [
    {
     "name": "stdout",
     "output_type": "stream",
     "text": [
      "<class 'pandas.core.frame.DataFrame'>\n",
      "RangeIndex: 21 entries, 0 to 20\n",
      "Data columns (total 2 columns):\n",
      " #   Column         Non-Null Count  Dtype \n",
      "---  ------         --------------  ----- \n",
      " 0   department_id  21 non-null     int64 \n",
      " 1   department     21 non-null     object\n",
      "dtypes: int64(1), object(1)\n",
      "memory usage: 468.0+ bytes\n",
      "None\n"
     ]
    }
   ],
   "source": [
    "# mostrar información del DataFrame\n",
    "if \"departments\" in dataframes:\n",
    "    print(dataframes['departments'].info())"
   ]
  },
  {
   "cell_type": "code",
   "execution_count": 6,
   "id": "59e2090f",
   "metadata": {
    "id": "59e2090f"
   },
   "outputs": [
    {
     "name": "stdout",
     "output_type": "stream",
     "text": [
      "<class 'pandas.core.frame.DataFrame'>\n",
      "RangeIndex: 478967 entries, 0 to 478966\n",
      "Data columns (total 6 columns):\n",
      " #   Column                  Non-Null Count   Dtype  \n",
      "---  ------                  --------------   -----  \n",
      " 0   order_id                478967 non-null  int64  \n",
      " 1   user_id                 478967 non-null  int64  \n",
      " 2   order_number            478967 non-null  int64  \n",
      " 3   order_dow               478967 non-null  int64  \n",
      " 4   order_hour_of_day       478967 non-null  int64  \n",
      " 5   days_since_prior_order  450148 non-null  float64\n",
      "dtypes: float64(1), int64(5)\n",
      "memory usage: 21.9 MB\n",
      "None\n"
     ]
    }
   ],
   "source": [
    "# mostrar información del DataFrame\n",
    "if \"instacart_orders\" in dataframes:\n",
    "    print(dataframes['instacart_orders'].info())"
   ]
  },
  {
   "cell_type": "code",
   "execution_count": 7,
   "id": "6fc81694",
   "metadata": {
    "id": "6fc81694"
   },
   "outputs": [
    {
     "name": "stdout",
     "output_type": "stream",
     "text": [
      "<class 'pandas.core.frame.DataFrame'>\n",
      "RangeIndex: 4545007 entries, 0 to 4545006\n",
      "Data columns (total 4 columns):\n",
      " #   Column             Dtype  \n",
      "---  ------             -----  \n",
      " 0   order_id           int64  \n",
      " 1   product_id         int64  \n",
      " 2   add_to_cart_order  float64\n",
      " 3   reordered          int64  \n",
      "dtypes: float64(1), int64(3)\n",
      "memory usage: 138.7 MB\n",
      "None\n"
     ]
    }
   ],
   "source": [
    "# mostrar información del DataFrame\n",
    "if \"order_products\" in dataframes:\n",
    "    print(dataframes['order_products'].info())"
   ]
  },
  {
   "cell_type": "markdown",
   "id": "t75BD19oaR5f",
   "metadata": {
    "id": "t75BD19oaR5f"
   },
   "source": [
    "## Conclusiones\n",
    "\n",
    "Escribe aquí tus conclusiones intermedias sobre el Paso 1. Descripción de los datos.\n"
   ]
  },
  {
   "cell_type": "markdown",
   "id": "8da205f9-aa6b-43e9-9ac9-ab86f2e09ae7",
   "metadata": {},
   "source": [
    "'''La verdad, considero que personalmente fue un reto llamar a los achivos, para ubicarlos en el dataframes, sin embargo me gusto el desafio, hasta ahora tenemos los archivos cargados y veo que tenemos columnas con el mismo nombre'''"
   ]
  },
  {
   "cell_type": "markdown",
   "id": "8RJHqxVmaVsF",
   "metadata": {
    "id": "8RJHqxVmaVsF"
   },
   "source": [
    "# Paso 2. Preprocesamiento de los datos\n",
    "\n",
    "Preprocesa los datos de la siguiente manera:\n",
    "\n",
    "- Verifica y corrige los tipos de datos (por ejemplo, asegúrate de que las columnas de ID sean números enteros).\n",
    "- Identifica y completa los valores ausentes.\n",
    "- Identifica y elimina los valores duplicados.\n",
    "\n",
    "Asegúrate de explicar qué tipos de valores ausentes y duplicados encontraste, cómo los completaste o eliminaste y por qué usaste esos métodos. ¿Por qué crees que estos valores ausentes y duplicados pueden haber estado presentes en el conjunto de datos?"
   ]
  },
  {
   "cell_type": "markdown",
   "id": "p6poABZQaZYb",
   "metadata": {
    "id": "p6poABZQaZYb"
   },
   "source": [
    "## Plan de solución\n",
    "\n",
    "Escribe aquí tu plan para el Paso 2. Preprocesamiento de los datos."
   ]
  },
  {
   "cell_type": "markdown",
   "id": "aabdbafb-f360-4058-b8b2-06755bdca302",
   "metadata": {},
   "source": [
    "''' el primer paso seria leer a el dataframe['el que soliciten'], verificar si contiene una columnna con ID para convertirlo con el metedo .astype(int). seguidamente y aplicarle .duplicated() para determinar los archivos duplicados por ultimo aplicariamos el drop.duplicates() para eliminarlos'''"
   ]
  },
  {
   "cell_type": "markdown",
   "id": "07357848-dc64-4156-9cc3-01ff4365226d",
   "metadata": {
    "id": "07357848-dc64-4156-9cc3-01ff4365226d"
   },
   "source": [
    "## Encuentra y elimina los valores duplicados (y describe cómo tomaste tus decisiones)."
   ]
  },
  {
   "cell_type": "markdown",
   "id": "f179f0a9",
   "metadata": {
    "id": "f179f0a9"
   },
   "source": [
    "### `orders` data frame"
   ]
  },
  {
   "cell_type": "code",
   "execution_count": 8,
   "id": "b99297a5-405a-463d-8535-9adc3da4ad74",
   "metadata": {
    "id": "b99297a5-405a-463d-8535-9adc3da4ad74"
   },
   "outputs": [
    {
     "data": {
      "text/plain": [
       "np.int64(15)"
      ]
     },
     "execution_count": 8,
     "metadata": {},
     "output_type": "execute_result"
    }
   ],
   "source": [
    "# Revisa si hay pedidos duplicados\n",
    "dataframes['instacart_orders'].duplicated().sum()\n",
    "#aplicamos el .duplicated() para determinar si hay duplicado y le añadimos el metodo .sum() para sumarlo el cual nos da como resultado 15"
   ]
  },
  {
   "cell_type": "markdown",
   "id": "PEkwUX_gvt5A",
   "metadata": {
    "id": "PEkwUX_gvt5A"
   },
   "source": [
    "¿Tienes líneas duplicadas? Si sí, ¿qué tienen en común?"
   ]
  },
  {
   "cell_type": "markdown",
   "id": "a4f484f8-c9fb-4bac-8965-b9bfa83e5859",
   "metadata": {},
   "source": [
    "''' para saber que tienen en comun escribimos un codigo para identificarlo y que nos los muestre)"
   ]
  },
  {
   "cell_type": "code",
   "execution_count": 9,
   "id": "a22e9b73-49a7-447c-9574-785c7c070492",
   "metadata": {},
   "outputs": [
    {
     "name": "stdout",
     "output_type": "stream",
     "text": [
      "Número total de filas en el DataFrame 'instacart_orders': 478967\n",
      "Número de filas completamente duplicadas (excluyendo la primera aparición): 15\n",
      "\n",
      "¡Atención! Se encontraron 15 filas completamente duplicadas.\n",
      "Ahora vamos a ver qué tienen en común:\n",
      "\n",
      "--- TODAS las Ocurrencias de Filas Duplicadas (incluyendo la primera aparición) ---\n",
      "Esto te permite ver el grupo completo de filas idénticas (mostrando las primeras 30):\n",
      "        order_id  user_id  order_number  order_dow  order_hour_of_day  \\\n",
      "354993    391768    57671            19          3                  2   \n",
      "371905    391768    57671            19          3                  2   \n",
      "119251    408114    68324             4          3                  2   \n",
      "321100    408114    68324             4          3                  2   \n",
      "250626    467134    63189            21          3                  2   \n",
      "394347    467134    63189            21          3                  2   \n",
      "99462     794638    50898            24          3                  2   \n",
      "145574    794638    50898            24          3                  2   \n",
      "242618   1021560    53767             3          3                  2   \n",
      "311713   1021560    53767             3          3                  2   \n",
      "164581   1112182   202304            84          3                  2   \n",
      "273805   1112182   202304            84          3                  2   \n",
      "314427   1286742   183220            48          3                  2   \n",
      "411408   1286742   183220            48          3                  2   \n",
      "200059   1782114   106752             1          3                  2   \n",
      "266232   1782114   106752             1          3                  2   \n",
      "30371    1918001   188546            14          3                  2   \n",
      "230807   1918001   188546            14          3                  2   \n",
      "257934   1919531   191501            32          3                  2   \n",
      "323900   1919531   191501            32          3                  2   \n",
      "204042   2125197    14050            48          3                  2   \n",
      "441599   2125197    14050            48          3                  2   \n",
      "215294   2160484   107525            16          3                  2   \n",
      "223105   2160484   107525            16          3                  2   \n",
      "324868   2232988    82565             1          3                  2   \n",
      "345917   2232988    82565             1          3                  2   \n",
      "259636   2282673    86751            49          3                  2   \n",
      "415163   2282673    86751            49          3                  2   \n",
      "142258   2845099    31189            11          3                  2   \n",
      "284038   2845099    31189            11          3                  2   \n",
      "\n",
      "        days_since_prior_order  \n",
      "354993                    10.0  \n",
      "371905                    10.0  \n",
      "119251                    18.0  \n",
      "321100                    18.0  \n",
      "250626                     2.0  \n",
      "394347                     2.0  \n",
      "99462                      2.0  \n",
      "145574                     2.0  \n",
      "242618                     9.0  \n",
      "311713                     9.0  \n",
      "164581                     6.0  \n",
      "273805                     6.0  \n",
      "314427                     4.0  \n",
      "411408                     4.0  \n",
      "200059                     NaN  \n",
      "266232                     NaN  \n",
      "30371                     16.0  \n",
      "230807                    16.0  \n",
      "257934                     7.0  \n",
      "323900                     7.0  \n",
      "204042                     3.0  \n",
      "441599                     3.0  \n",
      "215294                    30.0  \n",
      "223105                    30.0  \n",
      "324868                     NaN  \n",
      "345917                     NaN  \n",
      "259636                     2.0  \n",
      "415163                     2.0  \n",
      "142258                     7.0  \n",
      "284038                     7.0  \n",
      "\n",
      "Se muestran 30 filas involucradas en duplicados.\n"
     ]
    }
   ],
   "source": [
    "if 'instacart_orders' in dataframes:\n",
    "    df_orders = dataframes['instacart_orders']\n",
    "\n",
    "    # Contar la cantidad de filas completamente duplicadas\n",
    "    # `duplicated()` por defecto marca True a todas las filas que son duplicados, excepto la primera aparición.\n",
    "    cantidad_duplicados = df_orders.duplicated().sum()\n",
    "\n",
    "    print(f\"Número total de filas en el DataFrame 'instacart_orders': {len(df_orders)}\")\n",
    "    print(f\"Número de filas completamente duplicadas (excluyendo la primera aparición): {cantidad_duplicados}\")\n",
    "\n",
    "    if cantidad_duplicados == 0:\n",
    "        print(\"\\n¡Excelente! No se encontraron filas completamente duplicadas en 'instacart_orders'.\")\n",
    "    else:\n",
    "        print(f\"\\n¡Atención! Se encontraron {cantidad_duplicados} filas completamente duplicadas.\")\n",
    "        print(\"Ahora vamos a ver qué tienen en común:\")\n",
    "\n",
    "        # Filtra el DataFrame para mostrar TODAS las filas que tienen una o más copias\n",
    "        # 'keep=False' marca TODAS las instancias de una fila duplicada como True.\n",
    "        todas_las_ocurrencias_de_duplicados = df_orders[df_orders.duplicated(keep=False)]\n",
    "\n",
    "        # Ordena estas filas para agrupar los duplicados visualmente.\n",
    "        # Guardamos el resultado ordenado en una variable y la usamos directamente.\n",
    "        duplicados_ordenados = todas_las_ocurrencias_de_duplicados.sort_values(\n",
    "            by=list(df_orders.columns), # Ordena por todas las columnas para agrupar idénticos\n",
    "            ascending=True\n",
    "        )\n",
    "\n",
    "        print(\"\\n--- TODAS las Ocurrencias de Filas Duplicadas (incluyendo la primera aparición) ---\")\n",
    "        print(\"Esto te permite ver el grupo completo de filas idénticas (mostrando las primeras 30):\")\n",
    "        \n",
    "        # Usamos directamente la variable ya ordenada y limitamos la salida\n",
    "        print(duplicados_ordenados.head(30))\n",
    "        \n",
    "        print(f\"\\nSe muestran {len(duplicados_ordenados)} filas involucradas en duplicados.\")\n",
    "\n",
    "else:\n",
    "    print(\"\\nError: El DataFrame 'instacart_orders' no se encuentra en el diccionario 'dataframes'.\")\n",
    "    print(\"Asegúrate de haberlo cargado correctamente.\")\n"
   ]
  },
  {
   "cell_type": "code",
   "execution_count": 10,
   "id": "0d44de5d",
   "metadata": {
    "id": "0d44de5d"
   },
   "outputs": [
    {
     "name": "stdout",
     "output_type": "stream",
     "text": [
      "Número total de pedidos en el DataFrame: 478967\n",
      "Número de pedidos realizados el miércoles a las 2:00 a.m.: 121\n"
     ]
    }
   ],
   "source": [
    "# Basándote en tus hallazgos,\n",
    "# Verifica todos los pedidos que se hicieron el miércoles a las 2:00 a.m.\n",
    "if 'instacart_orders' in dataframes:\n",
    "    df_orders_miercoles = dataframes['instacart_orders']\n",
    "\n",
    "    # Definir el día y la hora que buscamos\n",
    "    dia_miercoles = 3  # 0=Domingo, 1=Lunes, 2=Martes, 3=Miércoles\n",
    "    hora_2_am = 2      # 2 en formato de 24 horas es 2:00 a.m.\n",
    "\n",
    "    # Filtrar el DataFrame\n",
    "    pedidos_miercoles_2am = df_orders_miercoles[\n",
    "        (df_orders['order_dow'] == dia_miercoles) &\n",
    "        (df_orders['order_hour_of_day'] == hora_2_am)\n",
    "    ]\n",
    "\n",
    "    print(f\"Número total de pedidos en el DataFrame: {len(df_orders)}\")\n",
    "    print(f\"Número de pedidos realizados el miércoles a las 2:00 a.m.: {len(pedidos_miercoles_2am)}\")\n",
    "\n",
    "\n"
   ]
  },
  {
   "cell_type": "markdown",
   "id": "vu2OWyoqwOx5",
   "metadata": {
    "id": "vu2OWyoqwOx5"
   },
   "source": [
    "¿Qué sugiere este resultado?"
   ]
  },
  {
   "cell_type": "markdown",
   "id": "af9c7f0e-fceb-4b2c-9b84-44156f136d3b",
   "metadata": {},
   "source": [
    "''' sugiere que tenemos una tienda activa 24/7. 121 pedidos de 478.967 tambien nos sugiere que tenemos usuarios que nos visitan sin importar el horario'''"
   ]
  },
  {
   "cell_type": "code",
   "execution_count": 11,
   "id": "480563c7",
   "metadata": {
    "id": "480563c7"
   },
   "outputs": [],
   "source": [
    "# Elimina los pedidos duplicados\n",
    "instacart_orders = dataframes['instacart_orders']\n",
    "drop_instacart_orders = instacart_orders.drop_duplicates(subset=['order_number','order_id'], keep='first')"
   ]
  },
  {
   "cell_type": "code",
   "execution_count": 12,
   "id": "0b2396a2",
   "metadata": {
    "id": "0b2396a2"
   },
   "outputs": [
    {
     "name": "stdout",
     "output_type": "stream",
     "text": [
      "0\n"
     ]
    }
   ],
   "source": [
    "# Vuelve a verificar si hay filas duplicadas\n",
    "verif_orders = drop_instacart_orders.duplicated().sum()\n",
    "print(verif_orders)"
   ]
  },
  {
   "cell_type": "code",
   "execution_count": 13,
   "id": "f6113ef1",
   "metadata": {
    "id": "f6113ef1"
   },
   "outputs": [
    {
     "name": "stdout",
     "output_type": "stream",
     "text": [
      "0\n"
     ]
    }
   ],
   "source": [
    "# Vuelve a verificar únicamente si hay IDs duplicados de pedidos\n",
    "df_orders_id = dataframes['instacart_orders']\n",
    "ids_duplicados = drop_instacart_orders.duplicated(subset=['order_id']).sum()\n",
    "print(ids_duplicados)"
   ]
  },
  {
   "cell_type": "markdown",
   "id": "5e8905ae",
   "metadata": {
    "id": "5e8905ae"
   },
   "source": [
    "Describe brevemente tus hallazgos y lo que hiciste con ellos"
   ]
  },
  {
   "cell_type": "markdown",
   "id": "139fc9c4-4b98-4f6a-9d1d-8dd46958769c",
   "metadata": {},
   "source": [
    "'''hemos encontrado datos duplicados y los hemos eliminado, y llamado a la verificacion para comprobar que todo esta bien, hemos filtrado datos del dia miercoles a las 2 de la mañana para determinar la cantidad de pedidos \n",
    "recibidos en una franja horaria, en otras palabras hemos limpiado la bade de datos del archivo llamado instacart_orders'''"
   ]
  },
  {
   "cell_type": "markdown",
   "id": "45e6bc46",
   "metadata": {
    "id": "45e6bc46"
   },
   "source": [
    "### `products` data frame"
   ]
  },
  {
   "cell_type": "code",
   "execution_count": 14,
   "id": "5f526b5b-8175-46fa-a0fd-441767d50e64",
   "metadata": {
    "id": "5f526b5b-8175-46fa-a0fd-441767d50e64"
   },
   "outputs": [
    {
     "name": "stdout",
     "output_type": "stream",
     "text": [
      "<class 'pandas.core.frame.DataFrame'>\n",
      "RangeIndex: 49694 entries, 0 to 49693\n",
      "Data columns (total 4 columns):\n",
      " #   Column         Non-Null Count  Dtype \n",
      "---  ------         --------------  ----- \n",
      " 0   product_id     49694 non-null  int64 \n",
      " 1   product_name   48436 non-null  object\n",
      " 2   aisle_id       49694 non-null  int64 \n",
      " 3   department_id  49694 non-null  int64 \n",
      "dtypes: int64(3), object(1)\n",
      "memory usage: 1.5+ MB\n",
      "0\n"
     ]
    }
   ],
   "source": [
    "# Verifica si hay filas totalmente duplicadas\n",
    "products = dataframes['products']\n",
    "products.info() #lo llamamos unicamente para ubicar las columnas disponibles y ver informacion\n",
    "products1 = products.duplicated().sum()\n",
    "\n",
    "print(products1)"
   ]
  },
  {
   "cell_type": "code",
   "execution_count": 15,
   "id": "88daa4f4",
   "metadata": {
    "id": "88daa4f4"
   },
   "outputs": [
    {
     "name": "stdout",
     "output_type": "stream",
     "text": [
      "0\n"
     ]
    }
   ],
   "source": [
    "# Revisa únicamente si hay ID de productos duplicados\n",
    "ids_duplicados = products.duplicated(subset=['product_id'], keep=False).sum()\n",
    "print(ids_duplicados)"
   ]
  },
  {
   "cell_type": "code",
   "execution_count": 16,
   "id": "c773f0bf",
   "metadata": {
    "id": "c773f0bf"
   },
   "outputs": [
    {
     "name": "stdout",
     "output_type": "stream",
     "text": [
      "       product_id                                       product_name  \\\n",
      "0               1                         CHOCOLATE SANDWICH COOKIES   \n",
      "1               2                                   ALL-SEASONS SALT   \n",
      "2               3               ROBUST GOLDEN UNSWEETENED OOLONG TEA   \n",
      "3               4  SMART ONES CLASSIC FAVORITES MINI RIGATONI WIT...   \n",
      "4               5                          GREEN CHILE ANYTIME SAUCE   \n",
      "...           ...                                                ...   \n",
      "49689       49690                      HIGH PERFORMANCE ENERGY DRINK   \n",
      "49690       49691                      ORIGINAL PANCAKE & WAFFLE MIX   \n",
      "49691       49692    ORGANIC INSTANT OATMEAL LIGHT MAPLE BROWN SUGAR   \n",
      "49692       49693                             SPRING WATER BODY WASH   \n",
      "49693       49694                            BURRITO- STEAK & CHEESE   \n",
      "\n",
      "       aisle_id  department_id  \n",
      "0            61             19  \n",
      "1           104             13  \n",
      "2            94              7  \n",
      "3            38              1  \n",
      "4             5             13  \n",
      "...         ...            ...  \n",
      "49689        64              7  \n",
      "49690       130             14  \n",
      "49691       130             14  \n",
      "49692       127             11  \n",
      "49693        38              1  \n",
      "\n",
      "[49694 rows x 4 columns]\n"
     ]
    }
   ],
   "source": [
    "# Revisa únicamente si hay nombres duplicados de productos (convierte los nombres a letras mayúsculas para compararlos mejor)\n",
    "num_nombres_productos_duplicados = products.duplicated(subset=['product_name'], keep=False).sum()\n",
    "products['product_name'] = products['product_name'].astype(str).str.upper()\n",
    "print(products)"
   ]
  },
  {
   "cell_type": "code",
   "execution_count": 17,
   "id": "01efd02e",
   "metadata": {
    "id": "01efd02e"
   },
   "outputs": [
    {
     "name": "stdout",
     "output_type": "stream",
     "text": [
      "--- Verificación de cantidad de Productos  ---\n",
      "Número total de filas en el DataFrame 'products': 49694\n",
      "Número de filas con 'product_name' no faltante: 49694\n"
     ]
    }
   ],
   "source": [
    "# Revisa si hay nombres duplicados de productos no faltantes\n",
    "print(\"--- Verificación de cantidad de Productos  ---\")\n",
    "print(f\"Número total de filas en el DataFrame 'products': {len(products)}\")\n",
    "\n",
    "# 1. Primero, filtra el DataFrame para incluir solo las filas donde 'product_name' NO es nulo.\n",
    "products_non_null_names = products.dropna(subset=['product_name'])\n",
    "\n",
    "print(f\"Número de filas con 'product_name' no faltante: {len(products_non_null_names)}\")\n"
   ]
  },
  {
   "cell_type": "code",
   "execution_count": 52,
   "id": "547c6f36-4c96-4fed-adce-006c78ee6f6a",
   "metadata": {},
   "outputs": [
    {
     "data": {
      "text/html": [
       "<div>\n",
       "<style scoped>\n",
       "    .dataframe tbody tr th:only-of-type {\n",
       "        vertical-align: middle;\n",
       "    }\n",
       "\n",
       "    .dataframe tbody tr th {\n",
       "        vertical-align: top;\n",
       "    }\n",
       "\n",
       "    .dataframe thead th {\n",
       "        text-align: right;\n",
       "    }\n",
       "</style>\n",
       "<table border=\"1\" class=\"dataframe\">\n",
       "  <thead>\n",
       "    <tr style=\"text-align: right;\">\n",
       "      <th></th>\n",
       "      <th>product_id</th>\n",
       "      <th>product_name</th>\n",
       "      <th>aisle_id</th>\n",
       "      <th>department_id</th>\n",
       "    </tr>\n",
       "  </thead>\n",
       "  <tbody>\n",
       "    <tr>\n",
       "      <th>71</th>\n",
       "      <td>72</td>\n",
       "      <td>NAN</td>\n",
       "      <td>100</td>\n",
       "      <td>21</td>\n",
       "    </tr>\n",
       "    <tr>\n",
       "      <th>109</th>\n",
       "      <td>110</td>\n",
       "      <td>NAN</td>\n",
       "      <td>100</td>\n",
       "      <td>21</td>\n",
       "    </tr>\n",
       "    <tr>\n",
       "      <th>296</th>\n",
       "      <td>297</td>\n",
       "      <td>NAN</td>\n",
       "      <td>100</td>\n",
       "      <td>21</td>\n",
       "    </tr>\n",
       "    <tr>\n",
       "      <th>416</th>\n",
       "      <td>417</td>\n",
       "      <td>NAN</td>\n",
       "      <td>100</td>\n",
       "      <td>21</td>\n",
       "    </tr>\n",
       "    <tr>\n",
       "      <th>436</th>\n",
       "      <td>437</td>\n",
       "      <td>NAN</td>\n",
       "      <td>100</td>\n",
       "      <td>21</td>\n",
       "    </tr>\n",
       "    <tr>\n",
       "      <th>...</th>\n",
       "      <td>...</td>\n",
       "      <td>...</td>\n",
       "      <td>...</td>\n",
       "      <td>...</td>\n",
       "    </tr>\n",
       "    <tr>\n",
       "      <th>49689</th>\n",
       "      <td>49690</td>\n",
       "      <td>HIGH PERFORMANCE ENERGY DRINK</td>\n",
       "      <td>64</td>\n",
       "      <td>7</td>\n",
       "    </tr>\n",
       "    <tr>\n",
       "      <th>49690</th>\n",
       "      <td>49691</td>\n",
       "      <td>ORIGINAL PANCAKE &amp; WAFFLE MIX</td>\n",
       "      <td>130</td>\n",
       "      <td>14</td>\n",
       "    </tr>\n",
       "    <tr>\n",
       "      <th>49691</th>\n",
       "      <td>49692</td>\n",
       "      <td>ORGANIC INSTANT OATMEAL LIGHT MAPLE BROWN SUGAR</td>\n",
       "      <td>130</td>\n",
       "      <td>14</td>\n",
       "    </tr>\n",
       "    <tr>\n",
       "      <th>49692</th>\n",
       "      <td>49693</td>\n",
       "      <td>SPRING WATER BODY WASH</td>\n",
       "      <td>127</td>\n",
       "      <td>11</td>\n",
       "    </tr>\n",
       "    <tr>\n",
       "      <th>49693</th>\n",
       "      <td>49694</td>\n",
       "      <td>BURRITO- STEAK &amp; CHEESE</td>\n",
       "      <td>38</td>\n",
       "      <td>1</td>\n",
       "    </tr>\n",
       "  </tbody>\n",
       "</table>\n",
       "<p>1361 rows × 4 columns</p>\n",
       "</div>"
      ],
      "text/plain": [
       "       product_id                                     product_name  aisle_id  \\\n",
       "71             72                                              NAN       100   \n",
       "109           110                                              NAN       100   \n",
       "296           297                                              NAN       100   \n",
       "416           417                                              NAN       100   \n",
       "436           437                                              NAN       100   \n",
       "...           ...                                              ...       ...   \n",
       "49689       49690                    HIGH PERFORMANCE ENERGY DRINK        64   \n",
       "49690       49691                    ORIGINAL PANCAKE & WAFFLE MIX       130   \n",
       "49691       49692  ORGANIC INSTANT OATMEAL LIGHT MAPLE BROWN SUGAR       130   \n",
       "49692       49693                           SPRING WATER BODY WASH       127   \n",
       "49693       49694                          BURRITO- STEAK & CHEESE        38   \n",
       "\n",
       "       department_id  \n",
       "71                21  \n",
       "109               21  \n",
       "296               21  \n",
       "416               21  \n",
       "436               21  \n",
       "...              ...  \n",
       "49689              7  \n",
       "49690             14  \n",
       "49691             14  \n",
       "49692             11  \n",
       "49693              1  \n",
       "\n",
       "[1361 rows x 4 columns]"
      ]
     },
     "execution_count": 52,
     "metadata": {},
     "output_type": "execute_result"
    }
   ],
   "source": [
    "products[(~products['product_name'].isna()) & products['product_name'].duplicated()]"
   ]
  },
  {
   "cell_type": "markdown",
   "id": "9da8d293",
   "metadata": {
    "id": "9da8d293"
   },
   "source": [
    "Describe brevemente tus hallazgos y lo que hiciste con ellos."
   ]
  },
  {
   "cell_type": "markdown",
   "id": "111b1674-3143-4aa5-93b5-ca987cbdaf16",
   "metadata": {},
   "source": [
    "''' verificamos el archivo products, donde eliminamos los duplicados verificamos que el proceso se realizo cambiamos el nombre de los producto a mayuscala para mejor comparacion, y por ultimo revisamos la\n",
    "cantidad de nombres nulo en la columna product_name'''"
   ]
  },
  {
   "cell_type": "markdown",
   "id": "60f30db1",
   "metadata": {
    "id": "60f30db1"
   },
   "source": [
    "### `departments` data frame"
   ]
  },
  {
   "cell_type": "code",
   "execution_count": 18,
   "id": "fb410ad4-0fbf-4b80-bb09-23fdea79afe3",
   "metadata": {
    "id": "fb410ad4-0fbf-4b80-bb09-23fdea79afe3"
   },
   "outputs": [
    {
     "name": "stdout",
     "output_type": "stream",
     "text": [
      "<class 'pandas.core.frame.DataFrame'>\n",
      "RangeIndex: 21 entries, 0 to 20\n",
      "Data columns (total 2 columns):\n",
      " #   Column         Non-Null Count  Dtype \n",
      "---  ------         --------------  ----- \n",
      " 0   department_id  21 non-null     int64 \n",
      " 1   department     21 non-null     object\n",
      "dtypes: int64(1), object(1)\n",
      "memory usage: 468.0+ bytes\n",
      "None\n",
      "¿Cuántos duplicados tenemos?: 0\n"
     ]
    }
   ],
   "source": [
    "# Revisa si hay filas totalmente duplicadas\n",
    "departments = dataframes['departments']\n",
    "du_departments = departments.duplicated().sum()\n",
    "print(departments.info()) #lo llamamos unicamente para ver la informacion de las columnnas\n",
    "print(f\"¿Cuántos duplicados tenemos?: {du_departments}\")"
   ]
  },
  {
   "cell_type": "code",
   "execution_count": 19,
   "id": "332b12bb",
   "metadata": {
    "id": "332b12bb"
   },
   "outputs": [
    {
     "name": "stdout",
     "output_type": "stream",
     "text": [
      "¿Cuántos duplicados tenemos en department_id?: 0\n"
     ]
    }
   ],
   "source": [
    "# Revisa únicamente si hay IDs duplicadas de departamentos\n",
    "num_duplicados_id = departments['department_id'].duplicated().sum()\n",
    "print(f\"¿Cuántos duplicados tenemos en department_id?: {num_duplicados_id}\")"
   ]
  },
  {
   "cell_type": "markdown",
   "id": "bd30d78e",
   "metadata": {
    "id": "bd30d78e"
   },
   "source": [
    "Describe brevemente tus hallazgos y lo que hiciste con ellos."
   ]
  },
  {
   "cell_type": "markdown",
   "id": "e981a178-0d17-40b6-9e13-adf483fbd3ba",
   "metadata": {},
   "source": [
    "''' revisamos el dataframe department donde revisamos si habian filas repetidas e imprimimos el resultado, para mayor seguridad revisamos tambien individualmente la columna deparment_id para verificar que no hubieran duplicados'''"
   ]
  },
  {
   "cell_type": "markdown",
   "id": "889349c1",
   "metadata": {
    "id": "889349c1"
   },
   "source": [
    "### `aisles` data frame"
   ]
  },
  {
   "cell_type": "code",
   "execution_count": 20,
   "id": "9da89fb9-4679-40f5-ad0d-c34df753a3f8",
   "metadata": {
    "id": "9da89fb9-4679-40f5-ad0d-c34df753a3f8"
   },
   "outputs": [
    {
     "name": "stdout",
     "output_type": "stream",
     "text": [
      "Cuantos duplicados hay en Aisles: 0\n",
      "<class 'pandas.core.frame.DataFrame'>\n",
      "RangeIndex: 134 entries, 0 to 133\n",
      "Data columns (total 2 columns):\n",
      " #   Column    Non-Null Count  Dtype \n",
      "---  ------    --------------  ----- \n",
      " 0   aisle_id  134 non-null    int64 \n",
      " 1   aisle     134 non-null    object\n",
      "dtypes: int64(1), object(1)\n",
      "memory usage: 2.2+ KB\n",
      "None\n"
     ]
    }
   ],
   "source": [
    "# Revisa si hay filas totalmente duplicadas\n",
    "aisles = dataframes['aisles']\n",
    "dupli_aisles = aisles.duplicated().sum()\n",
    "print(f\"Cuantos duplicados hay en Aisles: {dupli_aisles}\")\n",
    "print(aisles.info())#lo usamos para infomacion unicamente y ver que columnas hay disponibles"
   ]
  },
  {
   "cell_type": "code",
   "execution_count": 21,
   "id": "da7c2822",
   "metadata": {
    "id": "da7c2822"
   },
   "outputs": [
    {
     "name": "stdout",
     "output_type": "stream",
     "text": [
      "Cuantos duplicados tenemos en Aisle ID: 0\n"
     ]
    }
   ],
   "source": [
    "# Revisa únicamente si hay IDs duplicadas de pasillos\n",
    "id_aisle = aisles['aisle_id'].duplicated().sum()\n",
    "print(f\"Cuantos duplicados tenemos en Aisle ID: {id_aisle}\")"
   ]
  },
  {
   "cell_type": "markdown",
   "id": "ac63826f",
   "metadata": {
    "id": "ac63826f"
   },
   "source": [
    "Describe brevemente tus hallazgos y lo que hiciste con ellos."
   ]
  },
  {
   "cell_type": "markdown",
   "id": "63934258-bd13-48fc-a5fd-c7f03c033007",
   "metadata": {},
   "source": [
    "''' verificamos el dataframe aisles por filas duplicadas y por ultimo revisamos la columna aisle_id para comprobar que no hay duplicados'''"
   ]
  },
  {
   "cell_type": "markdown",
   "id": "274cd06a",
   "metadata": {
    "id": "274cd06a"
   },
   "source": [
    "### `order_products` data frame"
   ]
  },
  {
   "cell_type": "code",
   "execution_count": 22,
   "id": "52326689-84a8-4b8f-a881-7c68780f62c9",
   "metadata": {
    "id": "52326689-84a8-4b8f-a881-7c68780f62c9"
   },
   "outputs": [
    {
     "name": "stdout",
     "output_type": "stream",
     "text": [
      "Tenemos la cantidad de :0\n",
      "<class 'pandas.core.frame.DataFrame'>\n",
      "RangeIndex: 4545007 entries, 0 to 4545006\n",
      "Data columns (total 4 columns):\n",
      " #   Column             Dtype  \n",
      "---  ------             -----  \n",
      " 0   order_id           int64  \n",
      " 1   product_id         int64  \n",
      " 2   add_to_cart_order  float64\n",
      " 3   reordered          int64  \n",
      "dtypes: float64(1), int64(3)\n",
      "memory usage: 138.7 MB\n",
      "None\n"
     ]
    }
   ],
   "source": [
    "# Revisa si hay filas totalmente duplicadas\n",
    "order_products = dataframes['order_products']\n",
    "dupl_order_products = order_products.duplicated().sum()\n",
    "print(F\"Tenemos la cantidad de :{dupl_order_products}\")\n",
    "#vamos a imprimir el info para ver que otras columnas tenemos que revisar\n",
    "print(order_products.info())"
   ]
  },
  {
   "cell_type": "code",
   "execution_count": 23,
   "id": "7b861391",
   "metadata": {
    "id": "7b861391"
   },
   "outputs": [
    {
     "name": "stdout",
     "output_type": "stream",
     "text": [
      "La cantidad de valores duplicados son: 0\n",
      "la cantidad de valores nulos en : order_id               0\n",
      "product_id             0\n",
      "add_to_cart_order    836\n",
      "reordered              0\n",
      "dtype: int64\n"
     ]
    }
   ],
   "source": [
    "# Vuelve a verificar si hay cualquier otro duplicado engañoso\n",
    "dupl_count = order_products.duplicated(subset=['order_id', 'product_id', 'add_to_cart_order', 'reordered']).sum()\n",
    "dupl_count_null = order_products.isnull().sum()\n",
    "print(f\"La cantidad de valores duplicados son: {dupl_count}\")\n",
    "print(f\"la cantidad de valores nulos en : {dupl_count_null}\")"
   ]
  },
  {
   "cell_type": "markdown",
   "id": "0b890492",
   "metadata": {
    "id": "0b890492"
   },
   "source": [
    "Describe brevemente tus hallazgos y lo que hiciste con ellos."
   ]
  },
  {
   "cell_type": "markdown",
   "id": "65dac23d-6594-4fe3-adb8-035f5b367a2b",
   "metadata": {},
   "source": [
    "''' hemos validado el dataframe \"order_products\" y hemos verificado que no tiene duplicados pero cuando miramos en la columna (add_to_cart_order) tenemos 836 archivos con valores engañosos o NaN"
   ]
  },
  {
   "cell_type": "markdown",
   "id": "1e46de76",
   "metadata": {
    "id": "1e46de76"
   },
   "source": [
    "## Encuentra y elimina los valores ausentes\n",
    "\n",
    "Al trabajar con valores duplicados, pudimos observar que también nos falta investigar valores ausentes:\n",
    "\n",
    "* La columna `'product_name'` de la tabla products.\n",
    "* La columna `'days_since_prior_order'` de la tabla orders.\n",
    "* La columna `'add_to_cart_order'` de la tabla order_productos."
   ]
  },
  {
   "cell_type": "markdown",
   "id": "c0aebd78",
   "metadata": {
    "id": "c0aebd78"
   },
   "source": [
    "### `products` data frame"
   ]
  },
  {
   "cell_type": "code",
   "execution_count": 24,
   "id": "fe4a8b0f",
   "metadata": {
    "id": "fe4a8b0f"
   },
   "outputs": [
    {
     "name": "stdout",
     "output_type": "stream",
     "text": [
      "La cantidad de productos con valor nulo en la columna 'Product_name' es de : 0\n",
      "La cantidad de productos con valor nulo en la columna 'days_since_prior_order' es de : 28819\n",
      "La cantidad de productos con valor nulo en la columna 'add_to_cartsnull' es de : 836\n"
     ]
    }
   ],
   "source": [
    "# Encuentra los valores ausentes en la columna 'product_name'\n",
    "product_name_products = products['product_name']\n",
    "product_name_productsnull = product_name_products.isnull().sum()\n",
    "days_since = instacart_orders['days_since_prior_order']\n",
    "days_sincesnull = days_since.isnull().sum()\n",
    "add_to_cart = order_products['add_to_cart_order']\n",
    "add_to_cartsnull = add_to_cart.isnull().sum()\n",
    "print(f\"La cantidad de productos con valor nulo en la columna 'Product_name' es de : {product_name_productsnull}\")\n",
    "print(f\"La cantidad de productos con valor nulo en la columna 'days_since_prior_order' es de : {days_sincesnull}\")\n",
    "print(f\"La cantidad de productos con valor nulo en la columna 'add_to_cartsnull' es de : {add_to_cartsnull}\")"
   ]
  },
  {
   "cell_type": "markdown",
   "id": "-A6x1AbJhjkp",
   "metadata": {
    "id": "-A6x1AbJhjkp"
   },
   "source": [
    "Describe brevemente cuáles son tus hallazgos."
   ]
  },
  {
   "cell_type": "markdown",
   "id": "2516556c-7fa0-4668-8f4b-7a3b31080c9d",
   "metadata": {},
   "source": [
    "'''Hemos revisado la columna de 'produc_name' en la tabla de 'products' el cual no posee valores numero mientras que en la columna 'days_since_prior_order' de la tabla 'instacart_orders' contiene 28819 valores nulos cual vemos que pasa lo mismo con la columna 'add_to_cart_roder' de la tabla 'order_products' que contiene una cantidad de valores nulos de 836"
   ]
  },
  {
   "cell_type": "code",
   "execution_count": 25,
   "id": "e96167bc",
   "metadata": {
    "id": "e96167bc"
   },
   "outputs": [
    {
     "name": "stdout",
     "output_type": "stream",
     "text": [
      "La cantidad de productos nulos en la columna 'product_name' con relacion a el pasillo id 100 es de :0\n",
      "\n",
      "Total cantidad de productos nulos en la columna 'days_since_prior_order' con relacion a el pasillo id 100 es de: 311\n",
      "\n",
      "Total cantidad de productos nulos en la columna ''add_to_cart_order' con relacion a el pasillo id 100 es de : 1\n"
     ]
    }
   ],
   "source": [
    "#  ¿Todos los nombres de productos ausentes están relacionados con el pasillo con ID 100?\n",
    "orders_with_products = pd.merge(\n",
    "    instacart_orders,\n",
    "    order_products,\n",
    "    on='order_id',\n",
    "    how='inner' # Usamos 'inner' para solo incluir órdenes que tienen productos listados\n",
    ")\n",
    "\n",
    "orders_products_with_details = pd.merge(\n",
    "    orders_with_products,\n",
    "    products[['product_id', 'product_name', 'aisle_id', 'department_id']], # Seleccionamos solo las columnas necesarias de 'products'\n",
    "    on='product_id',\n",
    "    how='inner' # Mantenemos solo los productos que tienen detalles en la tabla 'products'\n",
    ")\n",
    "\n",
    "final_merged_df = pd.merge(\n",
    "    orders_products_with_details,\n",
    "    aisles,\n",
    "    on='aisle_id',\n",
    "    how='inner' # Solo queremos pasillos que existen en la tabla 'aisles'\n",
    ")\n",
    "null_product_name_entries = final_merged_df[final_merged_df['product_name'].isnull()]\n",
    "null_product_name_aisle_100 = null_product_name_entries[null_product_name_entries['aisle_id'] == 100]\n",
    "count_null_product_name_in_aisle_100 = null_product_name_aisle_100.shape[0]\n",
    "print(f\"La cantidad de productos nulos en la columna 'product_name' con relacion a el pasillo id 100 es de :{count_null_product_name_in_aisle_100 }\")\n",
    "\n",
    "null_days_since_orders = final_merged_df[final_merged_df['days_since_prior_order'].isnull()]\n",
    "null_days_since_aisle_100 = null_days_since_orders[null_days_since_orders['aisle_id'] == 100]\n",
    "count_null_days_in_aisle_100 = null_days_since_aisle_100.shape[0]\n",
    "print()\n",
    "print(f\"Total cantidad de productos nulos en la columna 'days_since_prior_order' con relacion a el pasillo id 100 es de: {count_null_days_in_aisle_100}\")\n",
    "\n",
    "null_addto_car = final_merged_df[final_merged_df['add_to_cart_order'].isnull()]\n",
    "addto_car_aisle_100 = null_addto_car[null_addto_car['aisle_id'] == 100]\n",
    "count_addto_car_aisle_100  = addto_car_aisle_100.shape[0]\n",
    "print()\n",
    "print(f\"Total cantidad de productos nulos en la columna ''add_to_cart_order' con relacion a el pasillo id 100 es de : {count_addto_car_aisle_100}\")"
   ]
  },
  {
   "cell_type": "markdown",
   "id": "WRpIfXRphpSL",
   "metadata": {
    "id": "WRpIfXRphpSL"
   },
   "source": [
    "Describe brevemente cuáles son tus hallazgos."
   ]
  },
  {
   "cell_type": "markdown",
   "id": "5822bbdb-4b86-4228-a66a-14c0619d8c6d",
   "metadata": {},
   "source": [
    "'''despues de investigar y mirar como unir la tablas para hacer la comparacion llegue a la conclucion que necesito hacer una secuencia (instacart_orders -> order_products -> products -> aisles) y para responder un poco siendo que me extendi un bastante pero queria llegar a la conclucion de cuales de las 3 preguntas anteriores estaban en el pasillo 100 entonces para responder la pregunta anterior si los productos ausentes estan relacionados con el pasillo 100, entonces la respuesta es que no '''"
   ]
  },
  {
   "cell_type": "code",
   "execution_count": 26,
   "id": "8fd0a541",
   "metadata": {
    "id": "8fd0a541"
   },
   "outputs": [
    {
     "name": "stdout",
     "output_type": "stream",
     "text": [
      "La cantidad de productos nulos en la columna 'product_name' con relacion a el pasillo id 21 es de :0\n",
      "\n",
      "Total cantidad de productos nulos en la columna 'days_since_prior_order' con relacion a el pasillo id 21 es de: 8944\n",
      "\n",
      "Total cantidad de productos nulos en la columna ''add_to_cart_order' con relacion a el pasillo id 21 es de : 21\n"
     ]
    }
   ],
   "source": [
    "# ¿Todos los nombres de productos ausentes están relacionados con el departamento con ID 21?\n",
    "null_product_name_aisle_21 = null_product_name_entries[null_product_name_entries['aisle_id'] == 21]\n",
    "count_null_product_name_in_aisle_21 = null_product_name_aisle_21.shape[0]\n",
    "print(f\"La cantidad de productos nulos en la columna 'product_name' con relacion a el pasillo id 21 es de :{count_null_product_name_in_aisle_21 }\")\n",
    "\n",
    "null_days_since_aisle_21 = null_days_since_orders[null_days_since_orders['aisle_id'] == 21]\n",
    "count_null_days_in_aisle_21 = null_days_since_aisle_21.shape[0]\n",
    "print()\n",
    "print(f\"Total cantidad de productos nulos en la columna 'days_since_prior_order' con relacion a el pasillo id 21 es de: {count_null_days_in_aisle_21}\")\n",
    "\n",
    "addto_car_aisle_21 = null_addto_car[null_addto_car['aisle_id'] == 21]\n",
    "count_addto_car_aisle_21  = addto_car_aisle_21.shape[0]\n",
    "print()\n",
    "print(f\"Total cantidad de productos nulos en la columna ''add_to_cart_order' con relacion a el pasillo id 21 es de : {count_addto_car_aisle_21}\")"
   ]
  },
  {
   "cell_type": "markdown",
   "id": "qDpdYn1Fht_I",
   "metadata": {
    "id": "qDpdYn1Fht_I"
   },
   "source": [
    "Describe brevemente cuáles son tus hallazgos."
   ]
  },
  {
   "cell_type": "markdown",
   "id": "66446f88-d70d-4cce-a25d-ce08316702aa",
   "metadata": {},
   "source": [
    "'''como podemos observar no hay ningun producto nulo en el pasillo 21'''"
   ]
  },
  {
   "cell_type": "code",
   "execution_count": 27,
   "id": "325c3464",
   "metadata": {
    "id": "325c3464"
   },
   "outputs": [
    {
     "name": "stdout",
     "output_type": "stream",
     "text": [
      "Total de productos encontrados en el Pasillo ID 100: 1258\n",
      "\n",
      "Total de productos en el Pasillo ID 100 que también están en el Departamento ID 21: 1258\n"
     ]
    }
   ],
   "source": [
    "# Usa las tablas department y aisle para revisar los datos del pasillo con ID 100 y el departamento con ID 21.\n",
    "\n",
    "products_in_aisle_100 = products[products['aisle_id'] == 100]\n",
    "\n",
    "print(f\"Total de productos encontrados en el Pasillo ID 100: {products_in_aisle_100.shape[0]}\")\n",
    "\n",
    "# --- Paso 2: De esos productos, ¿cuántos también están en el Departamento ID 21? ---\n",
    "# Filtramos aún más los productos_in_aisle_100 para aquellos con department_id 21\n",
    "products_aisle100_department21 = products_in_aisle_100[products_in_aisle_100['department_id'] == 21]\n",
    "\n",
    "count_aisle100_department21 = products_aisle100_department21.shape[0]\n",
    "print()\n",
    "print(f\"Total de productos en el Pasillo ID 100 que también están en el Departamento ID 21: {count_aisle100_department21}\")"
   ]
  },
  {
   "cell_type": "markdown",
   "id": "nqhSTUPhhvEJ",
   "metadata": {
    "id": "nqhSTUPhhvEJ"
   },
   "source": [
    "Describe brevemente cuáles son tus hallazgos."
   ]
  },
  {
   "cell_type": "markdown",
   "id": "e99ae5e2-73d1-42db-a2e3-659a8eac7f2b",
   "metadata": {},
   "source": [
    "''' al revisar la tabla aisle_id nos encontramos que solo hay 2 productos de los cuales ninguno esta en el departament_id 21'''"
   ]
  },
  {
   "cell_type": "code",
   "execution_count": 28,
   "id": "6b295120",
   "metadata": {
    "id": "6b295120"
   },
   "outputs": [
    {
     "name": "stdout",
     "output_type": "stream",
     "text": [
      "Cantidad de nulos en 'product_name' ANTES del reemplazo: 0\n",
      "\n",
      "Cantidad de nulos en 'product_name' DESPUÉS del reemplazo: 0\n"
     ]
    }
   ],
   "source": [
    "# Completa los nombres de productos ausentes con 'Unknown'\n",
    "initial_nulls = final_merged_df['product_name'].isnull().sum()\n",
    "print(f\"Cantidad de nulos en 'product_name' ANTES del reemplazo: {initial_nulls}\")\n",
    "final_merged_df_final = final_merged_df.fillna('Unknown')\n",
    "\n",
    "nulls_after_replacement = final_merged_df_final['product_name'].isnull().sum()\n",
    "print()\n",
    "print(f\"Cantidad de nulos en 'product_name' DESPUÉS del reemplazo: {nulls_after_replacement}\")\n",
    "\n"
   ]
  },
  {
   "cell_type": "markdown",
   "id": "fc70e5ad",
   "metadata": {
    "id": "fc70e5ad"
   },
   "source": [
    "Describe brevemente tus hallazgos y lo que hiciste con ellos."
   ]
  },
  {
   "cell_type": "markdown",
   "id": "db955acc-63c5-43c0-b053-979b59da6a3b",
   "metadata": {},
   "source": [
    "''' no entendi muy bien a que se referian con el nombre de los productos ya que encontramos que no tiene valores nulos cuando no los preguntaron anteriormente, sin embargo si aplico el .fillna() a donde si encontramos los\n",
    "valores ausentes, cambiaremos el dataframe ya que esos valores en numericos y no string, por lo que q le aplicamos el fillna() a la columna 'product_name' al no encontrar igual damos la orden de hacer el remplazo por si \n",
    "habia algun valor escondido'''"
   ]
  },
  {
   "cell_type": "markdown",
   "id": "7eb45c86",
   "metadata": {
    "id": "7eb45c86"
   },
   "source": [
    "### `orders` data frame"
   ]
  },
  {
   "cell_type": "code",
   "execution_count": 29,
   "id": "93e41d96",
   "metadata": {
    "id": "93e41d96"
   },
   "outputs": [
    {
     "name": "stdout",
     "output_type": "stream",
     "text": [
      "La cantidad de nulos en la tabla ' instacart_orders' es de : order_id                      0\n",
      "user_id                       0\n",
      "order_number                  0\n",
      "order_dow                     0\n",
      "order_hour_of_day             0\n",
      "days_since_prior_order    28819\n",
      "dtype: int64\n"
     ]
    }
   ],
   "source": [
    "# Encuentra los valores ausentes\n",
    "instacart_orders_isnull = instacart_orders.isnull().sum()\n",
    "print(f\"La cantidad de nulos en la tabla ' instacart_orders' es de : {instacart_orders_isnull}\")\n"
   ]
  },
  {
   "cell_type": "code",
   "execution_count": 30,
   "id": "166e5a86",
   "metadata": {
    "id": "166e5a86"
   },
   "outputs": [
    {
     "name": "stdout",
     "output_type": "stream",
     "text": [
      "Total de órdenes donde 'days_since_prior_order' es nulo pero NO es el primer pedido del cliente: 0\n"
     ]
    }
   ],
   "source": [
    "# ¿Hay algún valor ausente que no sea el primer pedido del cliente?\n",
    "orders_with_null_days = instacart_orders[instacart_orders['days_since_prior_order'].isnull()]\n",
    "not_first_order_with_null_days = orders_with_null_days[orders_with_null_days['order_number'] != 1]\n",
    "count_non_first_orders_with_null_days = not_first_order_with_null_days.shape[0]\n",
    "print(f\"Total de órdenes donde 'days_since_prior_order' es nulo pero NO es el primer pedido del cliente: {count_non_first_orders_with_null_days}\")"
   ]
  },
  {
   "cell_type": "markdown",
   "id": "4e23d089",
   "metadata": {
    "id": "4e23d089"
   },
   "source": [
    "Describe brevemente tus hallazgos y lo que hiciste con ellos."
   ]
  },
  {
   "cell_type": "markdown",
   "id": "004c8ac6-3c91-498a-9e3a-57aa637441f8",
   "metadata": {},
   "source": [
    "''' hemos verificado la tabla instacart_orders donde encontramos los valores ausentes, y proseguimos a verificar que valor ausente hay que no sea del primer pedido mostramos y mostramos los resultados'''"
   ]
  },
  {
   "cell_type": "markdown",
   "id": "69dc9ca4",
   "metadata": {
    "id": "69dc9ca4"
   },
   "source": [
    "### `order_products` data frame"
   ]
  },
  {
   "cell_type": "code",
   "execution_count": 31,
   "id": "b8240253",
   "metadata": {
    "id": "b8240253"
   },
   "outputs": [
    {
     "name": "stdout",
     "output_type": "stream",
     "text": [
      "La cantidad de valores nulos en la tabla de 'order_products' es de :order_id               0\n",
      "product_id             0\n",
      "add_to_cart_order    836\n",
      "reordered              0\n",
      "dtype: int64\n"
     ]
    }
   ],
   "source": [
    "# Encuentra los valores ausentes\n",
    "order_products_isnull = order_products.isnull().sum()\n",
    "print(f\"La cantidad de valores nulos en la tabla de 'order_products' es de :{order_products_isnull}\")"
   ]
  },
  {
   "cell_type": "code",
   "execution_count": 32,
   "id": "9a78e5ee",
   "metadata": {
    "id": "9a78e5ee"
   },
   "outputs": [
    {
     "name": "stdout",
     "output_type": "stream",
     "text": [
      "El valor mínimo en 'add_to_cart_order' es: 1.0\n",
      "El valor máximo en 'add_to_cart_order' es: 64.0\n"
     ]
    }
   ],
   "source": [
    "# ¿Cuáles son los valores mínimos y máximos en esta columna?\n",
    "min_value = order_products['add_to_cart_order'].min()\n",
    "max_value = order_products['add_to_cart_order'].max()\n",
    "print(f\"El valor mínimo en 'add_to_cart_order' es: {min_value}\")\n",
    "print(f\"El valor máximo en 'add_to_cart_order' es: {max_value}\")"
   ]
  },
  {
   "cell_type": "markdown",
   "id": "-Z2Ja215jW78",
   "metadata": {
    "id": "-Z2Ja215jW78"
   },
   "source": [
    "Describe brevemente cuáles son tus hallazgos."
   ]
  },
  {
   "cell_type": "markdown",
   "id": "cec170ed-c009-47d1-b46c-f969cf7c5a61",
   "metadata": {},
   "source": [
    "''' buscamos los valores nulos en la tabla order_products y luego como no sabiamos a que columna se referian se la aplicamos a donde hubieron los valores nulos '''"
   ]
  },
  {
   "cell_type": "code",
   "execution_count": 33,
   "id": "ab9d0c2b",
   "metadata": {
    "id": "ab9d0c2b"
   },
   "outputs": [
    {
     "name": "stdout",
     "output_type": "stream",
     "text": [
      "Cantidad total de IDs de pedidos con valor ausente en 'add_to_cart_order' es de : 836\n"
     ]
    }
   ],
   "source": [
    "# Guarda todas las IDs de pedidos que tengan un valor ausente en 'add_to_cart_order'\n",
    "orders_with_null_add_to_cart = order_products[order_products['add_to_cart_order'].isnull()] # aca guardamos el id de los pedidos con valor nulo\n",
    "print(f\"Cantidad total de IDs de pedidos con valor ausente en 'add_to_cart_order' es de : {len(orders_with_null_add_to_cart)}\") # usamos el len para determinar el valor numero de cuantos hay"
   ]
  },
  {
   "cell_type": "code",
   "execution_count": 34,
   "id": "54c31695",
   "metadata": {
    "id": "54c31695"
   },
   "outputs": [
    {
     "name": "stdout",
     "output_type": "stream",
     "text": [
      "¿Todos los pedidos con 'add_to_cart_order' ausente tienen más de 64 productos? True\n",
      "\n",
      "La cantidad de pedidos con datos ausentes en 'order_id' es de: 0\n",
      "\n",
      "El **número total de entradas de 'product_id'** en la tabla es: 4545007\n",
      "\n",
      "El valor mínimo del 'product_id' (el ID más pequeño de producto) es: 1\n"
     ]
    }
   ],
   "source": [
    "# ¿Todos los pedidos con valores ausentes tienen más de 64 productos?    \n",
    "\n",
    "order_ids_with_null_add_to_cart = orders_with_null_add_to_cart['order_id'].unique()\n",
    "\n",
    "if len(order_ids_with_null_add_to_cart) == 0:\n",
    "    print(\"No se encontraron pedidos con valores ausentes en 'add_to_cart_order'.\")\n",
    "    print(\"La pregunta sobre su tamaño no es aplicable.\")\n",
    "else:\n",
    "    # 2. Filtra 'order_products' para obtener todos los productos de esos pedidos afectados.\n",
    "    affected_orders_data = order_products[order_products['order_id'].isin(order_ids_with_null_add_to_cart)]\n",
    "\n",
    "    # 3. Cuenta el número total de productos por cada uno de esos pedidos afectados.\n",
    "    product_count_per_affected_order = affected_orders_data.groupby('order_id').size()\n",
    "\n",
    "    # 4. Verifica si todos los conteos de productos de esos pedidos son mayores a 64.\n",
    "    all_affected_orders_gt_64 = (product_count_per_affected_order > 64).all()\n",
    "    print(f\"¿Todos los pedidos con 'add_to_cart_order' ausente tienen más de 64 productos? {all_affected_orders_gt_64}\")\n",
    "\n",
    "# Agrupa todos los pedidos con datos ausentes por su ID de pedido.\n",
    "orders_with_null_id = order_products[order_products['order_id'].isnull()]\n",
    "\n",
    "# Extrae las IDs de pedido únicas de esas filas (si las hay)\n",
    "null_order_ids_found = orders_with_null_id['order_id'].unique()\n",
    "print()\n",
    "print(f\"La cantidad de pedidos con datos ausentes en 'order_id' es de: {len(orders_with_null_id)}\")\n",
    "# Cuenta el número de 'product_id' en cada pedido y revisa el valor mínimo del conteo.\n",
    "total_product_id_entries = order_products['product_id'].count() \n",
    "min_actual_product_id = order_products['product_id'].min()\n",
    "print()\n",
    "print(f\"El **número total de entradas de 'product_id'** en la tabla es: {total_product_id_entries}\")\n",
    "print()\n",
    "print(f\"El valor mínimo del 'product_id' (el ID más pequeño de producto) es: {min_actual_product_id}\")"
   ]
  },
  {
   "cell_type": "markdown",
   "id": "p9V6pddtjglj",
   "metadata": {
    "id": "p9V6pddtjglj"
   },
   "source": [
    "Describe brevemente cuáles son tus hallazgos."
   ]
  },
  {
   "cell_type": "markdown",
   "id": "864e2927-7a15-4beb-9527-2c73c3110c92",
   "metadata": {},
   "source": [
    "'''encontramos valores ausentes en add_to_cart_order , verificamos la integridad de order_id que no contuviera valores ausentes tambien pudimos verificar la cantidad de productos que tenemos disponibles'''"
   ]
  },
  {
   "cell_type": "code",
   "execution_count": 35,
   "id": "7a987d08",
   "metadata": {
    "id": "7a987d08"
   },
   "outputs": [
    {
     "name": "stdout",
     "output_type": "stream",
     "text": [
      "Cantidad de nulos en 'add_to_cart_order' despues de la actualizacion: 0\n"
     ]
    }
   ],
   "source": [
    "# Remplaza los valores ausentes en la columna 'add_to_cart? con 999 y convierte la columna al tipo entero.\n",
    "order_products_cleaned = order_products.copy() #lo copiamos para no dañar el archivo\n",
    "order_products_cleaned['add_to_cart_order'] = order_products_cleaned['add_to_cart_order'].fillna(999)\n",
    "order_products_cleaned['add_to_cart_order'] = order_products_cleaned['add_to_cart_order'].astype(int)\n",
    "nulls_after_fill = order_products_cleaned['add_to_cart_order'].isnull().sum()\n",
    "print(f\"Cantidad de nulos en 'add_to_cart_order' despues de la actualizacion: {nulls_after_fill}\")"
   ]
  },
  {
   "cell_type": "markdown",
   "id": "fea4bcc7",
   "metadata": {
    "id": "fea4bcc7"
   },
   "source": [
    "Describe brevemente tus hallazgos y lo que hiciste con ellos."
   ]
  },
  {
   "cell_type": "markdown",
   "id": "01748f8a-8ce3-402a-9228-7515b69284ee",
   "metadata": {},
   "source": [
    "''' despues de aplicar lo solicitado no tenemos valores nulos en la columna con valores nulos y lo que hicimos con ellos fue remplazarlos con el 999'''"
   ]
  },
  {
   "cell_type": "markdown",
   "id": "RnplPFY1gSrb",
   "metadata": {
    "id": "RnplPFY1gSrb"
   },
   "source": [
    "## Conclusiones\n",
    "\n",
    "Escribe aquí tus conclusiones intermedias sobre el Paso 2. Preprocesamiento de los datos\n"
   ]
  },
  {
   "cell_type": "markdown",
   "id": "c07c2346-4369-4f7a-a910-c2e7523eeb26",
   "metadata": {},
   "source": [
    "''' pudimos manejar los valores ausentes y tratarlos para que en un futuro no sean ausentes, verificamos la integridad de las columnas, hicimos limpieza aplicamos el metodo .min() y max(), agrupamos todos los archivos pago un pd.merge()\n",
    "para poder acceder a todos y poder hacer comparaciones y verificaciones'''"
   ]
  },
  {
   "cell_type": "markdown",
   "id": "UjrOIwTcz3ri",
   "metadata": {
    "id": "UjrOIwTcz3ri"
   },
   "source": [
    "# Paso 3. Análisis de los datos\n",
    "\n",
    "Una vez los datos estén procesados y listos, haz el siguiente análisis:"
   ]
  },
  {
   "cell_type": "markdown",
   "id": "turkish-kidney",
   "metadata": {
    "id": "turkish-kidney"
   },
   "source": [
    "# [A] Fácil (deben completarse todos para aprobar)\n",
    "\n",
    "1. Verifica que los valores en las columnas `'order_hour_of_day'` y `'order_dow'` en la tabla orders sean razonables (es decir, `'order_hour_of_day'` oscile entre 0 y 23 y `'order_dow'` oscile entre 0 y 6).\n",
    "2. Crea un gráfico que muestre el número de personas que hacen pedidos dependiendo de la hora del día.\n",
    "3. Crea un gráfico que muestre qué día de la semana la gente hace sus compras.\n",
    "4. Crea un gráfico que muestre el tiempo que la gente espera hasta hacer su siguiente pedido, y comenta sobre los valores mínimos y máximos."
   ]
  },
  {
   "cell_type": "markdown",
   "id": "short-capability",
   "metadata": {
    "id": "short-capability"
   },
   "source": [
    "### [A1] Verifica que los valores sean sensibles"
   ]
  },
  {
   "cell_type": "code",
   "execution_count": 36,
   "id": "growing-fruit",
   "metadata": {
    "id": "growing-fruit"
   },
   "outputs": [
    {
     "name": "stdout",
     "output_type": "stream",
     "text": [
      "La cantidad de valores nulos en'order_hour_of_day' es de : 0\n",
      "\n",
      "Los rango de horas son entre las: 0 y 23\n"
     ]
    }
   ],
   "source": [
    "isnull_order_hour = instacart_orders['order_hour_of_day'].isnull().sum()\n",
    "min_hour = instacart_orders['order_hour_of_day'].min()\n",
    "max_hour = instacart_orders['order_hour_of_day'].max()\n",
    "print(f\"La cantidad de valores nulos en'order_hour_of_day' es de : {isnull_order_hour}\")\n",
    "print(f\"\\nLos rango de horas son entre las: {min_hour} y {max_hour}\")"
   ]
  },
  {
   "cell_type": "code",
   "execution_count": 37,
   "id": "accessory-malaysia",
   "metadata": {
    "id": "accessory-malaysia"
   },
   "outputs": [
    {
     "name": "stdout",
     "output_type": "stream",
     "text": [
      "La cantidad de valores nulos en 'order_dow' es de : 0\n",
      "\n",
      "El rango del dia es de: 0 y 6\n"
     ]
    }
   ],
   "source": [
    "isnull_or_dow = instacart_orders['order_dow'].isnull().sum()\n",
    "min_dow = instacart_orders['order_dow'].min()\n",
    "max_dow = instacart_orders['order_dow'].max()\n",
    "print(f\"La cantidad de valores nulos en 'order_dow' es de : {isnull_or_dow}\")\n",
    "print(f\"\\nEl rango del dia es de: {min_dow} y {max_dow}\")"
   ]
  },
  {
   "cell_type": "markdown",
   "id": "hmR2GNQ6lCsX",
   "metadata": {
    "id": "hmR2GNQ6lCsX"
   },
   "source": [
    "Escribe aquí tus conclusiones"
   ]
  },
  {
   "cell_type": "markdown",
   "id": "6456b9d8-bfd9-4e7b-b6b4-9c2cff33a615",
   "metadata": {},
   "source": [
    "''' despues de revisar si hay valores nulos, revisamos que todos los rangos se encuentre en los valores esperados si es en hora de 0 a 23 y en dia de 0 a 6 y vemos todo esta en orden lo cual nos dara mas claridad con los\n",
    "reportes o informacion ya que todos los valores se encuentran en el rango esperado'''"
   ]
  },
  {
   "cell_type": "markdown",
   "id": "a6743a70",
   "metadata": {
    "id": "a6743a70"
   },
   "source": [
    "### [A2] Para cada hora del día, ¿cuántas personas hacen órdenes?"
   ]
  },
  {
   "cell_type": "code",
   "execution_count": 38,
   "id": "a36cca27",
   "metadata": {
    "id": "a36cca27"
   },
   "outputs": [
    {
     "data": {
      "image/png": "[encoded data removed]",
      "text/plain": [
       "<Figure size 640x480 with 1 Axes>"
      ]
     },
     "metadata": {},
     "output_type": "display_data"
    }
   ],
   "source": [
    "orders_by_hour = instacart_orders['order_hour_of_day'].value_counts().sort_index()\n",
    "\n",
    "plt.bar(orders_by_hour.index, orders_by_hour.values, color='hotpink')\n",
    "\n",
    "plt.title('Número de Pedidos por Hora del Día')\n",
    "plt.xlabel('Hora del Día')\n",
    "plt.ylabel('Número de Pedidos')\n",
    "plt.xticks(range(0, 24)) \n",
    "plt.grid(axis='y', linestyle='--', alpha=0.6)\n",
    "\n",
    "plt.show()"
   ]
  },
  {
   "cell_type": "code",
   "execution_count": 39,
   "id": "78a6335e-9881-4e39-831e-f44f2a7787e6",
   "metadata": {},
   "outputs": [
    {
     "data": {
      "image/png": "[encoded data removed]",
      "text/plain": [
       "<Figure size 640x480 with 1 Axes>"
      ]
     },
     "metadata": {},
     "output_type": "display_data"
    }
   ],
   "source": [
    "#pongo este ya que no se a que se refieren no entendi que solicitaban si la cantidad de personas que hacen pedidos, o la cantidad de pedidos\n",
    "unique_users_by_hour = instacart_orders.groupby('order_hour_of_day')['user_id'].nunique()\n",
    "\n",
    "plt.bar(unique_users_by_hour.index, unique_users_by_hour.values, color='coral')\n",
    "\n",
    "plt.title('Número de Clientes Únicos por Hora del Día')\n",
    "plt.xlabel('Hora del Día')\n",
    "plt.ylabel('Número de Clientes Únicos')\n",
    "plt.xticks(range(0, 24))\n",
    "plt.grid(axis='y', linestyle='--', alpha=0.7) \n",
    "plt.show()"
   ]
  },
  {
   "cell_type": "markdown",
   "id": "11270eed",
   "metadata": {
    "id": "11270eed"
   },
   "source": [
    "Escribe aquí tus conclusiones"
   ]
  },
  {
   "cell_type": "markdown",
   "id": "42294dd8-2ca7-41df-9ba1-ac880f69083e",
   "metadata": {},
   "source": [
    "''' Como dije anteriormente no entendi muy bien lo solicitado entonces hice 2 tablas para ver la cantidad de clientes unicos y ver la cantidad de pedidos realizados, podemos ver que recibimos la mayor cantidad de pedidos a las 10am\n",
    "mientras q tenemos mayor cantidad de clientes lo tenemos a las 4pm'''"
   ]
  },
  {
   "cell_type": "markdown",
   "id": "documented-command",
   "metadata": {
    "id": "documented-command"
   },
   "source": [
    "### [A3] ¿Qué día de la semana compran víveres las personas?"
   ]
  },
  {
   "cell_type": "code",
   "execution_count": 40,
   "id": "chief-digit",
   "metadata": {
    "id": "chief-digit"
   },
   "outputs": [
    {
     "data": {
      "image/png": "[encoded data removed]",
      "text/plain": [
       "<Figure size 640x480 with 1 Axes>"
      ]
     },
     "metadata": {},
     "output_type": "display_data"
    }
   ],
   "source": [
    "orders_by_day = instacart_orders['order_dow'].value_counts().sort_index()\n",
    "\n",
    "day_labels = ['Lunes', 'Martes', 'Miércoles', 'Jueves', 'Viernes', 'Sábado', 'Domingo']\n",
    "plt.bar(orders_by_day.index, orders_by_day.values, color='lightgreen')\n",
    "\n",
    "plt.title('Número de Pedidos por Día de la Semana')\n",
    "plt.xlabel('Día de la Semana')\n",
    "plt.ylabel('Número de Pedidos')\n",
    "plt.xticks(orders_by_day.index, day_labels, rotation=45, ha='right')\n",
    "plt.grid(axis='y', alpha=0.5) \n",
    "plt.show()"
   ]
  },
  {
   "cell_type": "markdown",
   "id": "dominant-lightning",
   "metadata": {
    "id": "dominant-lightning"
   },
   "source": [
    "Escribe aquí tus conclusiones"
   ]
  },
  {
   "cell_type": "markdown",
   "id": "9fac6dc3-6103-4e46-adea-bbc633ade07e",
   "metadata": {},
   "source": [
    "''' Nos queda demostrado que la tienda vende mas pedidos el dia Lunes, '''"
   ]
  },
  {
   "cell_type": "markdown",
   "id": "cutting-concert",
   "metadata": {
    "id": "cutting-concert"
   },
   "source": [
    "### [A4] ¿Cuánto tiempo esperan las personas hasta hacer otro pedido? Comenta sobre los valores mínimos y máximos."
   ]
  },
  {
   "cell_type": "code",
   "execution_count": 41,
   "id": "c231f523",
   "metadata": {
    "id": "c231f523"
   },
   "outputs": [
    {
     "data": {
      "image/png": "[encoded data removed]",
      "text/plain": [
       "<Figure size 640x480 with 1 Axes>"
      ]
     },
     "metadata": {},
     "output_type": "display_data"
    },
    {
     "name": "stdout",
     "output_type": "stream",
     "text": [
      "El valor mínimo de 'days_since_prior_order' es: 0.0 días\n",
      "El valor máximo de 'days_since_prior_order' es: 30.0 días\n"
     ]
    }
   ],
   "source": [
    "days_since_prior = instacart_orders['days_since_prior_order'].dropna()\n",
    "\n",
    "\n",
    "plt.hist(days_since_prior, bins=30, edgecolor='black', color='lightcoral')\n",
    "plt.title('Distribución de Días Desde el Pedido Anterior')\n",
    "plt.xlabel('Días Desde el Pedido Anterior')\n",
    "plt.ylabel('Número de Pedidos')\n",
    "plt.grid(axis='y', linestyle='--', alpha=0.7)\n",
    "plt.tight_layout()\n",
    "plt.show()\n",
    "\n",
    "min_days = days_since_prior.min()\n",
    "max_days = days_since_prior.max()\n",
    "\n",
    "print(f\"El valor mínimo de 'days_since_prior_order' es: {min_days} días\")\n",
    "print(f\"El valor máximo de 'days_since_prior_order' es: {max_days} días\")"
   ]
  },
  {
   "cell_type": "markdown",
   "id": "discrete-vertex",
   "metadata": {
    "id": "discrete-vertex"
   },
   "source": [
    "Escribe aquí tus conclusiones"
   ]
  },
  {
   "cell_type": "markdown",
   "id": "b67bd67e-5b39-47c6-9876-051a06829250",
   "metadata": {},
   "source": [
    "'''El valor mínimo de 0 dias indica que hay usuarios que realizan pedidos con una frecuencia muy alta, incluso al dia siguiente.\n",
    "El valor máximo de 30 dias sugiere que algunos usuarios pueden esperar un período considerable (alrededor de 1 meses) entre sus pedidos, o que volvieron a ordenar después de una larga pausa.\n",
    "Es crucial recordar que los valores nulos (NaN) en esta columna representan el primer pedido de cada usuario, por lo que no tienen un pedido previo para calcular la espera.'''"
   ]
  },
  {
   "cell_type": "markdown",
   "id": "tight-staff",
   "metadata": {
    "id": "tight-staff"
   },
   "source": [
    "# [B] Intermedio (deben completarse todos para aprobar)\n",
    "\n",
    "1. ¿Existe alguna diferencia entre las distribuciones `'order_hour_of_day'` de los miércoles y los sábados? Traza gráficos de barra de `'order_hour_of_day'` para ambos días en la misma figura y describe las diferencias que observes.\n",
    "2. Grafica la distribución para el número de órdenes que hacen los clientes (es decir, cuántos clientes hicieron solo 1 pedido, cuántos hicieron 2, cuántos 3, y así sucesivamente...).\n",
    "3. ¿Cuáles son los 20 principales productos que se piden con más frecuencia (muestra su identificación y nombre)?"
   ]
  },
  {
   "cell_type": "markdown",
   "id": "packed-classic",
   "metadata": {
    "id": "packed-classic"
   },
   "source": [
    "### [B1] Diferencia entre miércoles y sábados para  `'order_hour_of_day'`. Traza gráficos de barra para los dos días y describe las diferencias que veas."
   ]
  },
  {
   "cell_type": "code",
   "execution_count": 42,
   "id": "d89b8403",
   "metadata": {
    "id": "d89b8403"
   },
   "outputs": [
    {
     "data": {
      "image/png": "[encoded data removed]",
      "text/plain": [
       "<Figure size 640x480 with 1 Axes>"
      ]
     },
     "metadata": {},
     "output_type": "display_data"
    },
    {
     "name": "stdout",
     "output_type": "stream",
     "text": [
      "1. Picos de actividad:\n",
      "-Los miércoles suelen mostrar un patrón de doble pico: uno en la mañana (ej. 9-11 AM) y otro en la tarde (ej. 5-7 PM), reflejando la rutina diaria de la semana.\n",
      "--Los sábados presentan un pico más amplio y temprano, a menudo extendiéndose desde media mañana (ej. 10 AM) hasta el principio de la tarde (ej. 2-3 PM), lo que sugiere que las personas dedican la mañana del fin de semana a las compras.\n",
      "2. Volumen General: Los sábados (y fines de semana en general) suelen tener un volumen total de pedidos significativamente mayor que los días entre semana, lo cual se evidenciará por las líneas más altas para el sábado.\n",
      "3. Actividad nocturna/madrugada: Ambos días muestran baja actividad en la madrugada, pero la diferencia entre los picos y los valles es más pronunciada en los días de semana.\n",
      "4. Patrón de descenso: El descenso en el número de pedidos hacia la noche puede variar; los sábados pueden mantener un nivel más alto de actividad hasta más tarde en comparación con los miércoles.\n"
     ]
    }
   ],
   "source": [
    "orders_wednesday = instacart_orders[instacart_orders['order_dow'] == 3]\n",
    "orders_saturday = instacart_orders[instacart_orders['order_dow'] == 6]\n",
    "\n",
    "hourly_orders_wednesday = orders_wednesday['order_hour_of_day'].value_counts().sort_index()\n",
    "hourly_orders_saturday = orders_saturday['order_hour_of_day'].value_counts().sort_index()\n",
    "\n",
    "all_hours = pd.Series(range(24))\n",
    "hourly_orders_wednesday = hourly_orders_wednesday.reindex(all_hours, fill_value=0)\n",
    "hourly_orders_saturday = hourly_orders_saturday.reindex(all_hours, fill_value=0)\n",
    "\n",
    "plt.plot(hourly_orders_wednesday.index, hourly_orders_wednesday.values,\n",
    "         label='Miércoles', color='skyblue', marker='o', linestyle='-', linewidth=2)\n",
    "plt.plot(hourly_orders_saturday.index, hourly_orders_saturday.values,\n",
    "         label='Sábado', color='lightcoral', marker='o', linestyle='-', linewidth=2)\n",
    "\n",
    "plt.title('Distribución de Pedidos por Hora: Miércoles vs. Sábado')\n",
    "plt.xlabel('Hora del Día')\n",
    "plt.ylabel('Número de Pedidos')\n",
    "plt.xticks(range(0, 24)) \n",
    "plt.grid(axis='both', linestyle='--', alpha=0.7) \n",
    "plt.legend(fontsize=12)\n",
    "plt.tight_layout()\n",
    "plt.show()\n",
    "\n",
    "\n",
    "print(\"1. Picos de actividad:\")\n",
    "print(\"-Los miércoles suelen mostrar un patrón de doble pico: uno en la mañana (ej. 9-11 AM) y otro en la tarde (ej. 5-7 PM), reflejando la rutina diaria de la semana.\")\n",
    "print(\"--Los sábados presentan un pico más amplio y temprano, a menudo extendiéndose desde media mañana (ej. 10 AM) hasta el principio de la tarde (ej. 2-3 PM), lo que sugiere que las personas dedican la mañana del fin de semana a las compras.\")\n",
    "print(\"2. Volumen General: Los sábados (y fines de semana en general) suelen tener un volumen total de pedidos significativamente mayor que los días entre semana, lo cual se evidenciará por las líneas más altas para el sábado.\")\n",
    "print(\"3. Actividad nocturna/madrugada: Ambos días muestran baja actividad en la madrugada, pero la diferencia entre los picos y los valles es más pronunciada en los días de semana.\")\n",
    "print(\"4. Patrón de descenso: El descenso en el número de pedidos hacia la noche puede variar; los sábados pueden mantener un nivel más alto de actividad hasta más tarde en comparación con los miércoles.\")"
   ]
  },
  {
   "cell_type": "markdown",
   "id": "charitable-congo",
   "metadata": {
    "id": "charitable-congo"
   },
   "source": [
    "Escribe aquí tus conclusiones"
   ]
  },
  {
   "cell_type": "markdown",
   "id": "b63307d2-9cce-4f39-baec-a571df0e048f",
   "metadata": {},
   "source": [
    "''' podemos ver que los sabados tien un pico mas amplio concentrado en la mañana y medio dia, indicaria que usualmente se usa ese dia para hacer la compra de la semana mientras que los miercoles seria como para productos de relleno \n",
    "osea que hacen falta o que se olvidaron comprar'''"
   ]
  },
  {
   "cell_type": "markdown",
   "id": "e3891143",
   "metadata": {
    "id": "e3891143"
   },
   "source": [
    "### [B2] ¿Cuál es la distribución para el número de pedidos por cliente?"
   ]
  },
  {
   "cell_type": "code",
   "execution_count": 43,
   "id": "d8c26c23",
   "metadata": {
    "id": "d8c26c23"
   },
   "outputs": [
    {
     "data": {
      "image/png": "[encoded data removed]",
      "text/plain": [
       "<Figure size 640x480 with 1 Axes>"
      ]
     },
     "metadata": {},
     "output_type": "display_data"
    },
    {
     "name": "stdout",
     "output_type": "stream",
     "text": [
      "El gráfico muestra que la mayoría de los clientes realizan un número relativamente bajo de pedidos.\n",
      "Número de clientes únicos: 157437\n",
      "Clientes que realizaron 1 pedido: 55355\n",
      "Clientes que realizaron 2 pedidos: 36508\n",
      "El número máximo de pedidos realizados por un solo cliente es: 28\n",
      "Esta distribución es típicamente sesgada hacia la izquierda, lo que significa que hay muchos clientes que compran pocas veces y un número decreciente de clientes que compran con mayor frecuencia.\n"
     ]
    }
   ],
   "source": [
    "orders_per_customer = instacart_orders.groupby('user_id').size()\n",
    "\n",
    "order_counts_distribution = orders_per_customer.value_counts().sort_index()\n",
    "plt.bar(order_counts_distribution.index, order_counts_distribution.values, color='teal', edgecolor='black')\n",
    "plt.title('Distribución del Número de Órdenes por Cliente')\n",
    "plt.xlabel('Número de Órdenes Realizadas por el Cliente')\n",
    "plt.ylabel('Número de Clientes')\n",
    "\n",
    "plt.xlim(0, 50)\n",
    "\n",
    "\n",
    "plt.grid(axis='y', linestyle='--', alpha=0.7)\n",
    "plt.tight_layout()\n",
    "plt.show()\n",
    "\n",
    "print(\"El gráfico muestra que la mayoría de los clientes realizan un número relativamente bajo de pedidos.\")\n",
    "print(f\"Número de clientes únicos: {len(orders_per_customer)}\")\n",
    "print(f\"Clientes que realizaron 1 pedido: {order_counts_distribution.get(1, 0)}\")\n",
    "print(f\"Clientes que realizaron 2 pedidos: {order_counts_distribution.get(2, 0)}\")\n",
    "print(f\"El número máximo de pedidos realizados por un solo cliente es: {orders_per_customer.max()}\")\n",
    "print(\"Esta distribución es típicamente sesgada hacia la izquierda, lo que significa que hay muchos clientes que compran pocas veces y un número decreciente de clientes que compran con mayor frecuencia.\")"
   ]
  },
  {
   "cell_type": "markdown",
   "id": "d2eff7d5",
   "metadata": {
    "id": "d2eff7d5"
   },
   "source": [
    "Escribe aquí tus conclusiones"
   ]
  },
  {
   "cell_type": "markdown",
   "id": "4853ca5c-f667-4aa3-a3e0-2842da8f58aa",
   "metadata": {},
   "source": [
    "''' como podemos ver tenemos relativamente poco clientes que hacen 1 pedido y el numero baja considerablemente a los clientes que realizaron 2 pedidos'''"
   ]
  },
  {
   "cell_type": "markdown",
   "id": "54a0319c",
   "metadata": {
    "id": "54a0319c"
   },
   "source": [
    "### [B3] ¿Cuáles son los 20 productos más populares (muestra su ID y nombre)?"
   ]
  },
  {
   "cell_type": "code",
   "execution_count": 44,
   "id": "5c82c316-9f72-46e4-a960-4f249d217d0b",
   "metadata": {
    "id": "exterior-arizona",
    "scrolled": true
   },
   "outputs": [
    {
     "name": "stdout",
     "output_type": "stream",
     "text": [
      "--- Los 20 Productos Más Frecuentemente Pedidos ---\n",
      "    ID del Producto       Nombre del Producto  cantidad pedida\n",
      "0             24852                    BANANA            66050\n",
      "1             13176    BAG OF ORGANIC BANANAS            53297\n",
      "2             21137      ORGANIC STRAWBERRIES            37039\n",
      "3             21903      ORGANIC BABY SPINACH            33971\n",
      "4             47209      ORGANIC HASS AVOCADO            29773\n",
      "5             47766           ORGANIC AVOCADO            24689\n",
      "6             47626               LARGE LEMON            21495\n",
      "7             16797              STRAWBERRIES            20018\n",
      "8             26209                     LIMES            19690\n",
      "9             27845        ORGANIC WHOLE MILK            19600\n",
      "10            27966       ORGANIC RASPBERRIES            19197\n",
      "11            22935      ORGANIC YELLOW ONION            15898\n",
      "12            24964            ORGANIC GARLIC            15292\n",
      "13            45007          ORGANIC ZUCCHINI            14584\n",
      "14            39275       ORGANIC BLUEBERRIES            13879\n",
      "15            49683            CUCUMBER KIRBY            13675\n",
      "16            28204        ORGANIC FUJI APPLE            12544\n",
      "17             5876             ORGANIC LEMON            12232\n",
      "18             8277  APPLE HONEYCRISP ORGANIC            11993\n",
      "19            40706    ORGANIC GRAPE TOMATOES            11781\n"
     ]
    }
   ],
   "source": [
    "product_counts = order_products['product_id'].value_counts()\n",
    "\n",
    "product_counts_df = product_counts.reset_index()\n",
    "product_counts_df.columns = ['product_id', 'order_frequency']\n",
    "\n",
    "top_products_with_names = pd.merge(product_counts_df,\n",
    "                                   products[['product_id', 'product_name']],\n",
    "                                   on='product_id',\n",
    "                                   how='left')\n",
    "\n",
    "top_20_products = top_products_with_names.head(20)\n",
    "top_20_products_renamed_alt = top_20_products.copy()\n",
    "top_20_products_renamed_alt.columns = ['ID del Producto', 'cantidad pedida', 'Nombre del Producto']\n",
    "print(\"--- Los 20 Productos Más Frecuentemente Pedidos ---\")\n",
    "\n",
    "print(top_20_products_renamed_alt[['ID del Producto', 'Nombre del Producto', 'cantidad pedida']].to_string())"
   ]
  },
  {
   "cell_type": "markdown",
   "id": "7df00f47",
   "metadata": {
    "id": "7df00f47"
   },
   "source": [
    "Escribe aquí tus conclusiones"
   ]
  },
  {
   "cell_type": "markdown",
   "id": "1626082c-7296-4744-9c29-5898f4faa145",
   "metadata": {},
   "source": [
    "'''mostramos los 20 productos mas pedidos y podemos observar que la mayoria son frutas'''"
   ]
  },
  {
   "cell_type": "markdown",
   "id": "ecbd4356-f150-4427-8886-1b71e75d0d13",
   "metadata": {
    "id": "gross-theme"
   },
   "source": [
    "# [C] Difícil (deben completarse todos para aprobar)\n",
    "\n",
    "1. ¿Cuántos artículos suelen comprar las personas en un pedido? ¿Cómo es la distribución?\n",
    "2. ¿Cuáles son los 20 principales artículos que vuelven a pedirse con mayor frecuencia (muestra sus nombres e IDs de los productos)?\n",
    "3. Para cada producto, ¿cuál es la tasa de repetición del pedido (número de repeticiones de pedido/total de pedidos?\n",
    "4. Para cada cliente, ¿qué proporción de los productos que pidió ya los había pedido? Calcula la tasa de repetición de pedido para cada usuario en lugar de para cada producto.\n",
    "5. ¿Cuáles son los 20 principales artículos que la gente pone primero en sus carritos (muestra las IDs de los productos, sus nombres, y el número de veces en que fueron el primer artículo en añadirse al carrito)?"
   ]
  },
  {
   "cell_type": "markdown",
   "id": "romantic-deposit",
   "metadata": {
    "id": "romantic-deposit"
   },
   "source": [
    "### [C1] ¿Cuántos artículos compran normalmente las personas en un pedido? ¿Cómo es la distribución?"
   ]
  },
  {
   "cell_type": "code",
   "execution_count": 45,
   "id": "virtual-punch",
   "metadata": {
    "id": "virtual-punch"
   },
   "outputs": [
    {
     "name": "stdout",
     "output_type": "stream",
     "text": [
      "--- Cantidad de Artículos por Pedido ---\n",
      "Número total de pedidos analizados: 450046\n",
      "Número promedio de artículos por pedido: 10.10\n",
      "Número mínimo de artículos en un pedido: 1\n",
      "Número máximo de artículos en un pedido: 127\n"
     ]
    }
   ],
   "source": [
    "items_per_order = final_merged_df.groupby('order_id').size()\n",
    "\n",
    "# 2. Análisis Básico de la Distribución\n",
    "print(\"--- Cantidad de Artículos por Pedido ---\")\n",
    "print(f\"Número total de pedidos analizados: {len(items_per_order)}\")\n",
    "print(f\"Número promedio de artículos por pedido: {items_per_order.mean():.2f}\")\n",
    "print(f\"Número mínimo de artículos en un pedido: {items_per_order.min()}\")\n",
    "print(f\"Número máximo de artículos en un pedido: {items_per_order.max()}\")\n"
   ]
  },
  {
   "cell_type": "code",
   "execution_count": 46,
   "id": "sensitive-breathing",
   "metadata": {
    "id": "sensitive-breathing"
   },
   "outputs": [
    {
     "data": {
      "image/png": "[encoded data removed]",
      "text/plain": [
       "<Figure size 640x480 with 1 Axes>"
      ]
     },
     "metadata": {},
     "output_type": "display_data"
    },
    {
     "name": "stdout",
     "output_type": "stream",
     "text": [
      "\n",
      "--- Interpretación de la Distribución del Número de Artículos por Pedido ---\n",
      "Al observar el gráfico, puedes notar que la distribución es típicamente sesgada a la derecha.\n",
      "Esto significa que la mayoría de los pedidos (las barras más altas) contienen un número relativamente bajo de artículos.\n",
      "A medida que el número de artículos por pedido aumenta, la frecuencia de esos pedidos (la altura de las barras) disminuye rápidamente, formando una 'cola' larga hacia la derecha.\n",
      "\n",
      "- El pico de la distribución (la barra más alta) nos mostrará la cantidad de artículos más común en un pedido.\n",
      "- Mientras que la forma de la cola nos indica qué tan frecuentes son los pedidos con muchos artículos.\n",
      "- Este patrón es común y sugiere que nuestra tienda maneja tanto pedidos pequeños y rápidos como compras semanales más grandes, aunque los pequeños son más comunes.\n"
     ]
    }
   ],
   "source": [
    "items_per_order = final_merged_df.groupby('order_id').size()\n",
    "distribution_of_items_count = items_per_order.value_counts().sort_index()\n",
    "\n",
    "plt.bar(distribution_of_items_count.index, distribution_of_items_count.values,\n",
    "        color='mediumseagreen', edgecolor='black')\n",
    "\n",
    "\n",
    "plt.title('Distribución del Número de Artículos por Pedido')\n",
    "plt.xlabel('Número de Artículos en el Pedido')\n",
    "plt.ylabel('Número de Pedidos')\n",
    "plt.xlim(0, 40)\n",
    "plt.grid(axis='y', linestyle='--', alpha=0.7)\n",
    "plt.show()\n",
    "print(\"\\n--- Interpretación de la Distribución del Número de Artículos por Pedido ---\")\n",
    "print(\"Al observar el gráfico, puedes notar que la distribución es típicamente sesgada a la derecha.\")\n",
    "print(\"Esto significa que la mayoría de los pedidos (las barras más altas) contienen un número relativamente bajo de artículos.\")\n",
    "print(\"A medida que el número de artículos por pedido aumenta, la frecuencia de esos pedidos (la altura de las barras) disminuye rápidamente, formando una 'cola' larga hacia la derecha.\")\n",
    "print()\n",
    "print(\"- El pico de la distribución (la barra más alta) nos mostrará la cantidad de artículos más común en un pedido.\")\n",
    "print(\"- Mientras que la forma de la cola nos indica qué tan frecuentes son los pedidos con muchos artículos.\")\n",
    "print(\"- Este patrón es común y sugiere que nuestra tienda maneja tanto pedidos pequeños y rápidos como compras semanales más grandes, aunque los pequeños son más comunes.\")"
   ]
  },
  {
   "cell_type": "markdown",
   "id": "designed-mortality",
   "metadata": {
    "id": "designed-mortality"
   },
   "source": [
    "Escribe aquí tus conclusiones"
   ]
  },
  {
   "cell_type": "markdown",
   "id": "f209af1d-50d8-4c9d-b5bc-26fbc47b562c",
   "metadata": {
    "id": "completed-frank"
   },
   "source": [
    "''' Como hemos comentado tenemos que en promedio nuestros clienten compran 10 productos por pedido, si bien en la distribucion podemos ver observar que muchas tenemos muchos pedidos con pocos articulos'''"
   ]
  },
  {
   "cell_type": "markdown",
   "id": "5e6b5537",
   "metadata": {
    "id": "5e6b5537"
   },
   "source": [
    "### [C2] ¿Cuáles son los 20 principales artículos que vuelven a pedirse con mayor frecuencia (muestra sus nombres e IDs de los productos)?"
   ]
  },
  {
   "cell_type": "code",
   "execution_count": 47,
   "id": "9374e55a",
   "metadata": {
    "id": "9374e55a"
   },
   "outputs": [
    {
     "name": "stdout",
     "output_type": "stream",
     "text": [
      "    product_id              product_name  reorder_frequency\n",
      "0        24852                    BANANA              55763\n",
      "1        13176    BAG OF ORGANIC BANANAS              44450\n",
      "2        21137      ORGANIC STRAWBERRIES              28639\n",
      "3        21903      ORGANIC BABY SPINACH              26233\n",
      "4        47209      ORGANIC HASS AVOCADO              23629\n",
      "5        47766           ORGANIC AVOCADO              18743\n",
      "6        27845        ORGANIC WHOLE MILK              16251\n",
      "7        47626               LARGE LEMON              15044\n",
      "8        27966       ORGANIC RASPBERRIES              14748\n",
      "9        16797              STRAWBERRIES              13945\n",
      "10       26209                     LIMES              13327\n",
      "11       22935      ORGANIC YELLOW ONION              11145\n",
      "12       24964            ORGANIC GARLIC              10411\n",
      "13       45007          ORGANIC ZUCCHINI              10076\n",
      "14       49683            CUCUMBER KIRBY               9538\n",
      "15       28204        ORGANIC FUJI APPLE               8989\n",
      "16        8277  APPLE HONEYCRISP ORGANIC               8836\n",
      "17       39275       ORGANIC BLUEBERRIES               8799\n",
      "18        5876             ORGANIC LEMON               8412\n",
      "19       49235       ORGANIC HALF & HALF               8389\n"
     ]
    }
   ],
   "source": [
    "reordered_products = order_products[order_products['reordered'] == 1]\n",
    "reordered_counts = reordered_products['product_id'].value_counts()\n",
    "reordered_counts_df = reordered_counts.reset_index()\n",
    "reordered_counts_df.columns = ['product_id', 'reorder_frequency']\n",
    "\n",
    "top_reordered_products_with_names = pd.merge(reordered_counts_df,\n",
    "                                             products[['product_id', 'product_name']],\n",
    "                                             on='product_id',\n",
    "                                             how='left')\n",
    "\n",
    "\n",
    "top_20_reordered = top_reordered_products_with_names.head(20)\n",
    "print(top_20_reordered[['product_id', 'product_name', 'reorder_frequency']].to_string())\n"
   ]
  },
  {
   "cell_type": "markdown",
   "id": "80e70c74",
   "metadata": {
    "id": "80e70c74"
   },
   "source": [
    "Escribe aquí tus conclusiones"
   ]
  },
  {
   "cell_type": "markdown",
   "id": "c8ad8b33-dcc6-4d0a-8919-63a59e3cdb6b",
   "metadata": {
    "id": "48dd3658"
   },
   "source": [
    "''' como podemos ver los productos son articulos basico de consumo diario la mayoria de los cuales no podemos precindir '''"
   ]
  },
  {
   "cell_type": "markdown",
   "id": "9d312b14",
   "metadata": {
    "id": "9d312b14"
   },
   "source": [
    "### [C3] Para cada producto, ¿cuál es la proporción de las veces que se pide y que se vuelve a pedir?"
   ]
  },
  {
   "cell_type": "code",
   "execution_count": 48,
   "id": "8ae9f4b1",
   "metadata": {
    "id": "8ae9f4b1"
   },
   "outputs": [
    {
     "name": "stdout",
     "output_type": "stream",
     "text": [
      "               Productos con la Tasa de Repetición de Pedido Más Alta\n",
      " product_id           product_name  total_orders  total_reorders  reorder_rate\n",
      "      24852                 BANANA         66050         55763.0      0.844254\n",
      "      13176 BAG OF ORGANIC BANANAS         53297         44450.0      0.834006\n",
      "      21137   ORGANIC STRAWBERRIES         37039         28639.0      0.773212\n",
      "      21903   ORGANIC BABY SPINACH         33971         26233.0      0.772217\n",
      "      47209   ORGANIC HASS AVOCADO         29773         23629.0      0.793639\n",
      "      47766        ORGANIC AVOCADO         24689         18743.0      0.759164\n",
      "      27845     ORGANIC WHOLE MILK         19600         16251.0      0.829133\n",
      "      47626            LARGE LEMON         21495         15044.0      0.699884\n",
      "      27966    ORGANIC RASPBERRIES         19197         14748.0      0.768245\n",
      "      16797           STRAWBERRIES         20018         13945.0      0.696623\n"
     ]
    }
   ],
   "source": [
    "total_orders_per_product = order_products['product_id'].value_counts().reset_index()\n",
    "total_orders_per_product.columns = ['product_id', 'total_orders']\n",
    "\n",
    "reorders_per_product = order_products[order_products['reordered'] >= 1]['product_id'].value_counts().reset_index()\n",
    "reorders_per_product.columns = ['product_id', 'total_reorders']\n",
    "\n",
    "product_reorder_data = pd.merge(total_orders_per_product,\n",
    "                                reorders_per_product,\n",
    "                                on='product_id',\n",
    "                                how='left')\n",
    "\n",
    "product_reorder_data['reorder_rate'] = (product_reorder_data['total_reorders'] / product_reorder_data['total_orders'])\n",
    "\n",
    "products_with_reorder_rate = pd.merge(product_reorder_data,\n",
    "                                      products[['product_id', 'product_name']],\n",
    "                                      on='product_id',\n",
    "                                      how='left')\n",
    "\n",
    "products_with_reorder_rate = products_with_reorder_rate.sort_values(by='total_reorders', ascending=False)\n",
    "print(\"               Productos con la Tasa de Repetición de Pedido Más Alta\")\n",
    "print(products_with_reorder_rate[['product_id', 'product_name', 'total_orders', 'total_reorders', 'reorder_rate']].head(10).to_string(index=False))\n"
   ]
  },
  {
   "cell_type": "markdown",
   "id": "I10dEIAyldcO",
   "metadata": {
    "id": "I10dEIAyldcO"
   },
   "source": [
    "Escribe aquí tus conclusiones"
   ]
  },
  {
   "cell_type": "markdown",
   "id": "d09a14b5-9fed-40a0-8504-e784b526821f",
   "metadata": {
    "id": "social-individual"
   },
   "source": [
    "'''aca estamos viendo que 9 de nuestros 10 productos son frutas o verduras y tenemos 1 lacteo, interesante dato a la hora de hablar con los proveedores para saber cada cuanto tienen que surtir en la tienda'''"
   ]
  },
  {
   "cell_type": "markdown",
   "id": "subject-boxing",
   "metadata": {
    "id": "subject-boxing"
   },
   "source": [
    "### [C4] Para cada cliente, ¿qué proporción de sus productos ya los había pedido?"
   ]
  },
  {
   "cell_type": "code",
   "execution_count": 49,
   "id": "medical-couple",
   "metadata": {
    "id": "medical-couple",
    "scrolled": true
   },
   "outputs": [
    {
     "name": "stdout",
     "output_type": "stream",
     "text": [
      "Número total de clientes analizados: 149626\n",
      "Proporción promedio de productos reordenados por cliente: 49.49%\n"
     ]
    }
   ],
   "source": [
    "reorder_proportion_per_customer = final_merged_df.groupby('user_id')['reordered'].agg(\n",
    "    total_reordered_products='sum',\n",
    "    total_products_ordered='count'\n",
    ")\n",
    "reorder_proportion_per_customer['reorder_proportion'] = (\n",
    "    reorder_proportion_per_customer['total_reordered_products'] /\n",
    "    reorder_proportion_per_customer['total_products_ordered']\n",
    ")\n",
    "\n",
    "reorder_proportion_per_customer['reorder_proportion_pct'] = (reorder_proportion_per_customer['reorder_proportion'] * 100).round(2)\n",
    "print(f\"Número total de clientes analizados: {len(reorder_proportion_per_customer)}\")\n",
    "print(f\"Proporción promedio de productos reordenados por cliente: {reorder_proportion_per_customer['reorder_proportion'].mean():.2%}\")\n",
    "\n",
    "\n"
   ]
  },
  {
   "cell_type": "code",
   "execution_count": 50,
   "id": "8892e4b4",
   "metadata": {
    "id": "8892e4b4"
   },
   "outputs": [
    {
     "name": "stdout",
     "output_type": "stream",
     "text": [
      "Tasa mínima de repetición: 0.00%\n",
      "Tasa máxima de repetición: 100.00%\n"
     ]
    }
   ],
   "source": [
    "reorder_rate_per_user = final_merged_df.groupby('user_id')['reordered'].agg(\n",
    "    total_reordered_items='sum',\n",
    "    total_items_ordered='count'\n",
    ")\n",
    "reorder_rate_per_user['user_reorder_rate'] = (\n",
    "    reorder_rate_per_user['total_reordered_items'] /\n",
    "    reorder_rate_per_user['total_items_ordered']\n",
    ")\n",
    "print(f\"Tasa mínima de repetición: {reorder_rate_per_user['user_reorder_rate'].min():.2%}\")\n",
    "print(f\"Tasa máxima de repetición: {reorder_rate_per_user['user_reorder_rate'].max():.2%}\")"
   ]
  },
  {
   "cell_type": "markdown",
   "id": "BgJSvXDsleXz",
   "metadata": {
    "id": "BgJSvXDsleXz"
   },
   "source": [
    "Escribe aquí tus conclusiones"
   ]
  },
  {
   "cell_type": "markdown",
   "id": "4c3577eb-f1ff-4af3-88cc-ad2949c73edf",
   "metadata": {},
   "source": [
    "''' como podemos observar el promedio de productos que vuelven a pedir es de 49.49% y la tasa maxima es de 100% mientras que la minima es 0%'''"
   ]
  },
  {
   "cell_type": "markdown",
   "id": "92d35137",
   "metadata": {
    "id": "92d35137"
   },
   "source": [
    "### [C5] ¿Cuáles son los 20 principales artículos que las personas ponen primero en sus carritos?"
   ]
  },
  {
   "cell_type": "code",
   "execution_count": 51,
   "id": "0ae57274",
   "metadata": {
    "id": "0ae57274",
    "scrolled": true
   },
   "outputs": [
    {
     "name": "stdout",
     "output_type": "stream",
     "text": [
      "Los 20 Principales Artículos que la Gente Pone Primero en sus Carritos \n",
      " product_id                product_name  times_added_first\n",
      "      24852                      BANANA              15562\n",
      "      13176      BAG OF ORGANIC BANANAS              11026\n",
      "      27845          ORGANIC WHOLE MILK               4363\n",
      "      21137        ORGANIC STRAWBERRIES               3946\n",
      "      47209        ORGANIC HASS AVOCADO               3390\n",
      "      21903        ORGANIC BABY SPINACH               3336\n",
      "      47766             ORGANIC AVOCADO               3044\n",
      "      19660                SPRING WATER               2336\n",
      "      16797                STRAWBERRIES               2308\n",
      "      27966         ORGANIC RASPBERRIES               2024\n",
      "      44632  SPARKLING WATER GRAPEFRUIT               1914\n",
      "      49235         ORGANIC HALF & HALF               1797\n",
      "      47626                 LARGE LEMON               1737\n",
      "        196                        SODA               1733\n",
      "      38689    ORGANIC REDUCED FAT MILK               1397\n",
      "      26209                       LIMES               1370\n",
      "      12341               HASS AVOCADOS               1340\n",
      "       5785 ORGANIC REDUCED FAT 2% MILK               1310\n",
      "      27086                 HALF & HALF               1309\n",
      "      22935        ORGANIC YELLOW ONION               1246\n"
     ]
    }
   ],
   "source": [
    "first_added_products = order_products[order_products['add_to_cart_order'] == 1]\n",
    "first_added_counts = first_added_products['product_id'].value_counts().reset_index()\n",
    "first_added_counts.columns = ['product_id', 'times_added_first']\n",
    "\n",
    "top_first_added_products = pd.merge(first_added_counts,\n",
    "                                    products[['product_id', 'product_name']],\n",
    "                                    on='product_id',\n",
    "                                    how='left')\n",
    "\n",
    "top_20_first_added = top_first_added_products.head(20)\n",
    "\n",
    "print(\"Los 20 Principales Artículos que la Gente Pone Primero en sus Carritos \")\n",
    "print(top_20_first_added[['product_id', 'product_name', 'times_added_first']].to_string(index=False))\n"
   ]
  },
  {
   "cell_type": "markdown",
   "id": "28ce9872",
   "metadata": {
    "id": "28ce9872"
   },
   "source": [
    "Escribe aquí tus conclusiones"
   ]
  },
  {
   "cell_type": "markdown",
   "id": "8841e33f-66ee-4e8c-9236-dca0dd718737",
   "metadata": {
    "id": "08e41ec2"
   },
   "source": [
    "''' Como mencionamos anteriormente la mayoria son frutas aunque tambien podemos otros productos como soda y son articulos basicos de rotacion alta'''"
   ]
  },
  {
   "cell_type": "markdown",
   "id": "uITbFCEoDosC",
   "metadata": {
    "id": "uITbFCEoDosC"
   },
   "source": [
    "### Conclusion general del proyecto:"
   ]
  },
  {
   "cell_type": "markdown",
   "id": "0d6e6f21-8205-4fe1-8098-2ec120dab576",
   "metadata": {
    "id": "Nk-4GS7mDwqY"
   },
   "source": [
    "La conclucion general seria:\n",
    "- los Fines de semana son el dia preferido para compras grandes planificadas\n",
    "- los dias se mana se usan para pedidos rapidos y de reposicion\n",
    "- predomina las compras pequeñas a mediana\n",
    "- hay una fuerte tendencia a reordenar productos basicos esenciales (frutas, lacteos)\n",
    "-pudimos ver cuales son los productos ancla en el ultimo ejercicio \n",
    "\n",
    "----------------------------------------------\n",
    "en General fue un reto bastante interesante y entrenido de realizar me gusto bastante"
   ]
  }
 ],
 "metadata": {
  "colab": {
   "provenance": [
    {
     "file_id": "1aLGZ19-GYem3LZdYHuzuwYIeSw_tr0AT",
     "timestamp": 1689682143157
    }
   ]
  },
  "kernelspec": {
   "display_name": "Python 3 (ipykernel)",
   "language": "python",
   "name": "python3"
  },
  "language_info": {
   "codemirror_mode": {
    "name": "ipython",
    "version": 3
   },
   "file_extension": ".py",
   "mimetype": "text/x-python",
   "name": "python",
   "nbconvert_exporter": "python",
   "pygments_lexer": "ipython3",
   "version": "3.12.5"
  },
  "vscode": {
   "interpreter": {
    "hash": "01a7be9ec63e704a62cefc5fe7a4756944464ee731be31632bdf42a4cb4688cf"
   }
  }
 },
 "nbformat": 4,
 "nbformat_minor": 5
}
