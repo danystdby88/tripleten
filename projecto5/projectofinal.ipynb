{
 "cells": [
  {
   "cell_type": "markdown",
   "metadata": {
    "id": "3rYiDeEH0q0f"
   },
   "source": [
    "# ¿Cuál es la mejor tarifa?\n",
    "\n",
    "Trabajas como analista para el operador de telecomunicaciones Megaline. La empresa ofrece a sus clientes dos tarifas de prepago, Surf y Ultimate. El departamento comercial quiere saber cuál de las tarifas genera más ingresos para poder ajustar el presupuesto de publicidad.\n",
    "\n",
    "Vas a realizar un análisis preliminar de las tarifas basado en una selección de clientes relativamente pequeña. Tendrás los datos de 500 clientes de Megaline: quiénes son los clientes, de dónde son, qué tarifa usan, así como la cantidad de llamadas que hicieron y los mensajes de texto que enviaron en 2018. Tu trabajo es analizar el comportamiento de los clientes y determinar qué tarifa de prepago genera más ingresos."
   ]
  },
  {
   "cell_type": "markdown",
   "metadata": {
    "id": "VNddPNRQ0q0w"
   },
   "source": [
    "[Te proporcionamos algunos comentarios para orientarte mientras completas este proyecto. Pero debes asegurarte de eliminar todos los comentarios entre corchetes antes de entregar tu proyecto.]\n",
    "\n",
    "[Antes de sumergirte en el análisis de datos, explica por tu propia cuenta el propósito del proyecto y las acciones que planeas realizar.]\n",
    "\n",
    "[Ten en cuenta que estudiar, modificar y analizar datos es un proceso iterativo. Es normal volver a los pasos anteriores y corregirlos/ampliarlos para permitir nuevos pasos.]"
   ]
  },
  {
   "cell_type": "markdown",
   "metadata": {
    "id": "MQi4IPy70q0y"
   },
   "source": [
    "## Inicialización"
   ]
  },
  {
   "cell_type": "code",
   "execution_count": 105,
   "metadata": {
    "id": "MtYIuBxu0q0z"
   },
   "outputs": [],
   "source": [
    "# Cargar todas las librerías\n",
    "import pandas as pd\n",
    "import numpy as np\n",
    "import os\n",
    "from matplotlib import pyplot as plt"
   ]
  },
  {
   "cell_type": "markdown",
   "metadata": {
    "id": "4ysWWC5i0q00"
   },
   "source": [
    "## Cargar datos"
   ]
  },
  {
   "cell_type": "code",
   "execution_count": 2,
   "metadata": {
    "id": "CCqPW7rS0q01"
   },
   "outputs": [
    {
     "name": "stdout",
     "output_type": "stream",
     "text": [
      "✅ 'megaline_users.csv' cargado con éxito. Almacenado como 'dataframes['megaline_users']'.\n",
      "✅ 'megaline_plans.csv' cargado con éxito. Almacenado como 'dataframes['megaline_plans']'.\n",
      "✅ 'megaline_messages.csv' cargado con éxito. Almacenado como 'dataframes['megaline_messages']'.\n",
      "✅ 'megaline_internet.csv' cargado con éxito. Almacenado como 'dataframes['megaline_internet']'.\n",
      "✅ 'megaline_calls.csv' cargado con éxito. Almacenado como 'dataframes['megaline_calls']'.\n"
     ]
    }
   ],
   "source": [
    "# Carga los archivos de datos en diferentes DataFrames\n",
    "data_folder_path = r'C:\\Users\\danie\\OneDrive\\Documentos\\tripleten\\projecto5\\archivos'\n",
    "csv_files_to_load = [\n",
    "    'megaline_users',\n",
    "    'megaline_plans',\n",
    "    'megaline_messages',\n",
    "    'megaline_internet',\n",
    "    'megaline_calls'\n",
    "]\n",
    "dataframes = {}\n",
    "\n",
    "for file_name in csv_files_to_load:\n",
    "    full_file_path = os.path.join(data_folder_path, file_name + '.csv')\n",
    "    try:\n",
    "        df = pd.read_csv(full_file_path, sep=',')\n",
    "        dataframes[file_name] = df\n",
    "        print(f\"✅ '{file_name}.csv' cargado con éxito. Almacenado como 'dataframes['{file_name}']'.\")\n",
    "        \n",
    "    except FileNotFoundError:\n",
    "        print(f\"❌ Error: '{file_name}.csv' no encontrado en '{full_file_path}'. Por favor, verifica la ruta y el nombre.\")\n",
    "    \n",
    "    except pd.errors.EmptyDataError:\n",
    "           print(f\"⚠️ Advertencia: '{file_name}.csv' está vacío y no se pudo cargar.\")\n",
    "    \n",
    "    except Exception as e:\n",
    "        print(f\"❌ Ocurrió un error inesperado al cargar '{file_name}.csv': {e}\")\n"
   ]
  },
  {
   "cell_type": "markdown",
   "metadata": {
    "id": "69qqoJ3r0q01"
   },
   "source": [
    "## Preparar los datos"
   ]
  },
  {
   "cell_type": "markdown",
   "metadata": {
    "id": "vUuZw80S0q01"
   },
   "source": [
    "[Los datos para este proyecto se dividen en varias tablas. Explora cada una para tener una comprensión inicial de los datos. Si es necesario, haz las correcciones requeridas en cada tabla.]"
   ]
  },
  {
   "cell_type": "code",
   "execution_count": 3,
   "metadata": {},
   "outputs": [
    {
     "name": "stdout",
     "output_type": "stream",
     "text": [
      "<class 'pandas.core.frame.DataFrame'>\n",
      "RangeIndex: 500 entries, 0 to 499\n",
      "Data columns (total 8 columns):\n",
      " #   Column      Non-Null Count  Dtype \n",
      "---  ------      --------------  ----- \n",
      " 0   user_id     500 non-null    int64 \n",
      " 1   first_name  500 non-null    object\n",
      " 2   last_name   500 non-null    object\n",
      " 3   age         500 non-null    int64 \n",
      " 4   city        500 non-null    object\n",
      " 5   reg_date    500 non-null    object\n",
      " 6   plan        500 non-null    object\n",
      " 7   churn_date  34 non-null     object\n",
      "dtypes: int64(2), object(6)\n",
      "memory usage: 31.4+ KB\n",
      "None\n",
      "------------------\n",
      "<class 'pandas.core.frame.DataFrame'>\n",
      "RangeIndex: 2 entries, 0 to 1\n",
      "Data columns (total 8 columns):\n",
      " #   Column                 Non-Null Count  Dtype  \n",
      "---  ------                 --------------  -----  \n",
      " 0   messages_included      2 non-null      int64  \n",
      " 1   mb_per_month_included  2 non-null      int64  \n",
      " 2   minutes_included       2 non-null      int64  \n",
      " 3   usd_monthly_pay        2 non-null      int64  \n",
      " 4   usd_per_gb             2 non-null      int64  \n",
      " 5   usd_per_message        2 non-null      float64\n",
      " 6   usd_per_minute         2 non-null      float64\n",
      " 7   plan_name              2 non-null      object \n",
      "dtypes: float64(2), int64(5), object(1)\n",
      "memory usage: 260.0+ bytes\n",
      "None\n",
      "------------------\n",
      "<class 'pandas.core.frame.DataFrame'>\n",
      "RangeIndex: 76051 entries, 0 to 76050\n",
      "Data columns (total 3 columns):\n",
      " #   Column        Non-Null Count  Dtype \n",
      "---  ------        --------------  ----- \n",
      " 0   id            76051 non-null  object\n",
      " 1   user_id       76051 non-null  int64 \n",
      " 2   message_date  76051 non-null  object\n",
      "dtypes: int64(1), object(2)\n",
      "memory usage: 1.7+ MB\n",
      "None\n",
      "------------------\n",
      "<class 'pandas.core.frame.DataFrame'>\n",
      "RangeIndex: 104825 entries, 0 to 104824\n",
      "Data columns (total 4 columns):\n",
      " #   Column        Non-Null Count   Dtype  \n",
      "---  ------        --------------   -----  \n",
      " 0   id            104825 non-null  object \n",
      " 1   user_id       104825 non-null  int64  \n",
      " 2   session_date  104825 non-null  object \n",
      " 3   mb_used       104825 non-null  float64\n",
      "dtypes: float64(1), int64(1), object(2)\n",
      "memory usage: 3.2+ MB\n",
      "None\n",
      "------------------\n",
      "<class 'pandas.core.frame.DataFrame'>\n",
      "RangeIndex: 137735 entries, 0 to 137734\n",
      "Data columns (total 4 columns):\n",
      " #   Column     Non-Null Count   Dtype  \n",
      "---  ------     --------------   -----  \n",
      " 0   id         137735 non-null  object \n",
      " 1   user_id    137735 non-null  int64  \n",
      " 2   call_date  137735 non-null  object \n",
      " 3   duration   137735 non-null  float64\n",
      "dtypes: float64(1), int64(1), object(2)\n",
      "memory usage: 4.2+ MB\n",
      "None\n"
     ]
    }
   ],
   "source": [
    "users = dataframes['megaline_users']\n",
    "plans = dataframes['megaline_plans']\n",
    "messages = dataframes['megaline_messages']\n",
    "internet = dataframes['megaline_internet']\n",
    "calls = dataframes['megaline_calls']\n",
    "print(users.info())\n",
    "print(\"------------------\")\n",
    "print(plans.info())\n",
    "print(\"------------------\")\n",
    "print(messages.info())\n",
    "print(\"------------------\")\n",
    "print(internet.info())\n",
    "print(\"------------------\")\n",
    "print(calls.info())"
   ]
  },
  {
   "cell_type": "markdown",
   "metadata": {
    "id": "ohBhimvH0q01"
   },
   "source": [
    "## Tarifas"
   ]
  },
  {
   "cell_type": "code",
   "execution_count": 4,
   "metadata": {
    "id": "GptqP3Q40q02"
   },
   "outputs": [
    {
     "name": "stdout",
     "output_type": "stream",
     "text": [
      "<class 'pandas.core.frame.DataFrame'>\n",
      "RangeIndex: 2 entries, 0 to 1\n",
      "Data columns (total 8 columns):\n",
      " #   Column                 Non-Null Count  Dtype  \n",
      "---  ------                 --------------  -----  \n",
      " 0   messages_included      2 non-null      int64  \n",
      " 1   mb_per_month_included  2 non-null      int64  \n",
      " 2   minutes_included       2 non-null      int64  \n",
      " 3   usd_monthly_pay        2 non-null      int64  \n",
      " 4   usd_per_gb             2 non-null      int64  \n",
      " 5   usd_per_message        2 non-null      float64\n",
      " 6   usd_per_minute         2 non-null      float64\n",
      " 7   plan_name              2 non-null      object \n",
      "dtypes: float64(2), int64(5), object(1)\n",
      "memory usage: 260.0+ bytes\n"
     ]
    }
   ],
   "source": [
    "# Imprime la información general/resumida sobre el DataFrame de las tarifas\n",
    "plans.info()"
   ]
  },
  {
   "cell_type": "code",
   "execution_count": 5,
   "metadata": {
    "id": "64xzjwL70q02"
   },
   "outputs": [
    {
     "name": "stdout",
     "output_type": "stream",
     "text": [
      "   messages_included  mb_per_month_included  minutes_included  \\\n",
      "0                 50                  15360               500   \n",
      "1               1000                  30720              3000   \n",
      "\n",
      "   usd_monthly_pay  usd_per_gb  usd_per_message  usd_per_minute plan_name  \n",
      "0               20          10             0.03            0.03      surf  \n",
      "1               70           7             0.01            0.01  ultimate  \n"
     ]
    }
   ],
   "source": [
    "# Imprime una muestra de los datos para las tarifas\n",
    "print(plans.head(10))"
   ]
  },
  {
   "cell_type": "markdown",
   "metadata": {
    "id": "mEc_3_hs0q02"
   },
   "source": [
    "[Describe lo que ves y observas en la información general y en la muestra de datos impresa para el precio de datos anterior. ¿Hay algún problema (tipos de datos no adecuados, datos ausentes, etc.) que pudieran necesitar investigación y cambios adicionales? ¿Cómo se puede arreglar?]"
   ]
  },
  {
   "cell_type": "markdown",
   "metadata": {},
   "source": [
    "''' por lo que podemos observar al mostrar el .info() y el .head() no veo problemas evidentes en lo datos unicamente la diferencia de nombres en la columna usd_monthly_pay que deberia llamarse usd_monthly_fee segun la descripcion de la tarea, y tambien cambio el tipo de columna de usd_monthly_fee a 'float64, ya que el pago en usd tiene a tener decimales''' "
   ]
  },
  {
   "cell_type": "markdown",
   "metadata": {
    "collapsed": false,
    "id": "R3C05i1l0q03",
    "jupyter": {
     "outputs_hidden": false
    }
   },
   "source": [
    "## Corregir datos"
   ]
  },
  {
   "cell_type": "markdown",
   "metadata": {
    "id": "bIi8StZI0q03"
   },
   "source": [
    "[Corrige los problemas obvios con los datos basándote en las observaciones iniciales.]"
   ]
  },
  {
   "cell_type": "code",
   "execution_count": 6,
   "metadata": {
    "id": "Y7SVmjGn0q03"
   },
   "outputs": [
    {
     "name": "stdout",
     "output_type": "stream",
     "text": [
      "<class 'pandas.core.frame.DataFrame'>\n",
      "RangeIndex: 2 entries, 0 to 1\n",
      "Data columns (total 8 columns):\n",
      " #   Column                 Non-Null Count  Dtype  \n",
      "---  ------                 --------------  -----  \n",
      " 0   messages_included      2 non-null      int64  \n",
      " 1   mb_per_month_included  2 non-null      int64  \n",
      " 2   minutes_included       2 non-null      int64  \n",
      " 3   usd_monthly_fee        2 non-null      float64\n",
      " 4   usd_per_gb             2 non-null      int64  \n",
      " 5   usd_per_message        2 non-null      float64\n",
      " 6   usd_per_minute         2 non-null      float64\n",
      " 7   plan_name              2 non-null      object \n",
      "dtypes: float64(3), int64(4), object(1)\n",
      "memory usage: 260.0+ bytes\n",
      "   messages_included  mb_per_month_included  minutes_included  \\\n",
      "0                 50                  15360               500   \n",
      "1               1000                  30720              3000   \n",
      "\n",
      "   usd_monthly_fee  usd_per_gb  usd_per_message  usd_per_minute plan_name  \n",
      "0             20.0          10             0.03            0.03      surf  \n",
      "1             70.0           7             0.01            0.01  ultimate  \n"
     ]
    }
   ],
   "source": [
    "plans = plans.rename(columns={'usd_monthly_pay': 'usd_monthly_fee'})\n",
    "plans['usd_monthly_fee'] = plans['usd_monthly_fee'].astype('float64')\n",
    "plans.info()\n",
    "print(plans.head())"
   ]
  },
  {
   "cell_type": "markdown",
   "metadata": {
    "id": "LJir7bml0q03"
   },
   "source": [
    "## Enriquecer los datos"
   ]
  },
  {
   "cell_type": "markdown",
   "metadata": {
    "id": "eqADpCfg0q04"
   },
   "source": [
    "[Agrega factores adicionales a los datos si crees que pudieran ser útiles.]"
   ]
  },
  {
   "cell_type": "code",
   "execution_count": 7,
   "metadata": {
    "id": "gfcIEuXV0q04"
   },
   "outputs": [
    {
     "name": "stdout",
     "output_type": "stream",
     "text": [
      "<class 'pandas.core.frame.DataFrame'>\n",
      "RangeIndex: 500 entries, 0 to 499\n",
      "Data columns (total 16 columns):\n",
      " #   Column                 Non-Null Count  Dtype  \n",
      "---  ------                 --------------  -----  \n",
      " 0   user_id                500 non-null    int64  \n",
      " 1   first_name             500 non-null    object \n",
      " 2   last_name              500 non-null    object \n",
      " 3   age                    500 non-null    int64  \n",
      " 4   city                   500 non-null    object \n",
      " 5   reg_date               500 non-null    object \n",
      " 6   plan                   500 non-null    object \n",
      " 7   churn_date             34 non-null     object \n",
      " 8   messages_included      500 non-null    int64  \n",
      " 9   mb_per_month_included  500 non-null    int64  \n",
      " 10  minutes_included       500 non-null    int64  \n",
      " 11  usd_monthly_fee        500 non-null    float64\n",
      " 12  usd_per_gb             500 non-null    int64  \n",
      " 13  usd_per_message        500 non-null    float64\n",
      " 14  usd_per_minute         500 non-null    float64\n",
      " 15  plan_name              500 non-null    object \n",
      "dtypes: float64(3), int64(6), object(7)\n",
      "memory usage: 62.6+ KB\n"
     ]
    }
   ],
   "source": [
    "dataframe_by_plans = pd.merge(users, plans, left_on='plan', right_on='plan_name', how='left')\n",
    "dataframe_by_plans.info()"
   ]
  },
  {
   "cell_type": "markdown",
   "metadata": {},
   "source": [
    "'''Siento que para enriquecer los datos de la base de datos de plan necesitariamos saber aquien corresponder por eso lo unimos a user para poder tener identifador like user_id  asi como obtener nombres apellidos , etc'''"
   ]
  },
  {
   "cell_type": "markdown",
   "metadata": {
    "id": "1n2X6WXf0q04"
   },
   "source": [
    "## Usuarios/as"
   ]
  },
  {
   "cell_type": "code",
   "execution_count": 8,
   "metadata": {
    "id": "2NgjWFqx0q05"
   },
   "outputs": [
    {
     "name": "stdout",
     "output_type": "stream",
     "text": [
      "<class 'pandas.core.frame.DataFrame'>\n",
      "RangeIndex: 500 entries, 0 to 499\n",
      "Data columns (total 8 columns):\n",
      " #   Column      Non-Null Count  Dtype \n",
      "---  ------      --------------  ----- \n",
      " 0   user_id     500 non-null    int64 \n",
      " 1   first_name  500 non-null    object\n",
      " 2   last_name   500 non-null    object\n",
      " 3   age         500 non-null    int64 \n",
      " 4   city        500 non-null    object\n",
      " 5   reg_date    500 non-null    object\n",
      " 6   plan        500 non-null    object\n",
      " 7   churn_date  34 non-null     object\n",
      "dtypes: int64(2), object(6)\n",
      "memory usage: 31.4+ KB\n"
     ]
    }
   ],
   "source": [
    "# Imprime la información general/resumida sobre el DataFrame de usuarios\n",
    "users.info()\n"
   ]
  },
  {
   "cell_type": "code",
   "execution_count": 9,
   "metadata": {
    "id": "1IN1L9uh0q05"
   },
   "outputs": [
    {
     "name": "stdout",
     "output_type": "stream",
     "text": [
      "   user_id first_name  last_name  age                                   city  \\\n",
      "0     1000   Anamaria      Bauer   45  Atlanta-Sandy Springs-Roswell, GA MSA   \n",
      "1     1001     Mickey  Wilkerson   28        Seattle-Tacoma-Bellevue, WA MSA   \n",
      "2     1002     Carlee    Hoffman   36   Las Vegas-Henderson-Paradise, NV MSA   \n",
      "3     1003   Reynaldo    Jenkins   52                          Tulsa, OK MSA   \n",
      "4     1004    Leonila   Thompson   40        Seattle-Tacoma-Bellevue, WA MSA   \n",
      "\n",
      "     reg_date      plan churn_date  \n",
      "0  2018-12-24  ultimate        NaN  \n",
      "1  2018-08-13      surf        NaN  \n",
      "2  2018-10-21      surf        NaN  \n",
      "3  2018-01-28      surf        NaN  \n",
      "4  2018-05-23      surf        NaN  \n"
     ]
    }
   ],
   "source": [
    "# Imprime una muestra de datos para usuarios\n",
    "print(users.head())\n"
   ]
  },
  {
   "cell_type": "markdown",
   "metadata": {
    "id": "dCZoUq4f0q06"
   },
   "source": [
    "[Describe lo que ves y observas en la información general y en la muestra de datos impresa para el precio de datos anterior. ¿Hay algún problema (tipos de datos no adecuados, datos ausentes, etc.) que pudieran necesitar investigación y cambios adicionales? ¿Cómo se puede arreglar?]"
   ]
  },
  {
   "cell_type": "markdown",
   "metadata": {},
   "source": [
    "'''el problema mas evidente seria de las columnas reg_date y churn_date puede que no esten en el formato 'datetime', tambien podemos ver datos faltantes NaN en churn_date sobre todo en los clientes aunactivos, por ultimo en la ciudad city podriamos usar un columna adicional para obtener una version mas precisa si sacaramos datos geograficos'''"
   ]
  },
  {
   "cell_type": "markdown",
   "metadata": {
    "id": "BX5FQh_I0q06"
   },
   "source": [
    "### Corregir los datos"
   ]
  },
  {
   "cell_type": "markdown",
   "metadata": {
    "id": "8OdKMwJv0q06"
   },
   "source": [
    "[Corrige los problemas obvios con los datos basándote en las observaciones iniciales.]"
   ]
  },
  {
   "cell_type": "code",
   "execution_count": 10,
   "metadata": {
    "id": "yUqX-K0C0q07"
   },
   "outputs": [
    {
     "name": "stdout",
     "output_type": "stream",
     "text": [
      "   user_id first_name  last_name  age                                   city  \\\n",
      "0     1000   Anamaria      Bauer   45  Atlanta-Sandy Springs-Roswell, GA MSA   \n",
      "1     1001     Mickey  Wilkerson   28        Seattle-Tacoma-Bellevue, WA MSA   \n",
      "2     1002     Carlee    Hoffman   36   Las Vegas-Henderson-Paradise, NV MSA   \n",
      "3     1003   Reynaldo    Jenkins   52                          Tulsa, OK MSA   \n",
      "4     1004    Leonila   Thompson   40        Seattle-Tacoma-Bellevue, WA MSA   \n",
      "\n",
      "    reg_date      plan churn_date  subscription_days      main_city state  \n",
      "0 2018-12-24  ultimate        NaT               2423        Atlanta    GA  \n",
      "1 2018-08-13      surf        NaT               2556        Seattle    WA  \n",
      "2 2018-10-21      surf        NaT               2487      Las Vegas    NV  \n",
      "3 2018-01-28      surf        NaT               2753  Tulsa, OK MSA    OK  \n",
      "4 2018-05-23      surf        NaT               2638        Seattle    WA  \n"
     ]
    }
   ],
   "source": [
    "from datetime import date\n",
    "users['reg_date'] = pd.to_datetime(users['reg_date'])\n",
    "users['churn_date'] = pd.to_datetime(users['churn_date'])\n",
    "today = pd.to_datetime(date.today())\n",
    "users['subscription_days'] = (users['churn_date'].fillna(today) - users['reg_date']).dt.days\n",
    "users['main_city'] = users['city'].apply(lambda x: x.split('-')[0])\n",
    "users['state'] = users['city'].str.extract(r',\\s(\\w{2})')\n",
    "print(users.head())"
   ]
  },
  {
   "cell_type": "markdown",
   "metadata": {
    "id": "ycwuARJp0q07"
   },
   "source": [
    "### Enriquecer los datos"
   ]
  },
  {
   "cell_type": "markdown",
   "metadata": {
    "id": "96NIh4CJ0q08"
   },
   "source": [
    "[Agrega factores adicionales a los datos si crees que pudieran ser útiles.]"
   ]
  },
  {
   "cell_type": "code",
   "execution_count": 11,
   "metadata": {
    "id": "iq0AaBS90q08"
   },
   "outputs": [
    {
     "name": "stdout",
     "output_type": "stream",
     "text": [
      "   subscription_days      main_city state\n",
      "0               2423        Atlanta    GA\n",
      "1               2556        Seattle    WA\n",
      "2               2487      Las Vegas    NV\n",
      "3               2753  Tulsa, OK MSA    OK\n",
      "4               2638        Seattle    WA\n"
     ]
    }
   ],
   "source": [
    "#podriamos decir que ya enriquecimos la tabla al separar las ciudades, y agregar dias suscribidos lo que haremos a continuacion sera mostrarlos\n",
    "print(users[['subscription_days', 'main_city', 'state']].head())"
   ]
  },
  {
   "cell_type": "markdown",
   "metadata": {
    "id": "o7MeKCid0q08"
   },
   "source": [
    "## Llamadas"
   ]
  },
  {
   "cell_type": "code",
   "execution_count": 12,
   "metadata": {
    "id": "6dDlnoDm0q08"
   },
   "outputs": [
    {
     "name": "stdout",
     "output_type": "stream",
     "text": [
      "<class 'pandas.core.frame.DataFrame'>\n",
      "RangeIndex: 137735 entries, 0 to 137734\n",
      "Data columns (total 4 columns):\n",
      " #   Column     Non-Null Count   Dtype  \n",
      "---  ------     --------------   -----  \n",
      " 0   id         137735 non-null  object \n",
      " 1   user_id    137735 non-null  int64  \n",
      " 2   call_date  137735 non-null  object \n",
      " 3   duration   137735 non-null  float64\n",
      "dtypes: float64(1), int64(1), object(2)\n",
      "memory usage: 4.2+ MB\n"
     ]
    }
   ],
   "source": [
    "# Imprime la información general/resumida sobre el DataFrame de las llamadas\n",
    "calls.info()\n"
   ]
  },
  {
   "cell_type": "code",
   "execution_count": 13,
   "metadata": {
    "id": "kuh1vlNB0q09"
   },
   "outputs": [
    {
     "name": "stdout",
     "output_type": "stream",
     "text": [
      "         id  user_id   call_date  duration\n",
      "0   1000_93     1000  2018-12-27      8.52\n",
      "1  1000_145     1000  2018-12-27     13.66\n",
      "2  1000_247     1000  2018-12-27     14.48\n",
      "3  1000_309     1000  2018-12-28      5.76\n",
      "4  1000_380     1000  2018-12-30      4.22\n"
     ]
    }
   ],
   "source": [
    "# Imprime una muestra de datos para las llamadas\n",
    "print(calls.head())\n"
   ]
  },
  {
   "cell_type": "markdown",
   "metadata": {
    "id": "DOAxYJSx0q09"
   },
   "source": [
    "[Describe lo que ves y observas en la información general y en la muestra de datos impresa para el precio de datos anterior. ¿Hay algún problema (tipos de datos no adecuados, datos ausentes, etc.) que pudieran necesitar investigación y cambios adicionales? ¿Cómo se puede arreglar?]"
   ]
  },
  {
   "cell_type": "markdown",
   "metadata": {},
   "source": [
    "'''como podemos observar la columna call_date esta en formato objet cuando deberia estar en datetime'''"
   ]
  },
  {
   "cell_type": "markdown",
   "metadata": {
    "id": "S7hzxmbX0q0-"
   },
   "source": [
    "### Corregir los datos"
   ]
  },
  {
   "cell_type": "markdown",
   "metadata": {
    "id": "YxWyAjD20q0-"
   },
   "source": [
    "[Corrige los problemas obvios con los datos basándote en las observaciones iniciales.]"
   ]
  },
  {
   "cell_type": "code",
   "execution_count": 14,
   "metadata": {
    "id": "S2r8xA4f0q0-"
   },
   "outputs": [
    {
     "name": "stdout",
     "output_type": "stream",
     "text": [
      "<class 'pandas.core.frame.DataFrame'>\n",
      "RangeIndex: 137735 entries, 0 to 137734\n",
      "Data columns (total 4 columns):\n",
      " #   Column     Non-Null Count   Dtype         \n",
      "---  ------     --------------   -----         \n",
      " 0   id         137735 non-null  object        \n",
      " 1   user_id    137735 non-null  int64         \n",
      " 2   call_date  137735 non-null  datetime64[ns]\n",
      " 3   duration   137735 non-null  float64       \n",
      "dtypes: datetime64[ns](1), float64(1), int64(1), object(1)\n",
      "memory usage: 4.2+ MB\n",
      "None\n"
     ]
    }
   ],
   "source": [
    "calls['call_date'] = pd.to_datetime(calls['call_date'])\n",
    "print(calls.info())"
   ]
  },
  {
   "cell_type": "markdown",
   "metadata": {
    "id": "KrMgTrlG0q0_"
   },
   "source": [
    "### Enriquecer los datos"
   ]
  },
  {
   "cell_type": "markdown",
   "metadata": {
    "id": "a9MbmEvE0q0_"
   },
   "source": [
    "[Agrega factores adicionales a los datos si crees que pudieran ser útiles.]"
   ]
  },
  {
   "cell_type": "code",
   "execution_count": 15,
   "metadata": {
    "id": "iZ1avpA_0q0_"
   },
   "outputs": [
    {
     "name": "stdout",
     "output_type": "stream",
     "text": [
      "         id  user_id  call_date  duration  rounded_duration  month  year  day\n",
      "0   1000_93     1000 2018-12-27      8.52                 9     12  2018   27\n",
      "1  1000_145     1000 2018-12-27     13.66                14     12  2018   27\n",
      "2  1000_247     1000 2018-12-27     14.48                15     12  2018   27\n",
      "3  1000_309     1000 2018-12-28      5.76                 6     12  2018   28\n",
      "4  1000_380     1000 2018-12-30      4.22                 5     12  2018   30\n",
      "<class 'pandas.core.frame.DataFrame'>\n",
      "RangeIndex: 137735 entries, 0 to 137734\n",
      "Data columns (total 8 columns):\n",
      " #   Column            Non-Null Count   Dtype         \n",
      "---  ------            --------------   -----         \n",
      " 0   id                137735 non-null  object        \n",
      " 1   user_id           137735 non-null  int64         \n",
      " 2   call_date         137735 non-null  datetime64[ns]\n",
      " 3   duration          137735 non-null  float64       \n",
      " 4   rounded_duration  137735 non-null  int64         \n",
      " 5   month             137735 non-null  int32         \n",
      " 6   year              137735 non-null  int32         \n",
      " 7   day               137735 non-null  int32         \n",
      "dtypes: datetime64[ns](1), float64(1), int32(3), int64(2), object(1)\n",
      "memory usage: 6.8+ MB\n"
     ]
    }
   ],
   "source": [
    "calls['rounded_duration'] = np.ceil(calls['duration']).astype('int')\n",
    "calls['call_date'] = pd.to_datetime(calls['call_date'])\n",
    "calls['month'] = calls['call_date'].dt.month\n",
    "calls['year'] = calls['call_date'].dt.year\n",
    "calls['day'] = calls['call_date'].dt.day\n",
    "print(calls.head())\n",
    "calls.info()"
   ]
  },
  {
   "cell_type": "markdown",
   "metadata": {
    "id": "mOUZSi180q0_"
   },
   "source": [
    "## Mensajes"
   ]
  },
  {
   "cell_type": "code",
   "execution_count": 36,
   "metadata": {
    "id": "R-bYJpdV0q1A"
   },
   "outputs": [
    {
     "name": "stdout",
     "output_type": "stream",
     "text": [
      "<class 'pandas.core.frame.DataFrame'>\n",
      "RangeIndex: 76051 entries, 0 to 76050\n",
      "Data columns (total 3 columns):\n",
      " #   Column        Non-Null Count  Dtype \n",
      "---  ------        --------------  ----- \n",
      " 0   id            76051 non-null  object\n",
      " 1   user_id       76051 non-null  int64 \n",
      " 2   message_date  76051 non-null  object\n",
      "dtypes: int64(1), object(2)\n",
      "memory usage: 1.7+ MB\n"
     ]
    }
   ],
   "source": [
    "# Imprime la información general/resumida sobre el DataFrame de los mensajes\n",
    "messages.info()"
   ]
  },
  {
   "cell_type": "code",
   "execution_count": 37,
   "metadata": {
    "id": "mCEl2iGE0q1A"
   },
   "outputs": [
    {
     "name": "stdout",
     "output_type": "stream",
     "text": [
      "         id  user_id message_date\n",
      "0  1000_125     1000   2018-12-27\n",
      "1  1000_160     1000   2018-12-31\n",
      "2  1000_223     1000   2018-12-31\n",
      "3  1000_251     1000   2018-12-27\n",
      "4  1000_255     1000   2018-12-26\n"
     ]
    }
   ],
   "source": [
    "# Imprime una muestra de datos para los mensajes\n",
    "print(messages.head())"
   ]
  },
  {
   "cell_type": "markdown",
   "metadata": {
    "id": "04xDj7KH0q1A"
   },
   "source": [
    "[Describe lo que ves y observas en la información general y en la muestra de datos impresa para el precio de datos anterior. ¿Hay algún problema (tipos de datos no adecuados, datos ausentes, etc.) que pudieran necesitar investigación y cambios adicionales? ¿Cómo se puede arreglar?]"
   ]
  },
  {
   "cell_type": "markdown",
   "metadata": {},
   "source": [
    "''' mostramos la informacion y luego la imprimos y vemos que la columna message_date no esta en el formato correcto'''"
   ]
  },
  {
   "cell_type": "markdown",
   "metadata": {
    "id": "Sprfak900q1B"
   },
   "source": [
    "### Corregir los datos"
   ]
  },
  {
   "cell_type": "markdown",
   "metadata": {
    "id": "eGw7d9j10q1B"
   },
   "source": [
    "[Corrige los problemas obvios con los datos basándote en las observaciones iniciales.]"
   ]
  },
  {
   "cell_type": "code",
   "execution_count": 38,
   "metadata": {
    "id": "vsllvkoa0q1B"
   },
   "outputs": [],
   "source": [
    "messages['message_date'] = pd.to_datetime(messages['message_date'])"
   ]
  },
  {
   "cell_type": "markdown",
   "metadata": {
    "id": "HvLid7iD0q1B"
   },
   "source": [
    "### Enriquecer los datos"
   ]
  },
  {
   "cell_type": "markdown",
   "metadata": {
    "id": "8nhPFKIe0q1C"
   },
   "source": [
    "[Agrega factores adicionales a los datos si crees que pudieran ser útiles.]"
   ]
  },
  {
   "cell_type": "code",
   "execution_count": 40,
   "metadata": {
    "id": "zYEXZac10q1C"
   },
   "outputs": [
    {
     "name": "stdout",
     "output_type": "stream",
     "text": [
      "         id  user_id message_date  month  year  day\n",
      "0  1000_125     1000   2018-12-27     12  2018   27\n",
      "1  1000_160     1000   2018-12-31     12  2018   31\n",
      "2  1000_223     1000   2018-12-31     12  2018   31\n",
      "3  1000_251     1000   2018-12-27     12  2018   27\n",
      "4  1000_255     1000   2018-12-26     12  2018   26\n"
     ]
    }
   ],
   "source": [
    "messages['month'] = messages['message_date'].dt.month\n",
    "messages['year'] = messages['message_date'].dt.year\n",
    "messages['day'] = messages['message_date'].dt.day\n",
    "print(messages.head())"
   ]
  },
  {
   "cell_type": "markdown",
   "metadata": {
    "id": "bStkaxn40q1C"
   },
   "source": [
    "## Internet"
   ]
  },
  {
   "cell_type": "code",
   "execution_count": 41,
   "metadata": {
    "id": "e-Uz5qyn0q1C"
   },
   "outputs": [
    {
     "name": "stdout",
     "output_type": "stream",
     "text": [
      "<class 'pandas.core.frame.DataFrame'>\n",
      "RangeIndex: 104825 entries, 0 to 104824\n",
      "Data columns (total 4 columns):\n",
      " #   Column        Non-Null Count   Dtype  \n",
      "---  ------        --------------   -----  \n",
      " 0   id            104825 non-null  object \n",
      " 1   user_id       104825 non-null  int64  \n",
      " 2   session_date  104825 non-null  object \n",
      " 3   mb_used       104825 non-null  float64\n",
      "dtypes: float64(1), int64(1), object(2)\n",
      "memory usage: 3.2+ MB\n"
     ]
    }
   ],
   "source": [
    "# Imprime la información general/resumida sobre el DataFrame de internet\n",
    "internet.info()\n"
   ]
  },
  {
   "cell_type": "code",
   "execution_count": 42,
   "metadata": {
    "id": "9r3x_XLw0q1C"
   },
   "outputs": [
    {
     "name": "stdout",
     "output_type": "stream",
     "text": [
      "         id  user_id session_date  mb_used\n",
      "0   1000_13     1000   2018-12-29    89.86\n",
      "1  1000_204     1000   2018-12-31     0.00\n",
      "2  1000_379     1000   2018-12-28   660.40\n",
      "3  1000_413     1000   2018-12-26   270.99\n",
      "4  1000_442     1000   2018-12-27   880.22\n"
     ]
    }
   ],
   "source": [
    "# Imprime una muestra de datos para el tráfico de internet\n",
    "print(internet.head())\n"
   ]
  },
  {
   "cell_type": "markdown",
   "metadata": {
    "id": "EzOG5ik30q1D"
   },
   "source": [
    "[Describe lo que ves y observas en la información general y en la muestra de datos impresa para el precio de datos anterior. ¿Hay algún problema (tipos de datos no adecuados, datos ausentes, etc.) que pudieran necesitar investigación y cambios adicionales? ¿Cómo se puede arreglar?]"
   ]
  },
  {
   "cell_type": "markdown",
   "metadata": {
    "id": "yA0tkPFg0q1D"
   },
   "source": [
    "### Corregir los datos"
   ]
  },
  {
   "cell_type": "markdown",
   "metadata": {
    "id": "zlZMuIEK0q1D"
   },
   "source": [
    "[Corrige los problemas obvios con los datos basándote en las observaciones iniciales.]"
   ]
  },
  {
   "cell_type": "code",
   "execution_count": 46,
   "metadata": {
    "id": "zVeanzdd0q1E"
   },
   "outputs": [],
   "source": [
    "internet['session_date'] = pd.to_datetime(internet['session_date'])"
   ]
  },
  {
   "cell_type": "markdown",
   "metadata": {
    "id": "e8_mLF4a0q1E"
   },
   "source": [
    "### Enriquecer los datos"
   ]
  },
  {
   "cell_type": "markdown",
   "metadata": {
    "id": "xhNdn2tE0q1E"
   },
   "source": [
    "[Agrega factores adicionales a los datos si crees que pudieran ser útiles.]"
   ]
  },
  {
   "cell_type": "code",
   "execution_count": 47,
   "metadata": {
    "id": "ESiYPIEK0q1E"
   },
   "outputs": [
    {
     "name": "stdout",
     "output_type": "stream",
     "text": [
      "         id  user_id session_date  mb_used  month  year  \\\n",
      "0   1000_13     1000   2018-12-29    89.86     12  2018   \n",
      "1  1000_204     1000   2018-12-31     0.00     12  2018   \n",
      "2  1000_379     1000   2018-12-28   660.40     12  2018   \n",
      "3  1000_413     1000   2018-12-26   270.99     12  2018   \n",
      "4  1000_442     1000   2018-12-27   880.22     12  2018   \n",
      "\n",
      "                                                 day   gb_used  \n",
      "0  <bound method PandasDelegate._add_delegate_acc...  0.087754  \n",
      "1  <bound method PandasDelegate._add_delegate_acc...  0.000000  \n",
      "2  <bound method PandasDelegate._add_delegate_acc...  0.644922  \n",
      "3  <bound method PandasDelegate._add_delegate_acc...  0.264639  \n",
      "4  <bound method PandasDelegate._add_delegate_acc...  0.859590  \n"
     ]
    }
   ],
   "source": [
    "internet['month'] = internet['session_date'].dt.month\n",
    "internet['year'] = internet['session_date'].dt.year\n",
    "internet['day'] = internet['session_date'].dt.day_name\n",
    "internet['gb_used'] = internet['mb_used'] / 1024\n",
    "print(internet.head())"
   ]
  },
  {
   "cell_type": "markdown",
   "metadata": {
    "id": "3UA2cqIW0q1E"
   },
   "source": [
    "## Estudiar las condiciones de las tarifas"
   ]
  },
  {
   "cell_type": "markdown",
   "metadata": {
    "id": "T86Sqltq0q1F"
   },
   "source": [
    "[Es sumamente importante entender cómo funcionan las tarifas, cómo se les cobra a los usuarios en función de su plan de suscripción. Así que te sugerimos imprimir la información de la tarifa para ver una vez más sus condiciones.]"
   ]
  },
  {
   "cell_type": "code",
   "execution_count": 59,
   "metadata": {
    "id": "i409op8p0q1F"
   },
   "outputs": [
    {
     "name": "stdout",
     "output_type": "stream",
     "text": [
      "   user_id plan_name  usd_monthly_fee  messages_included  \\\n",
      "0     1000  ultimate             70.0               1000   \n",
      "1     1001      surf             20.0                 50   \n",
      "2     1002      surf             20.0                 50   \n",
      "3     1003      surf             20.0                 50   \n",
      "4     1004      surf             20.0                 50   \n",
      "\n",
      "   mb_per_month_included  minutes_included  usd_per_gb  usd_per_message  \\\n",
      "0                  30720              3000           7             0.01   \n",
      "1                  15360               500          10             0.03   \n",
      "2                  15360               500          10             0.03   \n",
      "3                  15360               500          10             0.03   \n",
      "4                  15360               500          10             0.03   \n",
      "\n",
      "   usd_per_minute  \n",
      "0            0.01  \n",
      "1            0.03  \n",
      "2            0.03  \n",
      "3            0.03  \n",
      "4            0.03  \n"
     ]
    }
   ],
   "source": [
    "# Imprime las condiciones de la tarifa y asegúrate de que te quedan claras\n",
    "print(dataframe_by_plans[['user_id','plan_name','usd_monthly_fee','messages_included','mb_per_month_included','minutes_included','usd_per_gb','usd_per_message','usd_per_minute']].head())\n"
   ]
  },
  {
   "cell_type": "markdown",
   "metadata": {
    "id": "hMR1tP5d0q1F"
   },
   "source": [
    "## Agregar datos por usuario\n",
    "\n",
    "[Ahora que los datos están limpios, agrega los datos por usuario y por periodo para que solo haya un registro por usuario y por periodo. Esto facilitará mucho el análisis posterior.]"
   ]
  },
  {
   "cell_type": "code",
   "execution_count": 80,
   "metadata": {
    "id": "A332cedB0q1G"
   },
   "outputs": [
    {
     "name": "stdout",
     "output_type": "stream",
     "text": [
      "   user_id  call_date  calls_count\n",
      "0     1000 2018-12-31           16\n",
      "1     1001 2018-08-31           27\n",
      "2     1001 2018-09-30           49\n",
      "3     1001 2018-10-31           65\n",
      "4     1001 2018-11-30           64\n"
     ]
    }
   ],
   "source": [
    "# Calcula el número de llamadas hechas por cada usuario al mes. Guarda el resultado.\n",
    "calls_agg = calls.groupby(\n",
    "    ['user_id', pd.Grouper(key='call_date', freq='ME')]\n",
    ").agg(\n",
    "    calls_count=('id', 'count'),\n",
    "    \n",
    ").reset_index()\n",
    "\n",
    "print(calls_agg.head())"
   ]
  },
  {
   "cell_type": "code",
   "execution_count": 81,
   "metadata": {
    "id": "aw2cmuql0q1G"
   },
   "outputs": [
    {
     "name": "stdout",
     "output_type": "stream",
     "text": [
      "      user_id  call_date  calls_count  total_duration\n",
      "1769     1389 2018-08-31           62          360.09\n",
      "1696     1371 2018-11-30           64          416.36\n",
      "1080     1236 2018-05-31           58          346.37\n",
      "75       1022 2018-05-31           39          287.34\n",
      "913      1196 2018-01-31           42          272.56\n"
     ]
    }
   ],
   "source": [
    "# Calcula la cantidad de minutos usados por cada usuario al mes. Guarda el resultado.\n",
    "calls_agg = calls.groupby(\n",
    "    ['user_id', pd.Grouper(key='call_date', freq='ME')]\n",
    ").agg(\n",
    "    calls_count=('id', 'count'),\n",
    "    total_duration=('duration', 'sum')\n",
    ").reset_index()\n",
    "\n",
    "print(calls_agg.sample(5))\n"
   ]
  },
  {
   "cell_type": "code",
   "execution_count": 82,
   "metadata": {
    "id": "CcQvNHn60q1G"
   },
   "outputs": [
    {
     "name": "stdout",
     "output_type": "stream",
     "text": [
      "      user_id message_date  messages_count\n",
      "377      1105   2018-12-31             104\n",
      "1602     1439   2018-07-31              59\n",
      "107      1038   2018-11-30             106\n",
      "1100     1294   2018-11-30              35\n",
      "1471     1394   2018-11-30              32\n"
     ]
    }
   ],
   "source": [
    "# Calcula el número de mensajes enviados por cada usuario al mes. Guarda el resultado.\n",
    "messages_agg = messages.groupby(\n",
    "    ['user_id', pd.Grouper(key='message_date', freq='ME')]\n",
    ").agg(\n",
    "    messages_count=('id', 'count')\n",
    ").reset_index()\n",
    "\n",
    "print(messages_agg.sample(5))\n"
   ]
  },
  {
   "cell_type": "code",
   "execution_count": 83,
   "metadata": {
    "id": "H1AqN2eG0q1H"
   },
   "outputs": [
    {
     "name": "stdout",
     "output_type": "stream",
     "text": [
      "      user_id session_date  total_mb_used\n",
      "1760     1381   2018-12-31       21430.02\n",
      "1554     1336   2018-11-30       17539.04\n",
      "446      1095   2018-09-30       15110.19\n",
      "912      1191   2018-05-31       10402.98\n",
      "1386     1299   2018-10-31       15037.31\n"
     ]
    }
   ],
   "source": [
    "# Calcula el volumen del tráfico de Internet usado por cada usuario al mes. Guarda el resultado.\n",
    "internet_agg = internet.groupby(\n",
    "    ['user_id', pd.Grouper(key='session_date', freq='ME')]\n",
    ").agg(\n",
    "    total_mb_used=('mb_used', 'sum')\n",
    ").reset_index()\n",
    "\n",
    "print(internet_agg.sample(5))\n"
   ]
  },
  {
   "cell_type": "markdown",
   "metadata": {
    "id": "VDfYXnj80q1H"
   },
   "source": [
    "[Junta los datos agregados en un DataFrame para que haya un registro que represente lo que consumió un usuario único en un mes determinado.]"
   ]
  },
  {
   "cell_type": "code",
   "execution_count": 86,
   "metadata": {
    "id": "FW99ykyf0q1H"
   },
   "outputs": [
    {
     "name": "stdout",
     "output_type": "stream",
     "text": [
      "      user_id first_name last_name   age  \\\n",
      "1991     1421       Zane     Hobbs  26.0   \n",
      "1045     1215     Adelle     Knapp  70.0   \n",
      "1118     1235     Felton    Nguyen  50.0   \n",
      "39       1010     Wilber     Blair  52.0   \n",
      "1337     1282     Annice   Calhoun  61.0   \n",
      "\n",
      "                                             city   reg_date      plan  \\\n",
      "1991                Phoenix-Mesa-Chandler, AZ MSA 2018-05-18      surf   \n",
      "1045    New York-Newark-Jersey City, NY-NJ-PA MSA 2018-07-01      surf   \n",
      "1118  Minneapolis-St. Paul-Bloomington, MN-WI MSA 2018-02-20      surf   \n",
      "39            Dallas-Fort Worth-Arlington, TX MSA 2018-03-09      surf   \n",
      "1337       San Francisco-Oakland-Berkeley, CA MSA 2018-11-01  ultimate   \n",
      "\n",
      "     churn_date  subscription_days      main_city state  call_date  \\\n",
      "1991        NaT             2643.0        Phoenix    AZ 2018-11-30   \n",
      "1045        NaT             2599.0       New York    NY 2018-12-31   \n",
      "1118        NaT             2730.0    Minneapolis    MN 2018-12-31   \n",
      "39          NaT             2713.0         Dallas    TX 2018-05-31   \n",
      "1337        NaT             2476.0  San Francisco    CA 2018-11-30   \n",
      "\n",
      "      calls_count  total_duration    month message_date  messages_count  \\\n",
      "1991         72.0          417.71  2018-11   2018-11-30            67.0   \n",
      "1045        129.0         1108.45  2018-12   2018-12-31            98.0   \n",
      "1118         20.0          137.59  2018-12   2018-12-31            28.0   \n",
      "39           81.0          497.94  2018-05          NaT             0.0   \n",
      "1337         64.0          410.02  2018-11          NaT             0.0   \n",
      "\n",
      "     session_date  total_mb_used  \n",
      "1991   2018-11-30       16629.12  \n",
      "1045   2018-12-31       34298.28  \n",
      "1118   2018-12-31        7245.31  \n",
      "39     2018-05-31       15888.52  \n",
      "1337   2018-11-30       17295.28  \n"
     ]
    }
   ],
   "source": [
    "# Fusiona los datos de llamadas, minutos, mensajes e Internet con base en user_id y month\n",
    "messages['message_date'] = pd.to_datetime(messages['message_date'])\n",
    "calls_agg['month'] = calls_agg['call_date'].dt.to_period('M')\n",
    "messages_agg['month'] = messages_agg['message_date'].dt.to_period('M')\n",
    "internet_agg['month'] = internet_agg['session_date'].dt.to_period('M')\n",
    "\n",
    "\n",
    "all_data_merged = pd.merge(users, calls_agg, on='user_id', how='outer')\n",
    "all_data_merged = pd.merge(all_data_merged, messages_agg, on=['user_id', 'month'], how='outer')\n",
    "all_data_merged = pd.merge(all_data_merged, internet_agg, on=['user_id', 'month'], how='outer')\n",
    "columns_to_fill = ['calls_count', 'total_duration', 'messages_count', 'total_mb_used']\n",
    "all_data_merged[columns_to_fill] = all_data_merged[columns_to_fill].fillna(0)\n",
    "\n",
    "\n",
    "print(all_data_merged.sample(5))\n"
   ]
  },
  {
   "cell_type": "code",
   "execution_count": 92,
   "metadata": {
    "id": "0dNOXHag0q1H"
   },
   "outputs": [
    {
     "name": "stdout",
     "output_type": "stream",
     "text": [
      "   user_id first_name  last_name   age                                   city  \\\n",
      "0     1000   Anamaria      Bauer  45.0  Atlanta-Sandy Springs-Roswell, GA MSA   \n",
      "1     1001     Mickey  Wilkerson  28.0        Seattle-Tacoma-Bellevue, WA MSA   \n",
      "2     1001     Mickey  Wilkerson  28.0        Seattle-Tacoma-Bellevue, WA MSA   \n",
      "3     1001     Mickey  Wilkerson  28.0        Seattle-Tacoma-Bellevue, WA MSA   \n",
      "4     1001     Mickey  Wilkerson  28.0        Seattle-Tacoma-Bellevue, WA MSA   \n",
      "\n",
      "    reg_date      plan churn_date  subscription_days main_city  ...  \\\n",
      "0 2018-12-24  ultimate        NaT             2423.0   Atlanta  ...   \n",
      "1 2018-08-13      surf        NaT             2556.0   Seattle  ...   \n",
      "2 2018-08-13      surf        NaT             2556.0   Seattle  ...   \n",
      "3 2018-08-13      surf        NaT             2556.0   Seattle  ...   \n",
      "4 2018-08-13      surf        NaT             2556.0   Seattle  ...   \n",
      "\n",
      "  session_date total_mb_used  messages_included  mb_per_month_included  \\\n",
      "0   2018-12-31       1901.47             1000.0                30720.0   \n",
      "1   2018-08-31       6919.15               50.0                15360.0   \n",
      "2   2018-09-30      13314.82               50.0                15360.0   \n",
      "3   2018-10-31      22330.49               50.0                15360.0   \n",
      "4   2018-11-30      18504.30               50.0                15360.0   \n",
      "\n",
      "  minutes_included usd_monthly_fee  usd_per_gb usd_per_message  \\\n",
      "0           3000.0            70.0         7.0            0.01   \n",
      "1            500.0            20.0        10.0            0.03   \n",
      "2            500.0            20.0        10.0            0.03   \n",
      "3            500.0            20.0        10.0            0.03   \n",
      "4            500.0            20.0        10.0            0.03   \n",
      "\n",
      "   usd_per_minute  plan_name  \n",
      "0            0.01   ultimate  \n",
      "1            0.03       surf  \n",
      "2            0.03       surf  \n",
      "3            0.03       surf  \n",
      "4            0.03       surf  \n",
      "\n",
      "[5 rows x 27 columns]\n"
     ]
    }
   ],
   "source": [
    "# Añade la información de la tarifa\n",
    "all_data_merged = pd.merge(\n",
    "    all_data_merged, \n",
    "    plans, \n",
    "    left_on='plan', \n",
    "    right_on='plan_name', \n",
    "    how='left'\n",
    ")\n",
    "\n",
    "print(all_data_merged.head())\n"
   ]
  },
  {
   "cell_type": "markdown",
   "metadata": {
    "id": "1IwGo4wg0q1I"
   },
   "source": [
    "[Calcula los ingresos mensuales por usuario (resta el límite del paquete gratuito del número total de llamadas, mensajes de texto y datos; multiplica el resultado por el valor del plan de llamadas; añade la tarifa mensual en función del plan de llamadas). Nota: Dadas las condiciones del plan, ¡esto podría no ser tan trivial como un par de líneas! Así que no pasa nada si dedicas algo de tiempo a ello.]"
   ]
  },
  {
   "cell_type": "code",
   "execution_count": 96,
   "metadata": {
    "id": "5FGCf_c60q1I"
   },
   "outputs": [
    {
     "name": "stdout",
     "output_type": "stream",
     "text": [
      "       plan  minutes_cost  messages_cost  gb_cost  monthly_revenue\n",
      "0  ultimate           0.0           0.00      0.0            70.00\n",
      "1      surf           0.0           0.00      0.0            20.00\n",
      "2      surf           0.0           0.00      0.0            20.00\n",
      "3      surf           0.0           0.09     70.0            90.09\n",
      "4      surf           0.0           0.00     40.0            60.00\n"
     ]
    }
   ],
   "source": [
    "# Calcula el ingreso mensual para cada usuario\n",
    "\n",
    "all_data_merged['total_duration'] = all_data_merged['total_duration'].fillna(0)\n",
    "all_data_merged['messages_count'] = all_data_merged['messages_count'].fillna(0)\n",
    "all_data_merged['total_mb_used'] = all_data_merged['total_mb_used'].fillna(0)\n",
    "all_data_merged['minutes_overage'] = np.maximum(0, all_data_merged['total_duration'] - all_data_merged['minutes_included'])\n",
    "all_data_merged['minutes_cost'] = all_data_merged['minutes_overage'] * all_data_merged['usd_per_minute']\n",
    "\n",
    "all_data_merged['messages_overage'] = np.maximum(0, all_data_merged['messages_count'] - all_data_merged['messages_included'])\n",
    "all_data_merged['messages_cost'] = all_data_merged['messages_overage'] * all_data_merged['usd_per_message']\n",
    "all_data_merged['gb_per_month_included'] = all_data_merged['mb_per_month_included'] / 1024\n",
    "all_data_merged['gb_used'] = all_data_merged['total_mb_used'] / 1024\n",
    "all_data_merged['gb_overage'] = np.maximum(0, all_data_merged['gb_used'] - all_data_merged['gb_per_month_included'])\n",
    "all_data_merged['gb_overage_rounded'] = all_data_merged['gb_overage'].apply(np.ceil)\n",
    "all_data_merged['gb_cost'] = all_data_merged['gb_overage_rounded'] * all_data_merged['usd_per_gb']\n",
    "\n",
    "all_data_merged['monthly_revenue'] = (\n",
    "    all_data_merged['usd_monthly_fee'] +\n",
    "    all_data_merged['minutes_cost'] +\n",
    "    all_data_merged['messages_cost'] +\n",
    "    all_data_merged['gb_cost']\n",
    ")\n",
    "\n",
    "print(all_data_merged[['plan', 'minutes_cost', 'messages_cost', 'gb_cost', 'monthly_revenue']].head())"
   ]
  },
  {
   "cell_type": "markdown",
   "metadata": {
    "id": "-jtyHzJb0q1I"
   },
   "source": [
    "## Estudia el comportamiento de usuario"
   ]
  },
  {
   "cell_type": "markdown",
   "metadata": {
    "id": "AxU3Y0N70q1J"
   },
   "source": [
    "[Calcula algunas estadísticas descriptivas para los datos agregados y fusionados que nos sean útiles y que muestren un panorama general captado por los datos. Dibuja gráficos útiles para facilitar la comprensión. Dado que la tarea principal es comparar las tarifas y decidir cuál es más rentable, las estadísticas y gráficas deben calcularse por tarifa.]\n",
    "\n",
    "[En los comentarios hallarás pistas relevantes para las llamadas, pero no las hay para los mensajes e Internet. Sin embargo, el principio del estudio estadístico que se aplica para ellos es el mismo que para las llamadas.]"
   ]
  },
  {
   "cell_type": "markdown",
   "metadata": {
    "id": "vtW4CJEe0q1J"
   },
   "source": [
    "### Llamadas"
   ]
  },
  {
   "cell_type": "code",
   "execution_count": 107,
   "metadata": {
    "id": "Jf5v5--k0q1J",
    "scrolled": true
   },
   "outputs": [
    {
     "name": "stdout",
     "output_type": "stream",
     "text": [
      "        plan    month  avg_duration\n",
      "6       surf  2018-07    428.060917\n",
      "23  ultimate  2018-12    438.824832\n",
      "22  ultimate  2018-11    423.814683\n",
      "9       surf  2018-10    414.435733\n",
      "8       surf  2018-09    397.133298\n"
     ]
    },
    {
     "data": {
      "image/png": "[encoded data removed]",
      "text/plain": [
       "<Figure size 1200x600 with 1 Axes>"
      ]
     },
     "metadata": {},
     "output_type": "display_data"
    }
   ],
   "source": [
    "# Compara la duración promedio de llamadas por cada plan y por cada mes. Traza un gráfico de barras para visualizarla.\n",
    "\n",
    "avg_duration_by_plan = all_data_merged.groupby(['plan', 'month']).agg(\n",
    "    avg_duration=('total_duration', 'mean')\n",
    ").reset_index()\n",
    "\n",
    "print(avg_duration_by_plan.sample(5))\n",
    "\n",
    "months = avg_duration_by_plan['month'].unique().astype(str)\n",
    "surf_data = avg_duration_by_plan[avg_duration_by_plan['plan'] == 'surf']['avg_duration']\n",
    "ultimate_data = avg_duration_by_plan[avg_duration_by_plan['plan'] == 'ultimate']['avg_duration']\n",
    "fig, ax = plt.subplots(figsize=(12, 6))\n",
    "bar_width = 0.35\n",
    "r1 = range(len(surf_data))\n",
    "r2 = [x + bar_width for x in r1]\n",
    "ax.bar(r1, surf_data, color='skyblue', width=bar_width, edgecolor='grey', label='Surf')\n",
    "ax.bar(r2, ultimate_data, color='orange', width=bar_width, edgecolor='grey', label='Ultimate')\n",
    "\n",
    "plt.title('Duración Promedio de Llamadas por Plan y Mes', fontsize=16)\n",
    "plt.xlabel('Mes', fontsize=12)\n",
    "plt.ylabel('Duración Promedio (minutos)', fontsize=12)\n",
    "ax.set_xticks([r + bar_width/2 for r in range(len(surf_data))])\n",
    "ax.set_xticklabels(months, rotation=45, ha='right')\n",
    "ax.legend()\n",
    "plt.tight_layout()\n",
    "plt.show()"
   ]
  },
  {
   "cell_type": "code",
   "execution_count": 108,
   "metadata": {
    "id": "QoLqW1S_0q1J"
   },
   "outputs": [
    {
     "data": {
      "image/png": "[encoded data removed]",
      "text/plain": [
       "<Figure size 1000x600 with 1 Axes>"
      ]
     },
     "metadata": {},
     "output_type": "display_data"
    }
   ],
   "source": [
    "# Compara el número de minutos mensuales que necesitan los usuarios de cada plan. Traza un histograma.\n",
    "surf_minutes = all_data_merged[all_data_merged['plan'] == 'surf']['total_duration']\n",
    "ultimate_minutes = all_data_merged[all_data_merged['plan'] == 'ultimate']['total_duration']\n",
    "\n",
    "plt.figure(figsize=(10, 6))\n",
    "\n",
    "plt.hist(\n",
    "    [surf_minutes, ultimate_minutes],\n",
    "    bins=30,\n",
    "    label=['Surf', 'Ultimate'],\n",
    "    color=['skyblue', 'salmon'],\n",
    "    alpha=0.7\n",
    ")\n",
    "\n",
    "plt.title('Distribución de Minutos de Llamada por Plan Mensual', fontsize=16)\n",
    "plt.xlabel('Minutos de Llamada al Mes', fontsize=12)\n",
    "plt.ylabel('Frecuencia', fontsize=12)\n",
    "plt.legend(title='Plan')\n",
    "plt.grid(axis='y', linestyle='--', alpha=0.7)\n",
    "plt.tight_layout()\n",
    "\n",
    "plt.show()\n"
   ]
  },
  {
   "cell_type": "markdown",
   "metadata": {
    "id": "bLS9T8OH0q1K"
   },
   "source": [
    "[Calcula la media y la variable de la duración de las llamadas para averiguar si los usuarios de los distintos planes se comportan de forma diferente al realizar sus llamadas.]"
   ]
  },
  {
   "cell_type": "code",
   "execution_count": 109,
   "metadata": {
    "id": "oSndbAnt0q1K"
   },
   "outputs": [
    {
     "name": "stdout",
     "output_type": "stream",
     "text": [
      "Estadísticas de la duración mensual de llamadas por plan:\n",
      "                mean           var\n",
      "plan                              \n",
      "surf      408.659332  48014.923548\n",
      "ultimate  406.758025  51482.780142\n"
     ]
    }
   ],
   "source": [
    "# Calcula la media y la varianza de la duración mensual de llamadas.\n",
    "plan_stats = all_data_merged.groupby('plan')['total_duration'].agg(['mean', 'var'])\n",
    "\n",
    "print(\"Estadísticas de la duración mensual de llamadas por plan:\")\n",
    "print(plan_stats)"
   ]
  },
  {
   "cell_type": "code",
   "execution_count": 111,
   "metadata": {
    "id": "nZzoRUKc0q1K"
   },
   "outputs": [
    {
     "data": {
      "image/png": "[encoded data removed]",
      "text/plain": [
       "<Figure size 800x600 with 1 Axes>"
      ]
     },
     "metadata": {},
     "output_type": "display_data"
    }
   ],
   "source": [
    "# Traza un diagrama de caja para visualizar la distribución de la duración mensual de llamadas\n",
    "\n",
    "surf_minutes = all_data_merged[all_data_merged['plan'] == 'surf']['total_duration']\n",
    "ultimate_minutes = all_data_merged[all_data_merged['plan'] == 'ultimate']['total_duration']\n",
    "\n",
    "data_to_plot = [surf_minutes, ultimate_minutes]\n",
    "\n",
    "plt.figure(figsize=(8, 6))\n",
    "plt.boxplot(data_to_plot, tick_labels=['Surf', 'Ultimate'])\n",
    "\n",
    "plt.title('Distribución de la Duración de Llamadas por Plan', fontsize=16)\n",
    "plt.ylabel('Minutos de Llamada al Mes', fontsize=12)\n",
    "plt.xlabel('Plan', fontsize=12)\n",
    "plt.grid(axis='y', linestyle='--', alpha=0.7)\n",
    "plt.tight_layout()\n",
    "\n",
    "plt.show()\n"
   ]
  },
  {
   "cell_type": "markdown",
   "metadata": {
    "id": "r627zBO50q1K"
   },
   "source": [
    "[Elabora las conclusiones sobre el comportamiento de los usuarios con respecto a las llamadas. ¿Su comportamiento varía en función del plan?]"
   ]
  },
  {
   "cell_type": "markdown",
   "metadata": {},
   "source": [
    "'''En pocas palabras, los usuarios de ambos planes usan más o menos la misma cantidad de minutos al mes.\n",
    "El plan no cambia el promedio de uso: No importa si tienen el plan surf o ultimate, el tiempo de llamadas promedio es muy similar.\n",
    "Hay más variedad en el plan caro: Los usuarios del plan ultimate tienen un rango de uso de minutos más amplio. Esto significa que hay más usuarios que casi no llaman, pero también hay más usuarios que llaman muchísimo, lo que crea más variación en sus hábitos.'''"
   ]
  },
  {
   "cell_type": "markdown",
   "metadata": {
    "id": "8idKy8Wh0q1L"
   },
   "source": [
    "### Mensajes"
   ]
  },
  {
   "cell_type": "code",
   "execution_count": 124,
   "metadata": {
    "id": "NXLxiTit0q1L"
   },
   "outputs": [
    {
     "name": "stdout",
     "output_type": "stream",
     "text": [
      "Resultados de la comparación del número de mensajes por plan y mes:\n",
      "   plan_name    month  total_messages\n",
      "18  ultimate  2018-07            1937\n",
      "11      surf  2018-12           12275\n",
      "12  ultimate  2018-01              62\n",
      "2       surf  2018-03             351\n",
      "4       surf  2018-05            1849\n"
     ]
    }
   ],
   "source": [
    "# Comprara el número de mensajes que tienden a enviar cada mes los usuarios de cada plan\n",
    "messages_with_users = messages.merge(users, on='user_id', how='left')\n",
    "messages_with_plans = messages_with_users.merge(plans, left_on='plan', right_on='plan_name', how='left')\n",
    "messages_with_plans['message_date'] = pd.to_datetime(messages_with_plans['message_date'])\n",
    "messages_with_plans['month'] = messages_with_plans['message_date'].dt.to_period('M')\n",
    "mensajes_por_plan_y_mes = messages_with_plans.groupby(['plan_name', 'month']).size().reset_index(name='total_messages')\n",
    "print(\"Resultados de la comparación del número de mensajes por plan y mes:\")\n",
    "print(mensajes_por_plan_y_mes.sample(5))\n"
   ]
  },
  {
   "cell_type": "code",
   "execution_count": 130,
   "metadata": {
    "id": "GRI_R7xF0q1L"
   },
   "outputs": [
    {
     "name": "stdout",
     "output_type": "stream",
     "text": [
      "Estadísticas del consumo mensual de Internet por plan:\n",
      "           mean  median   var\n",
      "plan                         \n",
      "surf      15.98    16.4  60.4\n",
      "ultimate  16.73    16.4  59.3\n"
     ]
    }
   ],
   "source": [
    "# Compara la cantidad de tráfico de Internet consumido por usuarios por plan\n",
    "internet_stats = all_data_merged.groupby('plan')['total_mb_used'].sum() / 1024\n",
    "internet_stats_per_plan = all_data_merged.groupby('plan')['gb_used'].agg(['mean', 'median', 'var'])\n",
    "print(\"Estadísticas del consumo mensual de Internet por plan:\")\n",
    "print(internet_stats_per_plan.round(2))"
   ]
  },
  {
   "cell_type": "markdown",
   "metadata": {
    "id": "390SSL480q1M"
   },
   "source": [
    "[Elabora las conclusiones sobre el comportamiento de los usuarios con respecto a los mensajes. ¿Su comportamiento varía en función del plan?]"
   ]
  },
  {
   "cell_type": "code",
   "execution_count": 133,
   "metadata": {
    "id": "dtFwCGAp0q1M"
   },
   "outputs": [
    {
     "name": "stdout",
     "output_type": "stream",
     "text": [
      "Estadísticas del conteo mensual de mensajes por plan:\n",
      "           mean  median      var\n",
      "plan                            \n",
      "surf      30.64    23.0  1130.40\n",
      "ultimate  37.41    30.0  1211.82\n"
     ]
    }
   ],
   "source": [
    "#para responder a esta pregunta ejecutamos el siguiente codigo\n",
    "messages_stats_per_plan = all_data_merged.groupby('plan')['messages_count'].agg(['mean', 'median', 'var'])\n",
    "\n",
    "print(\"Estadísticas del conteo mensual de mensajes por plan:\")\n",
    "print(messages_stats_per_plan.round(2))"
   ]
  },
  {
   "cell_type": "markdown",
   "metadata": {},
   "source": [
    "''' En términos de comportamiento de usuario, el plan ultimate parece estar asociado con un mayor uso de mensajes. Sus usuarios no solo envían más mensajes en promedio, sino que también exhiben una ligera mayor variabilidad en sus patrones de uso, lo que podría deberse a que tienen un límite de mensajes mucho más alto.'''"
   ]
  },
  {
   "cell_type": "markdown",
   "metadata": {
    "id": "42YSypXz0q1M"
   },
   "source": [
    "### Internet"
   ]
  },
  {
   "cell_type": "markdown",
   "metadata": {
    "id": "UN9zwuMP0q1N"
   },
   "source": [
    "[Elabora las conclusiones sobre cómo los usuarios tienden a consumir el tráfico de Internet. ¿Su comportamiento varía en función del plan?]"
   ]
  },
  {
   "cell_type": "markdown",
   "metadata": {
    "id": "5VlyJ9ry0q1N"
   },
   "source": [
    "'''En pocas palabras, el plan no tiene un impacto significativo en la forma en que los usuarios consumen Internet. El comportamiento de los usuarios en el consumo de datos es muy similar en ambos planes, a pesar de que el plan ultimate tiene el doble de datos incluidos. Esto podría sugerir que, para la mayoría de los usuarios, la cantidad de datos ofrecida en el plan surf es suficiente para satisfacer sus necesidades.'''"
   ]
  },
  {
   "cell_type": "markdown",
   "metadata": {
    "id": "tCijq3260q1N"
   },
   "source": [
    "## Ingreso"
   ]
  },
  {
   "cell_type": "markdown",
   "metadata": {
    "id": "9nq5IAcy0q1O"
   },
   "source": [
    "[Del mismo modo que has estudiado el comportamiento de los usuarios, describe estadísticamente los ingresos de los planes.]"
   ]
  },
  {
   "cell_type": "code",
   "execution_count": 134,
   "metadata": {
    "id": "tz-dq_V00q1O"
   },
   "outputs": [
    {
     "name": "stdout",
     "output_type": "stream",
     "text": [
      "Estadísticas de los ingresos mensuales por plan:\n",
      "           mean  median      var\n",
      "plan                            \n",
      "surf      59.41    40.0  2840.51\n",
      "ultimate  72.26    70.0   127.83\n"
     ]
    }
   ],
   "source": [
    "revenue_stats = all_data_merged.groupby('plan')['monthly_revenue'].agg(['mean', 'median', 'var'])\n",
    "\n",
    "print(\"Estadísticas de los ingresos mensuales por plan:\")\n",
    "print(revenue_stats.round(2))"
   ]
  },
  {
   "cell_type": "code",
   "execution_count": 136,
   "metadata": {},
   "outputs": [
    {
     "data": {
      "image/png": "[encoded data removed]",
      "text/plain": [
       "<Figure size 800x600 with 1 Axes>"
      ]
     },
     "metadata": {},
     "output_type": "display_data"
    }
   ],
   "source": [
    "surf_revenue = all_data_merged[all_data_merged['plan'] == 'surf']['monthly_revenue']\n",
    "ultimate_revenue = all_data_merged[all_data_merged['plan'] == 'ultimate']['monthly_revenue']\n",
    "\n",
    "# Prepara los datos en una lista para el diagrama de caja\n",
    "data_to_plot = [surf_revenue, ultimate_revenue]\n",
    "\n",
    "# Crea el diagrama de caja\n",
    "plt.figure(figsize=(8, 6))\n",
    "plt.boxplot(data_to_plot, tick_labels=['Surf', 'Ultimate'])\n",
    "\n",
    "# Añade etiquetas y título\n",
    "plt.title('Distribución de Ingresos Mensuales por Plan', fontsize=16)\n",
    "plt.ylabel('Ingresos mensuales ($)', fontsize=12)\n",
    "plt.xlabel('Plan', fontsize=12)\n",
    "plt.grid(axis='y', linestyle='--', alpha=0.7)\n",
    "plt.tight_layout()\n",
    "\n",
    "# Muestra el gráfico\n",
    "plt.show()"
   ]
  },
  {
   "cell_type": "markdown",
   "metadata": {
    "id": "KAFidcXZ0q1P"
   },
   "source": [
    "[Elabora las conclusiones sobre cómo difiere el ingreso entre los planes.]"
   ]
  },
  {
   "cell_type": "markdown",
   "metadata": {
    "id": "bYmwxyVh0q1P"
   },
   "source": [
    "'''El plan ultimate tiene una tarifa mensual mucho más alta. Aunque su ingreso promedio podría ser mayor, el plan surf puede volverse muy rentable gracias a los cargos por exceso de uso en minutos, mensajes y datos.'''"
   ]
  },
  {
   "cell_type": "markdown",
   "metadata": {
    "id": "ajJ7VKeI0q1Q"
   },
   "source": [
    "## Prueba las hipótesis estadísticas"
   ]
  },
  {
   "cell_type": "markdown",
   "metadata": {
    "id": "AdXAZ-yL0q1Q"
   },
   "source": [
    "[Prueba la hipótesis de que son diferentes los ingresos promedio procedentes de los usuarios de los planes de llamada Ultimate y Surf.]"
   ]
  },
  {
   "cell_type": "markdown",
   "metadata": {
    "id": "IQwa_hsh0q1Q"
   },
   "source": [
    "[Elabora las hipótesis nula y alternativa, escoge la prueba estadística, determina el valor alfa.]"
   ]
  },
  {
   "cell_type": "code",
   "execution_count": 137,
   "metadata": {
    "id": "nFoPNlPq0q1R"
   },
   "outputs": [
    {
     "name": "stdout",
     "output_type": "stream",
     "text": [
      "Valor p: 0.0000\n",
      "Rechazamos la hipótesis nula.\n",
      "Conclusión: Los ingresos promedio de los dos planes son significativamente diferentes.\n"
     ]
    }
   ],
   "source": [
    "# Prueba las hipótesis\n",
    "from scipy import stats\n",
    "\n",
    "surf_revenue = all_data_merged[all_data_merged['plan'] == 'surf']['monthly_revenue']\n",
    "ultimate_revenue = all_data_merged[all_data_merged['plan'] == 'ultimate']['monthly_revenue']\n",
    "\n",
    "alpha = 0.05\n",
    "results = stats.ttest_ind(surf_revenue, ultimate_revenue)\n",
    "\n",
    "print(f'Valor p: {results.pvalue:.4f}')\n",
    "\n",
    "# Evalúa el resultado\n",
    "if results.pvalue < alpha:\n",
    "    print(\"Rechazamos la hipótesis nula.\")\n",
    "    print(\"Conclusión: Los ingresos promedio de los dos planes son significativamente diferentes.\")\n",
    "else:\n",
    "    print(\"No rechazamos la hipótesis nula.\")\n",
    "    print(\"Conclusión: No hay evidencia suficiente para decir que los ingresos promedio de los dos planes son significativamente diferentes.\")\n"
   ]
  },
  {
   "cell_type": "markdown",
   "metadata": {
    "id": "tCcAruM60q1R"
   },
   "source": [
    "[Prueba la hipótesis de que el ingreso promedio de los usuarios del área NY-NJ es diferente al de los usuarios de otras regiones.]"
   ]
  },
  {
   "cell_type": "code",
   "execution_count": 140,
   "metadata": {},
   "outputs": [
    {
     "name": "stdout",
     "output_type": "stream",
     "text": [
      "Valor p: 0.0490\n",
      "Rechazamos la hipótesis nula.\n",
      "Conclusión: Los ingresos promedio de los usuarios del área NY-NJ y los de otras regiones son significativamente diferentes.\n"
     ]
    }
   ],
   "source": [
    "all_data_merged['monthly_revenue'] = all_data_merged['monthly_revenue'].fillna(0)\n",
    "\n",
    "ny_nj_mask = all_data_merged['city'].str.contains('NY-NJ', na=False)\n",
    "\n",
    "ny_nj_revenue = all_data_merged[ny_nj_mask]['monthly_revenue']\n",
    "\n",
    "other_regions_revenue = all_data_merged[~ny_nj_mask]['monthly_revenue']\n",
    "alpha = 0.05\n",
    "results = stats.ttest_ind(ny_nj_revenue, other_regions_revenue, equal_var=False)\n",
    "\n",
    "print(f'Valor p: {results.pvalue:.4f}')\n",
    "\n",
    "if results.pvalue < alpha:\n",
    "    print(\"Rechazamos la hipótesis nula.\")\n",
    "    print(\"Conclusión: Los ingresos promedio de los usuarios del área NY-NJ y los de otras regiones son significativamente diferentes.\")\n",
    "else:\n",
    "    print(\"No rechazamos la hipótesis nula.\")\n",
    "    print(\"Conclusión: No hay evidencia suficiente para decir que los ingresos promedio de los usuarios del área NY-NJ y los de otras regiones son significativamente diferentes.\")"
   ]
  },
  {
   "cell_type": "markdown",
   "metadata": {
    "id": "LsBgitqj0q1R"
   },
   "source": [
    "[Elabora las hipótesis nula y alternativa, escoge la prueba estadística, determina el valor alfa.]"
   ]
  },
  {
   "cell_type": "code",
   "execution_count": 142,
   "metadata": {
    "id": "Cqcj7wrZ0q1S"
   },
   "outputs": [
    {
     "name": "stdout",
     "output_type": "stream",
     "text": [
      "Valor p: 0.4255\n",
      "\n",
      "No rechazamos la hipótesis nula.\n",
      "Conclusión: No hay evidencia suficiente para decir que los usuarios del plan Surf hacen más llamadas que los del plan Ultimate.\n"
     ]
    }
   ],
   "source": [
    "# Prueba las hipótesis\n",
    "surf_calls = all_data_merged[all_data_merged['plan'] == 'surf']['total_duration']\n",
    "ultimate_calls = all_data_merged[all_data_merged['plan'] == 'ultimate']['total_duration']\n",
    "\n",
    "alpha = 0.05\n",
    "results = stats.ttest_ind(\n",
    "    surf_calls,\n",
    "    ultimate_calls,\n",
    "    equal_var=False,\n",
    "    alternative='greater'\n",
    ")\n",
    "\n",
    "print(f'Valor p: {results.pvalue:.4f}')\n",
    "\n",
    "if results.pvalue < alpha:\n",
    "    print(\"\\nRechazamos la hipótesis nula.\")\n",
    "    print(\"Conclusión: Los usuarios del plan Surf hacen, en promedio, más llamadas que los del plan Ultimate.\")\n",
    "else:\n",
    "    print(\"\\nNo rechazamos la hipótesis nula.\")\n",
    "    print(\"Conclusión: No hay evidencia suficiente para decir que los usuarios del plan Surf hacen más llamadas que los del plan Ultimate.\")"
   ]
  },
  {
   "cell_type": "markdown",
   "metadata": {
    "id": "bbTR8UQO0q1T"
   },
   "source": [
    "## Conclusión general\n",
    "\n",
    "[En esta sección final, enumera tus conclusiones importantes. Asegúrate de que estas abarquen todas las decisiones (suposiciones) importantes que adoptaste y que determinaron la forma elegida para procesar y analizar los datos.]"
   ]
  },
  {
   "cell_type": "markdown",
   "metadata": {},
   "source": [
    "Los planes de llamadas Ultimate y Surf son bastante similares en cómo los usuarios los usan. Aquí están mis conclusiones clave:\n",
    "\n",
    "El uso es similar, pero los ingresos son diferentes\n",
    "\n",
    "Llamadas e Internet: Los usuarios de ambos planes usan una cantidad similar de minutos y datos al mes. Esto me dice que el plan que tienen no es lo que define su consumo.\n",
    "Mensajes: Los usuarios del plan Ultimate envían un poco más de mensajes en promedio, lo cual tiene sentido, ya que su plan incluye muchos más.\n",
    "Ingresos: Aunque el plan Ultimate es más caro, el plan Surf puede generar ingresos extra por cargos de exceso. Sin embargo, el plan Ultimate tiene ingresos más estables, mientras que los del plan Surf son más impredecibles. Nuestras pruebas estadísticas confirman que la diferencia de ingresos promedio entre los dos planes es real.\n",
    "\n",
    "-Mis decisiones clave\n",
    "\n",
    "Para llegar a estas conclusiones, tuve que tomar algunas decisiones importantes:\n",
    "Ingresos totales: Calculé los ingresos de cada usuario sumando la tarifa mensual y todos los cargos por exceso (minutos, mensajes y datos).\n",
    "Datos faltantes: Asumí que cuando un dato faltaba, significaba que no hubo actividad, así que lo rellené con `0`.\n",
    "Pruebas estadísticas: Usé la prueba t de Student para verificar si las diferencias que vi en los ingresos eran reales o solo coincidencias."
   ]
  }
 ],
 "metadata": {
  "ExecuteTimeLog": [
   {
    "duration": 828,
    "start_time": "2021-11-16T09:21:11.304Z"
   },
   {
    "duration": 893,
    "start_time": "2021-11-16T09:21:17.728Z"
   },
   {
    "duration": 1150,
    "start_time": "2021-11-16T09:21:29.568Z"
   },
   {
    "duration": 3,
    "start_time": "2021-11-16T09:24:14.495Z"
   },
   {
    "duration": 120,
    "start_time": "2021-11-16T09:24:46.630Z"
   },
   {
    "duration": 3,
    "start_time": "2021-11-16T09:28:27.882Z"
   },
   {
    "duration": 4,
    "start_time": "2021-11-16T09:29:54.281Z"
   },
   {
    "duration": 3,
    "start_time": "2021-11-16T09:30:45.936Z"
   },
   {
    "duration": 4,
    "start_time": "2021-11-16T09:31:06.300Z"
   },
   {
    "duration": 113,
    "start_time": "2021-11-16T09:31:37.208Z"
   },
   {
    "duration": 143,
    "start_time": "2021-11-16T09:31:48.656Z"
   },
   {
    "duration": 98,
    "start_time": "2021-11-16T09:31:55.678Z"
   },
   {
    "duration": 3,
    "start_time": "2021-11-16T09:32:08.535Z"
   },
   {
    "duration": 111,
    "start_time": "2021-11-16T09:32:10.120Z"
   },
   {
    "duration": 3,
    "start_time": "2021-11-16T09:32:15.732Z"
   },
   {
    "duration": 4,
    "start_time": "2021-11-16T09:32:29.423Z"
   },
   {
    "duration": 3,
    "start_time": "2021-11-16T10:03:03.074Z"
   },
   {
    "duration": 3,
    "start_time": "2021-11-16T10:10:01.288Z"
   },
   {
    "duration": 3,
    "start_time": "2021-11-16T10:10:46.923Z"
   },
   {
    "duration": 121,
    "start_time": "2021-11-16T10:37:46.494Z"
   },
   {
    "duration": 125,
    "start_time": "2021-11-16T10:38:20.632Z"
   },
   {
    "duration": 112,
    "start_time": "2021-11-16T10:46:53.001Z"
   },
   {
    "duration": 110,
    "start_time": "2021-11-16T10:48:25.775Z"
   },
   {
    "duration": 3,
    "start_time": "2021-11-16T10:50:18.720Z"
   },
   {
    "duration": 4,
    "start_time": "2021-11-16T10:50:37.649Z"
   },
   {
    "duration": 2,
    "start_time": "2021-11-16T10:50:51.884Z"
   },
   {
    "duration": 3,
    "start_time": "2021-11-16T10:51:56.237Z"
   },
   {
    "duration": 101,
    "start_time": "2021-11-16T10:53:13.791Z"
   },
   {
    "duration": 3,
    "start_time": "2021-11-16T10:55:59.186Z"
   },
   {
    "duration": 3,
    "start_time": "2021-11-16T10:56:10.751Z"
   },
   {
    "duration": 3,
    "start_time": "2021-11-16T10:56:49.038Z"
   },
   {
    "duration": 3,
    "start_time": "2021-11-16T10:56:49.174Z"
   },
   {
    "duration": 4,
    "start_time": "2021-11-16T10:56:49.414Z"
   },
   {
    "duration": 3,
    "start_time": "2021-11-16T10:56:49.680Z"
   },
   {
    "duration": 3,
    "start_time": "2021-11-16T10:56:50.370Z"
   },
   {
    "duration": 114,
    "start_time": "2021-11-16T10:59:34.518Z"
   },
   {
    "duration": 3,
    "start_time": "2021-11-16T11:01:41.201Z"
   },
   {
    "duration": 116,
    "start_time": "2021-11-16T11:01:48.754Z"
   },
   {
    "duration": 3,
    "start_time": "2021-11-16T11:02:16.685Z"
   },
   {
    "duration": 3,
    "start_time": "2021-11-16T11:02:19.479Z"
   },
   {
    "duration": 3,
    "start_time": "2021-11-16T11:02:47.067Z"
   },
   {
    "duration": 3,
    "start_time": "2021-11-16T11:02:49.353Z"
   },
   {
    "duration": 3,
    "start_time": "2021-11-16T11:03:07.835Z"
   },
   {
    "duration": 3,
    "start_time": "2021-11-16T11:03:07.953Z"
   },
   {
    "duration": 112,
    "start_time": "2021-11-16T11:07:52.072Z"
   },
   {
    "duration": 187,
    "start_time": "2021-11-16T11:09:23.468Z"
   },
   {
    "duration": 4,
    "start_time": "2021-11-16T11:10:01.455Z"
   },
   {
    "duration": 3,
    "start_time": "2021-11-16T11:10:05.069Z"
   },
   {
    "duration": 4,
    "start_time": "2021-11-16T11:10:13.376Z"
   },
   {
    "duration": 3,
    "start_time": "2021-11-16T11:10:14.434Z"
   },
   {
    "duration": 3,
    "start_time": "2021-11-16T11:10:22.853Z"
   },
   {
    "duration": 4,
    "start_time": "2021-11-16T11:27:29.279Z"
   },
   {
    "duration": 4,
    "start_time": "2021-11-16T11:29:08.919Z"
   },
   {
    "duration": 118,
    "start_time": "2021-11-16T11:29:46.703Z"
   },
   {
    "duration": 437,
    "start_time": "2021-11-16T11:36:02.181Z"
   },
   {
    "duration": 157,
    "start_time": "2021-11-16T11:36:14.388Z"
   },
   {
    "duration": 207,
    "start_time": "2021-11-16T11:47:15.898Z"
   },
   {
    "duration": 3,
    "start_time": "2021-11-16T11:53:52.092Z"
   },
   {
    "duration": 3,
    "start_time": "2021-11-16T11:53:52.236Z"
   },
   {
    "duration": 3,
    "start_time": "2021-11-16T11:59:12.005Z"
   },
   {
    "duration": 112,
    "start_time": "2021-11-16T12:00:33.446Z"
   },
   {
    "duration": 3,
    "start_time": "2021-11-16T12:02:14.453Z"
   },
   {
    "duration": 3,
    "start_time": "2021-11-16T12:02:39.512Z"
   },
   {
    "duration": 106,
    "start_time": "2021-11-16T12:03:03.460Z"
   },
   {
    "duration": 3,
    "start_time": "2021-11-17T20:37:21.139Z"
   },
   {
    "duration": 3,
    "start_time": "2021-11-17T20:37:22.229Z"
   },
   {
    "duration": 3,
    "start_time": "2021-11-17T20:38:38.806Z"
   },
   {
    "duration": 3,
    "start_time": "2021-11-17T20:38:41.958Z"
   },
   {
    "duration": 3,
    "start_time": "2021-11-17T20:43:46.551Z"
   },
   {
    "duration": 4,
    "start_time": "2021-11-17T20:58:21.835Z"
   },
   {
    "duration": 3,
    "start_time": "2021-11-17T20:59:21.872Z"
   },
   {
    "duration": 4,
    "start_time": "2021-11-17T20:59:45.352Z"
   },
   {
    "duration": 4,
    "start_time": "2021-11-17T20:59:49.646Z"
   },
   {
    "duration": 159,
    "start_time": "2021-11-17T21:02:26.949Z"
   },
   {
    "duration": 3,
    "start_time": "2021-11-17T21:03:53.461Z"
   },
   {
    "duration": 3,
    "start_time": "2021-11-17T21:03:53.694Z"
   },
   {
    "duration": 3,
    "start_time": "2021-11-17T21:05:28.145Z"
   },
   {
    "duration": 116,
    "start_time": "2021-11-17T21:05:57.787Z"
   },
   {
    "duration": 3,
    "start_time": "2021-11-17T21:06:37.993Z"
   },
   {
    "duration": 3,
    "start_time": "2021-11-17T21:06:38.261Z"
   },
   {
    "duration": 3,
    "start_time": "2021-11-17T21:11:54.358Z"
   },
   {
    "duration": 3,
    "start_time": "2021-11-17T21:12:43.846Z"
   },
   {
    "duration": 4,
    "start_time": "2021-11-17T21:13:08.773Z"
   },
   {
    "duration": 3,
    "start_time": "2021-11-17T21:14:44.441Z"
   },
   {
    "duration": 3,
    "start_time": "2021-11-17T21:15:42.059Z"
   },
   {
    "duration": 4,
    "start_time": "2021-11-17T21:15:51.995Z"
   },
   {
    "duration": 3,
    "start_time": "2021-11-17T21:15:53.923Z"
   },
   {
    "duration": 3,
    "start_time": "2021-11-17T21:15:55.282Z"
   },
   {
    "duration": 3,
    "start_time": "2021-11-17T21:16:28.492Z"
   },
   {
    "duration": 3,
    "start_time": "2021-11-17T21:16:32.603Z"
   },
   {
    "duration": 3,
    "start_time": "2021-11-17T21:17:06.941Z"
   },
   {
    "duration": 98,
    "start_time": "2021-11-17T21:18:05.733Z"
   },
   {
    "duration": 4,
    "start_time": "2021-11-17T21:21:35.255Z"
   },
   {
    "duration": 3,
    "start_time": "2021-11-17T21:21:37.804Z"
   },
   {
    "duration": 4,
    "start_time": "2021-11-17T21:23:06.071Z"
   },
   {
    "duration": 3,
    "start_time": "2021-11-17T21:23:24.799Z"
   },
   {
    "duration": 3,
    "start_time": "2021-11-17T21:23:32.591Z"
   },
   {
    "duration": 98,
    "start_time": "2021-11-17T21:28:31.559Z"
   },
   {
    "duration": 3,
    "start_time": "2021-11-17T21:28:45.448Z"
   },
   {
    "duration": 3,
    "start_time": "2021-11-17T21:29:17.303Z"
   },
   {
    "duration": 3,
    "start_time": "2021-11-17T21:29:29.617Z"
   },
   {
    "duration": 3,
    "start_time": "2021-11-17T21:29:32.681Z"
   },
   {
    "duration": 3,
    "start_time": "2021-11-17T21:36:11.474Z"
   },
   {
    "duration": 3,
    "start_time": "2021-11-17T21:36:14.791Z"
   },
   {
    "duration": 3,
    "start_time": "2021-11-17T21:36:53.943Z"
   },
   {
    "duration": 3,
    "start_time": "2021-11-17T21:36:56.165Z"
   },
   {
    "duration": 4,
    "start_time": "2021-11-17T21:37:16.590Z"
   },
   {
    "duration": 3,
    "start_time": "2021-11-17T21:37:22.702Z"
   },
   {
    "duration": 4,
    "start_time": "2021-11-17T21:38:03.479Z"
   },
   {
    "duration": 3,
    "start_time": "2021-11-17T21:38:08.601Z"
   },
   {
    "duration": 3,
    "start_time": "2021-11-17T21:38:12.928Z"
   },
   {
    "duration": 3,
    "start_time": "2021-11-17T21:38:48.896Z"
   },
   {
    "duration": 2,
    "start_time": "2021-11-17T21:38:49.171Z"
   },
   {
    "duration": 4,
    "start_time": "2021-11-17T21:39:57.889Z"
   },
   {
    "duration": 3,
    "start_time": "2021-11-17T21:39:58.057Z"
   },
   {
    "duration": 3,
    "start_time": "2021-11-17T21:41:20.108Z"
   },
   {
    "duration": 3,
    "start_time": "2021-11-17T21:41:20.629Z"
   },
   {
    "duration": 3,
    "start_time": "2021-11-17T21:42:49.136Z"
   },
   {
    "duration": 3,
    "start_time": "2021-11-17T21:43:15.137Z"
   },
   {
    "duration": 4,
    "start_time": "2021-11-17T21:43:16.766Z"
   },
   {
    "duration": 4,
    "start_time": "2021-11-17T21:43:31.711Z"
   },
   {
    "duration": 3,
    "start_time": "2021-11-17T21:43:36.312Z"
   },
   {
    "duration": 4,
    "start_time": "2021-11-17T21:45:08.825Z"
   },
   {
    "duration": 4,
    "start_time": "2021-11-17T21:45:10.119Z"
   },
   {
    "duration": 4,
    "start_time": "2021-11-17T21:45:13.748Z"
   },
   {
    "duration": 3,
    "start_time": "2021-11-17T21:45:22.219Z"
   },
   {
    "duration": 3,
    "start_time": "2021-11-17T21:45:33.412Z"
   },
   {
    "duration": 2,
    "start_time": "2021-11-17T21:46:01.885Z"
   },
   {
    "duration": 3,
    "start_time": "2021-11-17T21:46:03.628Z"
   },
   {
    "duration": 107,
    "start_time": "2021-11-17T21:47:32.512Z"
   },
   {
    "duration": 103,
    "start_time": "2021-11-17T21:50:36.243Z"
   },
   {
    "duration": 3,
    "start_time": "2021-11-18T06:28:31.440Z"
   },
   {
    "duration": 3,
    "start_time": "2021-11-18T06:29:00.168Z"
   },
   {
    "duration": 3,
    "start_time": "2021-11-18T06:31:27.008Z"
   },
   {
    "duration": 2,
    "start_time": "2021-11-18T06:35:34.288Z"
   },
   {
    "duration": 2,
    "start_time": "2021-11-18T06:38:04.527Z"
   }
  ],
  "colab": {
   "provenance": []
  },
  "kernelspec": {
   "display_name": "Python 3 (ipykernel)",
   "language": "python",
   "name": "python3"
  },
  "language_info": {
   "codemirror_mode": {
    "name": "ipython",
    "version": 3
   },
   "file_extension": ".py",
   "mimetype": "text/x-python",
   "name": "python",
   "nbconvert_exporter": "python",
   "pygments_lexer": "ipython3",
   "version": "3.12.5"
  },
  "toc": {
   "base_numbering": 1,
   "nav_menu": {},
   "number_sections": true,
   "sideBar": true,
   "skip_h1_title": false,
   "title_cell": "Table of Contents",
   "title_sidebar": "Contents",
   "toc_cell": false,
   "toc_position": {},
   "toc_section_display": true,
   "toc_window_display": true
  }
 },
 "nbformat": 4,
 "nbformat_minor": 4
}
